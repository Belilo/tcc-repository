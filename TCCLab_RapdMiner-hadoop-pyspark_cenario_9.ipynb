{
 "cells": [
  {
   "cell_type": "code",
   "execution_count": 2,
   "id": "0daf8ccb",
   "metadata": {
    "scrolled": true
   },
   "outputs": [
    {
     "data": {
      "text/plain": [
       "'C:\\\\Spark'"
      ]
     },
     "execution_count": 2,
     "metadata": {},
     "output_type": "execute_result"
    }
   ],
   "source": [
    "import findspark\n",
    "findspark.init()\n",
    "findspark.find()"
   ]
  },
  {
   "cell_type": "code",
   "execution_count": 3,
   "id": "2b72e820",
   "metadata": {
    "scrolled": true
   },
   "outputs": [],
   "source": [
    "#Bibliotecas:\n",
    "## Pyspark:\n",
    "import pyspark\n",
    "from pyspark import SparkConf, SparkContext\n",
    "from pyspark.sql import SparkSession\n",
    "from pyspark.sql import functions as f\n",
    "from pyspark.sql import types as t\n",
    "from pyspark.ml import Pipeline\n",
    "from pyspark.ml.classification import DecisionTreeClassifier,NaiveBayes,RandomForestClassifier\n",
    "from pyspark.ml.feature import StringIndexer,OneHotEncoder,VectorAssembler,StandardScaler\n",
    "from pyspark.ml.evaluation import MulticlassClassificationEvaluator, BinaryClassificationEvaluator\n",
    "from pyspark.ml.tuning import CrossValidator, ParamGridBuilder\n",
    "from pyspark.mllib.evaluation import MulticlassMetrics\n",
    "\n",
    "## Outras libs:\n",
    "import os\n",
    "import numpy as np\n",
    "import pandas as pd\n",
    "from pandas.plotting import scatter_matrix\n",
    "\n",
    "#Matriz de Confusao / Graficos\n",
    "import seaborn as sns\n",
    "import matplotlib.pyplot as plt\n",
    "import matplotlib.ticker as mtick\n",
    "import matplotlib\n",
    "from sklearn.metrics import confusion_matrix, classification_report,roc_curve,roc_auc_score"
   ]
  },
  {
   "cell_type": "code",
   "execution_count": 4,
   "id": "e466ba26",
   "metadata": {
    "scrolled": true
   },
   "outputs": [],
   "source": [
    "\n",
    "conf = SparkConf().setAppName(\"BigdataTccLabhadooppyspark_c9_003\").setMaster(\"local[*]\").set(\"spark.executor.memory\", \"12g\") \\\n",
    "                  .set(\"spark.driver.memory\", \"6g\") \\\n",
    "                  .set(\"spark.executor.cores\", \"3\").set(\"spark.executor.instances\", \"8\")  \n",
    "sc = SparkContext(conf=conf)\n",
    "spark = SparkSession.builder.getOrCreate()\n"
   ]
  },
  {
   "cell_type": "code",
   "execution_count": 4,
   "id": "2e3ab2a0",
   "metadata": {
    "scrolled": true
   },
   "outputs": [],
   "source": [
    "#Conexao com apache hadoop e carregamento do dadosarmazenados no HDFS \n",
    "hdfs_caminho = \"hdfs://localhost:9000/user/belilo/ctu13/cenario9.csv\"\n",
    "df = spark.read.csv(hdfs_caminho, header=True, inferSchema=True)"
   ]
  },
  {
   "cell_type": "code",
   "execution_count": 5,
   "id": "75e79920",
   "metadata": {
    "scrolled": true
   },
   "outputs": [
    {
     "name": "stdout",
     "output_type": "stream",
     "text": [
      "+----------+---+-----+-----+-----+-------+-----------+----+----+-------+---------+---------+\n",
      "|     Label|Dir|Sport|Proto|Dport|  State|        Dur|sTos|dTos|TotPkts| TotBytes| SrcBytes|\n",
      "+----------+---+-----+-----+-----+-------+-----------+----+----+-------+---------+---------+\n",
      "|Background|<->| 6881|  udp| 6881|    CON|1823.088379|   0|   0|      2|      214|      107|\n",
      "|Background|<->| 6881|  udp| 6881|    CON|2005.431641|   0|   0|      2|      214|      107|\n",
      "|Background|<->| 6881|  udp| 6881|    CON|1973.646729|   0|   0|      2|      214|      107|\n",
      "|Background|<->|35248|  udp|16200|    CON|3599.997803|   0|   0| 409227|207547419|182657149|\n",
      "|Background|<?>|   80|  tcp|59067|  RA_PA|2059.387451|   0|   0| 224275|266462578|  3199174|\n",
      "|Background|<?>| 1176|  tcp|   80| FPA_FA|  14.998429|   0|   0|      8|     3145|     2965|\n",
      "|Background|<?>|54145|  tcp|56950| RPA_PA|  28.917549|   0|   0|   6021|  5651087|   138137|\n",
      "|Background|<?>|   80|  tcp|59066|  RA_PA| 2021.74353|   0|   0| 238990|284140836|  3402844|\n",
      "|Background|<?>|51505|  tcp|  443|FPA_RPA|   0.001742|   0|   0|      5|      606|      455|\n",
      "|Background|<?>|   80|  tcp|64872| RA_FPA| 196.055695|   0|   0|   6175|  5977561|   134036|\n",
      "|Background|<?>|61743|  tcp|   80| FPA_FA|3397.838379|   0|   0|  94719| 60612292| 58357732|\n",
      "|Background| ->| 6881|  tcp| 3926|   S_RA|   1.204515|   0|   0|      6|      366|      186|\n",
      "|Background|<->|13363|  udp|40335|    CON| 686.772705|   0|   0|      4|      268|      148|\n",
      "|Background|<?>|59231|  tcp| 8000|  PA_RA| 1837.57312|   0|   0|  57734| 47847900| 46268478|\n",
      "|Background|<->|28448|  udp|13363|    CON|2653.336182|   0|   0|     11|     1401|      308|\n",
      "|    Normal|<?>|  443|  tcp|46402|FPA_FPA|1752.578735|   0|   0|    467|   274517|    79210|\n",
      "|Background|<?>|60573|  tcp| 3389| PA_RPA|2636.988525|   0|   0|  15456|  3996551|  3541110|\n",
      "|Background|<?>|60041|  tcp|   80| FPA_FA|   0.895833|   0|   0|     80|    75241|    73261|\n",
      "|Background|<?>|50417|  tcp|51932| FA_FPA| 696.409363|   0|   0| 355172|362113748|  8220210|\n",
      "|Background|<?>|   80|  tcp|59064|  RA_PA|2021.699219|   0|   0| 169507|200895322|  2432572|\n",
      "+----------+---+-----+-----+-----+-------+-----------+----+----+-------+---------+---------+\n",
      "only showing top 20 rows\n",
      "\n"
     ]
    }
   ],
   "source": [
    "df.show()"
   ]
  },
  {
   "cell_type": "code",
   "execution_count": 6,
   "id": "e9cf5417",
   "metadata": {
    "scrolled": true
   },
   "outputs": [
    {
     "name": "stdout",
     "output_type": "stream",
     "text": [
      "root\n",
      " |-- Label: string (nullable = true)\n",
      " |-- Dir: string (nullable = true)\n",
      " |-- Sport: string (nullable = true)\n",
      " |-- Proto: string (nullable = true)\n",
      " |-- Dport: string (nullable = true)\n",
      " |-- State: string (nullable = true)\n",
      " |-- Dur: double (nullable = true)\n",
      " |-- sTos: integer (nullable = true)\n",
      " |-- dTos: integer (nullable = true)\n",
      " |-- TotPkts: integer (nullable = true)\n",
      " |-- TotBytes: long (nullable = true)\n",
      " |-- SrcBytes: integer (nullable = true)\n",
      "\n"
     ]
    }
   ],
   "source": [
    "df.printSchema()"
   ]
  },
  {
   "cell_type": "code",
   "execution_count": 4,
   "id": "e6a240b2",
   "metadata": {
    "scrolled": true
   },
   "outputs": [],
   "source": [
    "# PREPROCESSAMENTO\n",
    "def renomear_atributos(df):\n",
    "    df = df.withColumnRenamed('Proto','protocolo').withColumnRenamed('Sport','PortaOrigem').withColumnRenamed('Dir','Direcao')\\\n",
    "        .withColumnRenamed('Dport','PortaDestino').withColumnRenamed('State','Estado').withColumnRenamed('Dur','Duracao')\\\n",
    "        .withColumnRenamed('Label',\"Rotulo\")\n",
    "    return df\n",
    "\n",
    "def alterar_tipo_string_int(df):\n",
    "    df = df.withColumn('PortaOrigem',f.col('Portaorigem').cast(t.IntegerType()))\\\n",
    "        .withColumn('PortaDestino',f.col('PortaDestino').cast(t.IntegerType()))\n",
    "    return df\n",
    "\n",
    "def verificaNullCol(df):\n",
    "  for coluna in df.columns:\n",
    "      print(coluna,\" : \", df.filter(df[coluna].isNull()).count())\n",
    "\n",
    "\n",
    "def preencher_nulos_com_moda(df):\n",
    "   # A impressao dos valores mostra o valor mais frequente (a moda) em cda uma das colunas que posuem dados nulos\n",
    "  print(\"Nome da coluna : O valor com maior frequencia (Moda)\")\n",
    "  for coluna in df.columns:\n",
    "      if df.filter(df[coluna].isNull()).count() != 0:\n",
    "          count_mode_val = df.groupBy(coluna).count().filter(f.col(coluna).isNotNull())\\\n",
    "                              .agg(f.max(\"count\")).collect()[0][0]\n",
    "          mode_val = df.groupBy(coluna).count().filter(f.col(coluna).isNotNull())\\\n",
    "                              .filter(f.col(\"count\") == count_mode_val).select(coluna).collect()[0][0]\n",
    "\n",
    "          print(coluna,\" : \", mode_val)\n",
    "          df=df.na.fill(mode_val,subset=[coluna])\n",
    "  return df\n",
    "\n",
    "\n",
    "#Funcao responsavel por verificar dados distentos em cada atrubuto\n",
    "def mostrar_dados_distntos_atributos(df):\n",
    "  df.createOrReplaceTempView(\"tabela\")\n",
    "  spark.sql(\"SELECT DISTINCT Duracao from tabela\").show()\n",
    "  spark.sql(\"SELECT DISTINCT protocolo from tabela\").show()\n",
    "  spark.sql(\"SELECT DISTINCT PortaOrigem from tabela\").show()\n",
    "  spark.sql(\"SELECT DISTINCT Direcao from tabela\").show()\n",
    "  spark.sql(\"SELECT DISTINCT PortaDestino from tabela\").show()\n",
    "  spark.sql(\"SELECT DISTINCT Estado from tabela\").show()\n",
    "  spark.sql(\"SELECT DISTINCT sTos from tabela\").show()\n",
    "  spark.sql(\"SELECT DISTINCT dTos from tabela\").show()\n",
    "  spark.sql(\"SELECT DISTINCT TotPkts from tabela\").show()\n",
    "  spark.sql(\"SELECT DISTINCT TotBytes from tabela\").show()\n",
    "  spark.sql(\"SELECT DISTINCT SrcBytes from tabela\").show()\n",
    "  spark.sql(\"SELECT DISTINCT Rotulo from tabela\").show()\n",
    "\n",
    "# Funcao responsavel por tratar ruido no atributo Direcao\n",
    "def tratar_ruido(df):\n",
    "  df.createOrReplaceTempView(\"tabela\")\n",
    "  df=spark.sql(\"SELECT Duracao, protocolo, PortaOrigem, REPLACE(Direcao, '?', '-') as Direcao, PortaDestino, Estado\\\n",
    "            ,sTos, dTos, TotPkts, TotBytes, SrcBytes, Rotulo  from tabela\")\n",
    "  return df\n",
    "\n",
    "# Funcao usada para tornar o dataset com duas classes\n",
    "def transformarClassBackgroud_normal(df):\n",
    "    df.createOrReplaceTempView(\"tabela\")\n",
    "    df = spark.sql(\"SELECT Duracao, protocolo, PortaOrigem, Direcao, PortaDestino, Estado, \\\n",
    "                   sTos, dTos, TotPkts, TotBytes, SrcBytes, \\\n",
    "                   REPLACE(Rotulo, 'Background', 'Normal') as Rotulo  from tabela\")\n",
    "    return df\n",
    "\n",
    "#Funcao Responsavel por eliinar linhas Repetidas / Duplicadas\n",
    "def eliminarDuplicates(df):\n",
    " df=df.dropDuplicates()\n",
    " return df"
   ]
  },
  {
   "cell_type": "code",
   "execution_count": 7,
   "id": "ca34f211",
   "metadata": {
    "scrolled": true
   },
   "outputs": [
    {
     "name": "stdout",
     "output_type": "stream",
     "text": [
      "+----------+-------+-----------+---------+------------+------+-----------+----+----+-------+--------+--------+\n",
      "|    Rotulo|Direcao|PortaOrigem|protocolo|PortaDestino|Estado|    Duracao|sTos|dTos|TotPkts|TotBytes|SrcBytes|\n",
      "+----------+-------+-----------+---------+------------+------+-----------+----+----+-------+--------+--------+\n",
      "|Background|    <->|       6881|      udp|        6881|   CON|1823.088379|   0|   0|      2|     214|     107|\n",
      "|Background|    <->|       6881|      udp|        6881|   CON|2005.431641|   0|   0|      2|     214|     107|\n",
      "+----------+-------+-----------+---------+------------+------+-----------+----+----+-------+--------+--------+\n",
      "only showing top 2 rows\n",
      "\n",
      "root\n",
      " |-- Rotulo: string (nullable = true)\n",
      " |-- Direcao: string (nullable = true)\n",
      " |-- PortaOrigem: string (nullable = true)\n",
      " |-- protocolo: string (nullable = true)\n",
      " |-- PortaDestino: string (nullable = true)\n",
      " |-- Estado: string (nullable = true)\n",
      " |-- Duracao: double (nullable = true)\n",
      " |-- sTos: integer (nullable = true)\n",
      " |-- dTos: integer (nullable = true)\n",
      " |-- TotPkts: integer (nullable = true)\n",
      " |-- TotBytes: long (nullable = true)\n",
      " |-- SrcBytes: integer (nullable = true)\n",
      "\n"
     ]
    }
   ],
   "source": [
    "df = renomear_atributos(df)\n",
    "df.show(2)\n",
    "\n",
    "df.printSchema()\n"
   ]
  },
  {
   "cell_type": "code",
   "execution_count": 8,
   "id": "bd2a47f6",
   "metadata": {
    "scrolled": true
   },
   "outputs": [
    {
     "name": "stdout",
     "output_type": "stream",
     "text": [
      "root\n",
      " |-- Rotulo: string (nullable = true)\n",
      " |-- Direcao: string (nullable = true)\n",
      " |-- PortaOrigem: integer (nullable = true)\n",
      " |-- protocolo: string (nullable = true)\n",
      " |-- PortaDestino: integer (nullable = true)\n",
      " |-- Estado: string (nullable = true)\n",
      " |-- Duracao: double (nullable = true)\n",
      " |-- sTos: integer (nullable = true)\n",
      " |-- dTos: integer (nullable = true)\n",
      " |-- TotPkts: integer (nullable = true)\n",
      " |-- TotBytes: long (nullable = true)\n",
      " |-- SrcBytes: integer (nullable = true)\n",
      "\n"
     ]
    }
   ],
   "source": [
    "df= alterar_tipo_string_int(df)\n",
    "df.printSchema()"
   ]
  },
  {
   "cell_type": "code",
   "execution_count": 10,
   "id": "57f9cd48",
   "metadata": {
    "scrolled": true
   },
   "outputs": [
    {
     "name": "stdout",
     "output_type": "stream",
     "text": [
      "Rotulo  :  0\n",
      "Direcao  :  0\n",
      "PortaOrigem  :  24470\n",
      "protocolo  :  0\n",
      "PortaDestino  :  23862\n",
      "Estado  :  3\n",
      "Duracao  :  0\n",
      "sTos  :  9031\n",
      "dTos  :  173232\n",
      "TotPkts  :  0\n",
      "TotBytes  :  0\n",
      "SrcBytes  :  0\n"
     ]
    }
   ],
   "source": [
    "verificaNullCol(df)"
   ]
  },
  {
   "cell_type": "code",
   "execution_count": 11,
   "id": "982cef9f",
   "metadata": {
    "scrolled": true
   },
   "outputs": [
    {
     "name": "stdout",
     "output_type": "stream",
     "text": [
      "Nome da coluna : O valor com maior frequencia (Moda)\n",
      "PortaOrigem  :  53\n",
      "PortaDestino  :  13363\n",
      "Estado  :  CON\n",
      "sTos  :  0\n",
      "dTos  :  0\n"
     ]
    }
   ],
   "source": [
    "df = preencher_nulos_com_moda(df)"
   ]
  },
  {
   "cell_type": "code",
   "execution_count": 12,
   "id": "9d13d187",
   "metadata": {
    "scrolled": true
   },
   "outputs": [
    {
     "name": "stdout",
     "output_type": "stream",
     "text": [
      "+-----------+\n",
      "|    Duracao|\n",
      "+-----------+\n",
      "|   6.940647|\n",
      "|2934.411621|\n",
      "| 148.079163|\n",
      "|3542.162598|\n",
      "|2935.303711|\n",
      "|    3.71E-4|\n",
      "|  16.357012|\n",
      "|3599.464844|\n",
      "|     7.5E-4|\n",
      "|   0.130722|\n",
      "| 191.274338|\n",
      "|   0.336695|\n",
      "|   2.020986|\n",
      "|3176.427979|\n",
      "|   0.327814|\n",
      "|3049.628174|\n",
      "|   0.114029|\n",
      "|  19.934669|\n",
      "|  18.339931|\n",
      "|3006.249512|\n",
      "+-----------+\n",
      "only showing top 20 rows\n",
      "\n",
      "+---------+\n",
      "|protocolo|\n",
      "+---------+\n",
      "|      arp|\n",
      "|      esp|\n",
      "|      tcp|\n",
      "|     ipv6|\n",
      "|  ipx/spx|\n",
      "|      rtp|\n",
      "|ipv6-icmp|\n",
      "|      udt|\n",
      "|     rsvp|\n",
      "|     igmp|\n",
      "|      pim|\n",
      "|      udp|\n",
      "|     icmp|\n",
      "|     rtcp|\n",
      "|     rarp|\n",
      "|      gre|\n",
      "+---------+\n",
      "\n",
      "+-----------+\n",
      "|PortaOrigem|\n",
      "+-----------+\n",
      "|      40574|\n",
      "|       1238|\n",
      "|      20683|\n",
      "|      64590|\n",
      "|      31261|\n",
      "|      34061|\n",
      "|      23364|\n",
      "|      27974|\n",
      "|      49855|\n",
      "|      43527|\n",
      "|      33569|\n",
      "|      16574|\n",
      "|       1342|\n",
      "|      20497|\n",
      "|      46465|\n",
      "|      26755|\n",
      "|      47501|\n",
      "|      11748|\n",
      "|      20735|\n",
      "|      38723|\n",
      "+-----------+\n",
      "only showing top 20 rows\n",
      "\n",
      "+-------+\n",
      "|Direcao|\n",
      "+-------+\n",
      "|    who|\n",
      "|     <?|\n",
      "|     ?>|\n",
      "|    <->|\n",
      "|    <?>|\n",
      "|     <-|\n",
      "|     ->|\n",
      "+-------+\n",
      "\n",
      "+------------+\n",
      "|PortaDestino|\n",
      "+------------+\n",
      "|       40335|\n",
      "|       31261|\n",
      "|       51393|\n",
      "|       39285|\n",
      "|       64859|\n",
      "|       38153|\n",
      "|       59990|\n",
      "|       50223|\n",
      "|       57020|\n",
      "|       43714|\n",
      "|       35361|\n",
      "|       17753|\n",
      "|       16386|\n",
      "|       56054|\n",
      "|       34061|\n",
      "|        1088|\n",
      "|       55265|\n",
      "|        2142|\n",
      "|       50353|\n",
      "|       65241|\n",
      "+------------+\n",
      "only showing top 20 rows\n",
      "\n",
      "+----------+\n",
      "|    Estado|\n",
      "+----------+\n",
      "|  FSRA_FSA|\n",
      "|     S_RPA|\n",
      "|     FRA_R|\n",
      "|       RED|\n",
      "|    FRPA_R|\n",
      "|  FSPA_SRA|\n",
      "|FSPAC_SRPA|\n",
      "|       URN|\n",
      "|     SA_RA|\n",
      "|     FPA_R|\n",
      "|  SRA_FSRA|\n",
      "|   FSA_FSA|\n",
      "|  FRPA_FPA|\n",
      "|       NNS|\n",
      "|     PA_PA|\n",
      "|  FSPA_FSA|\n",
      "|      SA_R|\n",
      "|      SRA_|\n",
      "|   RPA_FPA|\n",
      "|       URH|\n",
      "+----------+\n",
      "only showing top 20 rows\n",
      "\n",
      "+----+\n",
      "|sTos|\n",
      "+----+\n",
      "| 192|\n",
      "|   1|\n",
      "|   3|\n",
      "|   2|\n",
      "|   0|\n",
      "+----+\n",
      "\n",
      "+----+\n",
      "|dTos|\n",
      "+----+\n",
      "|   1|\n",
      "|   3|\n",
      "|   2|\n",
      "|   0|\n",
      "+----+\n",
      "\n",
      "+-------+\n",
      "|TotPkts|\n",
      "+-------+\n",
      "|    148|\n",
      "|   1591|\n",
      "|   6466|\n",
      "|    463|\n",
      "|   1238|\n",
      "|    471|\n",
      "|   6620|\n",
      "|   1959|\n",
      "|    243|\n",
      "|   2999|\n",
      "|   1507|\n",
      "|    540|\n",
      "|   1127|\n",
      "|   1084|\n",
      "|    392|\n",
      "|    897|\n",
      "|    858|\n",
      "|   1483|\n",
      "|   2387|\n",
      "|     31|\n",
      "+-------+\n",
      "only showing top 20 rows\n",
      "\n",
      "+--------+\n",
      "|TotBytes|\n",
      "+--------+\n",
      "|    2453|\n",
      "|     964|\n",
      "|  416165|\n",
      "|  588928|\n",
      "|   18147|\n",
      "|    1806|\n",
      "| 6711469|\n",
      "|   22245|\n",
      "|   10422|\n",
      "|     474|\n",
      "|   13248|\n",
      "|   26486|\n",
      "|    2214|\n",
      "|    1950|\n",
      "|    2040|\n",
      "|    1677|\n",
      "|  318101|\n",
      "|   60683|\n",
      "|   19163|\n",
      "|   83620|\n",
      "+--------+\n",
      "only showing top 20 rows\n",
      "\n",
      "+--------+\n",
      "|SrcBytes|\n",
      "+--------+\n",
      "|     148|\n",
      "|    1088|\n",
      "|     463|\n",
      "|    2122|\n",
      "|    5156|\n",
      "|     471|\n",
      "|    9852|\n",
      "|    1591|\n",
      "|   25462|\n",
      "|     833|\n",
      "|    1959|\n",
      "|    1829|\n",
      "|   13840|\n",
      "|    2659|\n",
      "|   10817|\n",
      "|    1645|\n",
      "|     496|\n",
      "|    1342|\n",
      "|    2142|\n",
      "|    7993|\n",
      "+--------+\n",
      "only showing top 20 rows\n",
      "\n",
      "+----------+\n",
      "|    Rotulo|\n",
      "+----------+\n",
      "|    Botnet|\n",
      "|Background|\n",
      "|    Normal|\n",
      "+----------+\n",
      "\n"
     ]
    }
   ],
   "source": [
    "mostrar_dados_distntos_atributos(df)"
   ]
  },
  {
   "cell_type": "code",
   "execution_count": 13,
   "id": "168c61a4",
   "metadata": {
    "scrolled": true
   },
   "outputs": [
    {
     "name": "stdout",
     "output_type": "stream",
     "text": [
      "+-------+\n",
      "|Direcao|\n",
      "+-------+\n",
      "|    who|\n",
      "|    <->|\n",
      "|     <-|\n",
      "|     ->|\n",
      "+-------+\n",
      "\n"
     ]
    }
   ],
   "source": [
    "df =tratar_ruido(df)\n",
    "df.select(\"Direcao\").distinct().show()"
   ]
  },
  {
   "cell_type": "code",
   "execution_count": 14,
   "id": "afdd0578",
   "metadata": {
    "scrolled": true
   },
   "outputs": [
    {
     "data": {
      "text/plain": [
       "2087508"
      ]
     },
     "execution_count": 14,
     "metadata": {},
     "output_type": "execute_result"
    }
   ],
   "source": [
    "\n",
    "df.count()"
   ]
  },
  {
   "cell_type": "code",
   "execution_count": 18,
   "id": "7e25bb99",
   "metadata": {
    "scrolled": true
   },
   "outputs": [
    {
     "data": {
      "text/plain": [
       "2040586"
      ]
     },
     "execution_count": 18,
     "metadata": {},
     "output_type": "execute_result"
    }
   ],
   "source": [
    "df = eliminarDuplicates(df)\n",
    "df.count()"
   ]
  },
  {
   "cell_type": "code",
   "execution_count": 16,
   "id": "48dffd91",
   "metadata": {
    "scrolled": true
   },
   "outputs": [
    {
     "data": {
      "text/plain": [
       "['Duracao',\n",
       " 'protocolo',\n",
       " 'PortaOrigem',\n",
       " 'Direcao',\n",
       " 'PortaDestino',\n",
       " 'Estado',\n",
       " 'sTos',\n",
       " 'dTos',\n",
       " 'TotPkts',\n",
       " 'TotBytes',\n",
       " 'SrcBytes',\n",
       " 'Rotulo']"
      ]
     },
     "execution_count": 16,
     "metadata": {},
     "output_type": "execute_result"
    }
   ],
   "source": [
    "dfcont = df\n",
    "dfcont.columns"
   ]
  },
  {
   "cell_type": "code",
   "execution_count": 17,
   "id": "3057d1c2",
   "metadata": {
    "scrolled": true
   },
   "outputs": [],
   "source": [
    "# Salva dados como ponto de restuaro   em formato CSV no HDFS\n",
    "caminhohdfs = \"hdfs://localhost:9000/user/belilo/ctu13/preprocessamentofase2/preprocesfase2c9.csv\"\n",
    "dfcont.write.csv(caminhohdfs, header=True, mode=\"overwrite\")"
   ]
  },
  {
   "cell_type": "code",
   "execution_count": 59,
   "id": "e41c76e4",
   "metadata": {
    "scrolled": true
   },
   "outputs": [],
   "source": [
    "#Carregar os dados do hdfs\n",
    "caminhohdfs = \"hdfs://localhost:9000/user/belilo/ctu13/preprocessamentofase2/preprocesfase2c9.csv\"\n",
    "dfcont = spark.read.csv(caminhohdfs, header=True, inferSchema=True)"
   ]
  },
  {
   "cell_type": "code",
   "execution_count": 65,
   "id": "e7ff902e",
   "metadata": {
    "scrolled": true
   },
   "outputs": [
    {
     "name": "stdout",
     "output_type": "stream",
     "text": [
      "+-------+---------+-----------+-------+------------+------+----+----+-------+--------+--------+------+\n",
      "|Duracao|protocolo|PortaOrigem|Direcao|PortaDestino|Estado|sTos|dTos|TotPkts|TotBytes|SrcBytes|Rotulo|\n",
      "+-------+---------+-----------+-------+------------+------+----+----+-------+--------+--------+------+\n",
      "|    0.0|      tcp|        443|     ->|          80|    A_|   0|   0|      1|      60|      60|Normal|\n",
      "|    0.0|      tcp|       3495|     ->|          80|    A_|   0|   0|      1|      60|      60|Normal|\n",
      "|    0.0|      tcp|      12114|     ->|          80|    A_|   0|   0|      1|      60|      60|Normal|\n",
      "|    0.0|      tcp|         80|     ->|        4151|    A_|   0|   0|      1|      60|      60|Normal|\n",
      "| 3.0E-6|      tcp|       3380|     ->|          80|    A_|   0|   0|      2|     120|     120|Normal|\n",
      "| 3.0E-6|      tcp|       3401|     ->|          80|    A_|   0|   0|      2|     120|     120|Normal|\n",
      "| 3.0E-6|      tcp|       3415|     ->|          80|    A_|   0|   0|      2|     120|     120|Normal|\n",
      "+-------+---------+-----------+-------+------------+------+----+----+-------+--------+--------+------+\n",
      "only showing top 7 rows\n",
      "\n"
     ]
    }
   ],
   "source": [
    "dfcont = transformarClassBackgroud_normal(dfcont)\n",
    "dfcont.show(7)"
   ]
  },
  {
   "cell_type": "code",
   "execution_count": 61,
   "id": "8caa2a90",
   "metadata": {
    "scrolled": true
   },
   "outputs": [
    {
     "name": "stdout",
     "output_type": "stream",
     "text": [
      "+------+\n",
      "|Rotulo|\n",
      "+------+\n",
      "|Botnet|\n",
      "|Normal|\n",
      "+------+\n",
      "\n"
     ]
    }
   ],
   "source": [
    "dfcont.select(\"Rotulo\").distinct().show()"
   ]
  },
  {
   "cell_type": "code",
   "execution_count": 66,
   "id": "4d142134",
   "metadata": {},
   "outputs": [],
   "source": [
    "contagem_por_rotulo = dfcont.groupBy(\"Rotulo\").count()"
   ]
  },
  {
   "cell_type": "code",
   "execution_count": 67,
   "id": "142fc2b5",
   "metadata": {},
   "outputs": [
    {
     "name": "stdout",
     "output_type": "stream",
     "text": [
      "+------+-------+\n",
      "|Rotulo|  count|\n",
      "+------+-------+\n",
      "|Botnet| 166083|\n",
      "|Normal|1874503|\n",
      "+------+-------+\n",
      "\n"
     ]
    }
   ],
   "source": [
    "contagem_por_rotulo.show()"
   ]
  },
  {
   "cell_type": "code",
   "execution_count": 64,
   "id": "d81d0489",
   "metadata": {
    "scrolled": true
   },
   "outputs": [
    {
     "data": {
      "text/plain": [
       "2"
      ]
     },
     "execution_count": 64,
     "metadata": {},
     "output_type": "execute_result"
    }
   ],
   "source": [
    "dfcont.select(\"Rotulo\").distinct().count()"
   ]
  },
  {
   "cell_type": "code",
   "execution_count": 22,
   "id": "9b7f490b",
   "metadata": {
    "scrolled": true
   },
   "outputs": [
    {
     "data": {
      "text/plain": [
       "2040586"
      ]
     },
     "execution_count": 22,
     "metadata": {},
     "output_type": "execute_result"
    }
   ],
   "source": [
    "dfcont.count()"
   ]
  },
  {
   "cell_type": "markdown",
   "id": "bd71118f",
   "metadata": {},
   "source": [
    "## Balacenamento de dados de treino"
   ]
  },
  {
   "cell_type": "code",
   "execution_count": null,
   "id": "ac4b3415",
   "metadata": {
    "collapsed": true,
    "scrolled": true
   },
   "outputs": [],
   "source": [
    "#!pip install --upgrade scikit-learn imbalanced-learn"
   ]
  },
  {
   "cell_type": "code",
   "execution_count": 23,
   "id": "d0ecff77",
   "metadata": {
    "scrolled": true
   },
   "outputs": [],
   "source": [
    "# Aplicando Adasyn Padrao\n",
    "from imblearn.over_sampling import ADASYN\n",
    "from collections import Counter"
   ]
  },
  {
   "cell_type": "code",
   "execution_count": 24,
   "id": "6cecfb54",
   "metadata": {
    "scrolled": true
   },
   "outputs": [],
   "source": [
    "from imblearn.under_sampling import NearMiss\n",
    "from pandas.plotting import autocorrelation_plot"
   ]
  },
  {
   "cell_type": "code",
   "execution_count": 25,
   "id": "32a5c3b5",
   "metadata": {},
   "outputs": [],
   "source": [
    "df_treinarDesiquilibrado = dfcont"
   ]
  },
  {
   "cell_type": "code",
   "execution_count": 31,
   "id": "430385f0",
   "metadata": {},
   "outputs": [
    {
     "data": {
      "text/plain": [
       "2040586"
      ]
     },
     "execution_count": 31,
     "metadata": {},
     "output_type": "execute_result"
    }
   ],
   "source": [
    "df_treinarDesiquilibrado.count()"
   ]
  },
  {
   "cell_type": "code",
   "execution_count": null,
   "id": "c8df305c",
   "metadata": {},
   "outputs": [],
   "source": []
  },
  {
   "cell_type": "code",
   "execution_count": 33,
   "id": "721ad965",
   "metadata": {
    "scrolled": true
   },
   "outputs": [],
   "source": [
    "df_treinarDesiquilibrado = df_treinarDesiquilibrado.toPandas()"
   ]
  },
  {
   "cell_type": "code",
   "execution_count": 35,
   "id": "142e171c",
   "metadata": {
    "scrolled": true
   },
   "outputs": [
    {
     "name": "stdout",
     "output_type": "stream",
     "text": [
      "<class 'pandas.core.frame.DataFrame'>\n",
      "RangeIndex: 2040586 entries, 0 to 2040585\n",
      "Data columns (total 12 columns):\n",
      " #   Column        Dtype  \n",
      "---  ------        -----  \n",
      " 0   Duracao       float64\n",
      " 1   protocolo     object \n",
      " 2   PortaOrigem   int32  \n",
      " 3   Direcao       object \n",
      " 4   PortaDestino  int32  \n",
      " 5   Estado        object \n",
      " 6   sTos          int32  \n",
      " 7   dTos          int32  \n",
      " 8   TotPkts       int32  \n",
      " 9   TotBytes      int64  \n",
      " 10  SrcBytes      int32  \n",
      " 11  Rotulo        object \n",
      "dtypes: float64(1), int32(6), int64(1), object(4)\n",
      "memory usage: 140.1+ MB\n"
     ]
    }
   ],
   "source": [
    "df_treinarDesiquilibradoc9 = df_treinarDesiquilibrado\n",
    "df_treinarDesiquilibradoc9.info()"
   ]
  },
  {
   "cell_type": "code",
   "execution_count": 36,
   "id": "de23b54f",
   "metadata": {
    "scrolled": true
   },
   "outputs": [
    {
     "data": {
      "text/plain": [
       "Duracao         0\n",
       "protocolo       0\n",
       "PortaOrigem     0\n",
       "Direcao         0\n",
       "PortaDestino    0\n",
       "Estado          0\n",
       "sTos            0\n",
       "dTos            0\n",
       "TotPkts         0\n",
       "TotBytes        0\n",
       "SrcBytes        0\n",
       "Rotulo          0\n",
       "dtype: int64"
      ]
     },
     "execution_count": 36,
     "metadata": {},
     "output_type": "execute_result"
    }
   ],
   "source": [
    "df_treinarDesiquilibradoc9.isnull().sum()  "
   ]
  },
  {
   "cell_type": "code",
   "execution_count": 37,
   "id": "586bd3f0",
   "metadata": {
    "scrolled": true
   },
   "outputs": [
    {
     "data": {
      "text/html": [
       "<div>\n",
       "<style scoped>\n",
       "    .dataframe tbody tr th:only-of-type {\n",
       "        vertical-align: middle;\n",
       "    }\n",
       "\n",
       "    .dataframe tbody tr th {\n",
       "        vertical-align: top;\n",
       "    }\n",
       "\n",
       "    .dataframe thead th {\n",
       "        text-align: right;\n",
       "    }\n",
       "</style>\n",
       "<table border=\"1\" class=\"dataframe\">\n",
       "  <thead>\n",
       "    <tr style=\"text-align: right;\">\n",
       "      <th></th>\n",
       "      <th>Duracao</th>\n",
       "      <th>protocolo</th>\n",
       "      <th>PortaOrigem</th>\n",
       "      <th>Direcao</th>\n",
       "      <th>PortaDestino</th>\n",
       "      <th>Estado</th>\n",
       "      <th>sTos</th>\n",
       "      <th>dTos</th>\n",
       "      <th>TotPkts</th>\n",
       "      <th>TotBytes</th>\n",
       "      <th>SrcBytes</th>\n",
       "      <th>Rotulo</th>\n",
       "    </tr>\n",
       "  </thead>\n",
       "  <tbody>\n",
       "    <tr>\n",
       "      <th>0</th>\n",
       "      <td>0.000000</td>\n",
       "      <td>tcp</td>\n",
       "      <td>443</td>\n",
       "      <td>-&gt;</td>\n",
       "      <td>80</td>\n",
       "      <td>A_</td>\n",
       "      <td>0</td>\n",
       "      <td>0</td>\n",
       "      <td>1</td>\n",
       "      <td>60</td>\n",
       "      <td>60</td>\n",
       "      <td>Normal</td>\n",
       "    </tr>\n",
       "    <tr>\n",
       "      <th>1</th>\n",
       "      <td>0.000000</td>\n",
       "      <td>tcp</td>\n",
       "      <td>3495</td>\n",
       "      <td>-&gt;</td>\n",
       "      <td>80</td>\n",
       "      <td>A_</td>\n",
       "      <td>0</td>\n",
       "      <td>0</td>\n",
       "      <td>1</td>\n",
       "      <td>60</td>\n",
       "      <td>60</td>\n",
       "      <td>Normal</td>\n",
       "    </tr>\n",
       "    <tr>\n",
       "      <th>2</th>\n",
       "      <td>0.000000</td>\n",
       "      <td>tcp</td>\n",
       "      <td>12114</td>\n",
       "      <td>-&gt;</td>\n",
       "      <td>80</td>\n",
       "      <td>A_</td>\n",
       "      <td>0</td>\n",
       "      <td>0</td>\n",
       "      <td>1</td>\n",
       "      <td>60</td>\n",
       "      <td>60</td>\n",
       "      <td>Normal</td>\n",
       "    </tr>\n",
       "    <tr>\n",
       "      <th>3</th>\n",
       "      <td>0.000000</td>\n",
       "      <td>tcp</td>\n",
       "      <td>80</td>\n",
       "      <td>-&gt;</td>\n",
       "      <td>4151</td>\n",
       "      <td>A_</td>\n",
       "      <td>0</td>\n",
       "      <td>0</td>\n",
       "      <td>1</td>\n",
       "      <td>60</td>\n",
       "      <td>60</td>\n",
       "      <td>Normal</td>\n",
       "    </tr>\n",
       "    <tr>\n",
       "      <th>4</th>\n",
       "      <td>0.000003</td>\n",
       "      <td>tcp</td>\n",
       "      <td>3380</td>\n",
       "      <td>-&gt;</td>\n",
       "      <td>80</td>\n",
       "      <td>A_</td>\n",
       "      <td>0</td>\n",
       "      <td>0</td>\n",
       "      <td>2</td>\n",
       "      <td>120</td>\n",
       "      <td>120</td>\n",
       "      <td>Normal</td>\n",
       "    </tr>\n",
       "  </tbody>\n",
       "</table>\n",
       "</div>"
      ],
      "text/plain": [
       "    Duracao protocolo  PortaOrigem Direcao  PortaDestino Estado  sTos  dTos  \\\n",
       "0  0.000000       tcp          443      ->            80     A_     0     0   \n",
       "1  0.000000       tcp         3495      ->            80     A_     0     0   \n",
       "2  0.000000       tcp        12114      ->            80     A_     0     0   \n",
       "3  0.000000       tcp           80      ->          4151     A_     0     0   \n",
       "4  0.000003       tcp         3380      ->            80     A_     0     0   \n",
       "\n",
       "   TotPkts  TotBytes  SrcBytes  Rotulo  \n",
       "0        1        60        60  Normal  \n",
       "1        1        60        60  Normal  \n",
       "2        1        60        60  Normal  \n",
       "3        1        60        60  Normal  \n",
       "4        2       120       120  Normal  "
      ]
     },
     "execution_count": 37,
     "metadata": {},
     "output_type": "execute_result"
    }
   ],
   "source": [
    "df_treinarDesiquilibradoc9.head()"
   ]
  },
  {
   "cell_type": "code",
   "execution_count": 38,
   "id": "33568655",
   "metadata": {
    "scrolled": true
   },
   "outputs": [
    {
     "data": {
      "image/png": "[encoded data removed]",
      "text/plain": [
       "<Figure size 640x480 with 1 Axes>"
      ]
     },
     "metadata": {},
     "output_type": "display_data"
    }
   ],
   "source": [
    "df_treinarDesiquilibradoc9.Rotulo.value_counts()\n",
    "ax = sns.countplot(x=\"Rotulo\", data =  df_treinarDesiquilibradoc9)"
   ]
  },
  {
   "cell_type": "code",
   "execution_count": 39,
   "id": "41e3d184",
   "metadata": {
    "scrolled": true
   },
   "outputs": [],
   "source": [
    "#Formatar colunas categoricas em numericas\n",
    "def gerar_mapa_atrubutos_categoricos(data, coluna_to_map):\n",
    "    dicionario_map = {}\n",
    "\n",
    "    for coluna in coluna_to_map:\n",
    "        unique_values = data[coluna].unique()\n",
    "        mapear = {value: index + 1 for index, value in enumerate(unique_values)}\n",
    "        dicionario_map[coluna] = mapear\n",
    "\n",
    "    return dicionario_map\n",
    "\n",
    "def formatar_colunas_categoricas(data, coluna_map):\n",
    "    formatar_data = data.copy()\n",
    "\n",
    "    for coluna, mapear in coluna_map.items():\n",
    "        formatar_data[coluna] = formatar_data[coluna].map(mapear)\n",
    "\n",
    "    return formatar_data\n",
    "\n",
    "def restaurar_atributos_categoricos(dados_formatado, dicionario_map):\n",
    "    dados_restaurados = dados_formatado.copy()\n",
    "\n",
    "    for coluna, mapear in dicionario_map.items():\n",
    "        reverso_map = {v: k for k, v in mapear.items()}\n",
    "        dados_restaurados[coluna] = dados_restaurados[coluna].map(reverso_map)\n",
    "\n",
    "    return dados_restaurados"
   ]
  },
  {
   "cell_type": "code",
   "execution_count": 41,
   "id": "0de01e72",
   "metadata": {
    "scrolled": true
   },
   "outputs": [],
   "source": [
    "variavescategoricas = ['protocolo', 'Direcao', 'Estado', 'Rotulo']\n",
    "# Gerar o dicionário de mapeamento\n",
    "dicionario_mapa = gerar_mapa_atrubutos_categoricos(df_treinarDesiquilibradoc9, variavescategoricas)"
   ]
  },
  {
   "cell_type": "code",
   "execution_count": 42,
   "id": "ad50df16",
   "metadata": {
    "scrolled": true
   },
   "outputs": [],
   "source": [
    "dados_formatados = formatar_colunas_categoricas(df_treinarDesiquilibradoc9, dicionario_mapa)"
   ]
  },
  {
   "cell_type": "code",
   "execution_count": 43,
   "id": "5940ee1b",
   "metadata": {
    "scrolled": true
   },
   "outputs": [
    {
     "data": {
      "text/html": [
       "<div>\n",
       "<style scoped>\n",
       "    .dataframe tbody tr th:only-of-type {\n",
       "        vertical-align: middle;\n",
       "    }\n",
       "\n",
       "    .dataframe tbody tr th {\n",
       "        vertical-align: top;\n",
       "    }\n",
       "\n",
       "    .dataframe thead th {\n",
       "        text-align: right;\n",
       "    }\n",
       "</style>\n",
       "<table border=\"1\" class=\"dataframe\">\n",
       "  <thead>\n",
       "    <tr style=\"text-align: right;\">\n",
       "      <th></th>\n",
       "      <th>Duracao</th>\n",
       "      <th>protocolo</th>\n",
       "      <th>PortaOrigem</th>\n",
       "      <th>Direcao</th>\n",
       "      <th>PortaDestino</th>\n",
       "      <th>Estado</th>\n",
       "      <th>sTos</th>\n",
       "      <th>dTos</th>\n",
       "      <th>TotPkts</th>\n",
       "      <th>TotBytes</th>\n",
       "      <th>SrcBytes</th>\n",
       "      <th>Rotulo</th>\n",
       "    </tr>\n",
       "  </thead>\n",
       "  <tbody>\n",
       "    <tr>\n",
       "      <th>0</th>\n",
       "      <td>0.000000</td>\n",
       "      <td>1</td>\n",
       "      <td>443</td>\n",
       "      <td>1</td>\n",
       "      <td>80</td>\n",
       "      <td>1</td>\n",
       "      <td>0</td>\n",
       "      <td>0</td>\n",
       "      <td>1</td>\n",
       "      <td>60</td>\n",
       "      <td>60</td>\n",
       "      <td>1</td>\n",
       "    </tr>\n",
       "    <tr>\n",
       "      <th>1</th>\n",
       "      <td>0.000000</td>\n",
       "      <td>1</td>\n",
       "      <td>3495</td>\n",
       "      <td>1</td>\n",
       "      <td>80</td>\n",
       "      <td>1</td>\n",
       "      <td>0</td>\n",
       "      <td>0</td>\n",
       "      <td>1</td>\n",
       "      <td>60</td>\n",
       "      <td>60</td>\n",
       "      <td>1</td>\n",
       "    </tr>\n",
       "    <tr>\n",
       "      <th>2</th>\n",
       "      <td>0.000000</td>\n",
       "      <td>1</td>\n",
       "      <td>12114</td>\n",
       "      <td>1</td>\n",
       "      <td>80</td>\n",
       "      <td>1</td>\n",
       "      <td>0</td>\n",
       "      <td>0</td>\n",
       "      <td>1</td>\n",
       "      <td>60</td>\n",
       "      <td>60</td>\n",
       "      <td>1</td>\n",
       "    </tr>\n",
       "    <tr>\n",
       "      <th>3</th>\n",
       "      <td>0.000000</td>\n",
       "      <td>1</td>\n",
       "      <td>80</td>\n",
       "      <td>1</td>\n",
       "      <td>4151</td>\n",
       "      <td>1</td>\n",
       "      <td>0</td>\n",
       "      <td>0</td>\n",
       "      <td>1</td>\n",
       "      <td>60</td>\n",
       "      <td>60</td>\n",
       "      <td>1</td>\n",
       "    </tr>\n",
       "    <tr>\n",
       "      <th>4</th>\n",
       "      <td>0.000003</td>\n",
       "      <td>1</td>\n",
       "      <td>3380</td>\n",
       "      <td>1</td>\n",
       "      <td>80</td>\n",
       "      <td>1</td>\n",
       "      <td>0</td>\n",
       "      <td>0</td>\n",
       "      <td>2</td>\n",
       "      <td>120</td>\n",
       "      <td>120</td>\n",
       "      <td>1</td>\n",
       "    </tr>\n",
       "  </tbody>\n",
       "</table>\n",
       "</div>"
      ],
      "text/plain": [
       "    Duracao  protocolo  PortaOrigem  Direcao  PortaDestino  Estado  sTos  \\\n",
       "0  0.000000          1          443        1            80       1     0   \n",
       "1  0.000000          1         3495        1            80       1     0   \n",
       "2  0.000000          1        12114        1            80       1     0   \n",
       "3  0.000000          1           80        1          4151       1     0   \n",
       "4  0.000003          1         3380        1            80       1     0   \n",
       "\n",
       "   dTos  TotPkts  TotBytes  SrcBytes  Rotulo  \n",
       "0     0        1        60        60       1  \n",
       "1     0        1        60        60       1  \n",
       "2     0        1        60        60       1  \n",
       "3     0        1        60        60       1  \n",
       "4     0        2       120       120       1  "
      ]
     },
     "execution_count": 43,
     "metadata": {},
     "output_type": "execute_result"
    }
   ],
   "source": [
    "dados_formatados.head()"
   ]
  },
  {
   "cell_type": "code",
   "execution_count": 63,
   "id": "31150ac7",
   "metadata": {
    "scrolled": true
   },
   "outputs": [
    {
     "name": "stdout",
     "output_type": "stream",
     "text": [
      "[1 2]\n",
      "Counter({1: 1874503, 2: 166083})\n"
     ]
    }
   ],
   "source": [
    "valores_distintos = dados_formatados['Rotulo'].unique()\n",
    "print(valores_distintos)\n",
    "print(Counter(dados_formatados['Rotulo']))"
   ]
  },
  {
   "cell_type": "code",
   "execution_count": null,
   "id": "faf97d08",
   "metadata": {
    "scrolled": true
   },
   "outputs": [],
   "source": []
  },
  {
   "cell_type": "code",
   "execution_count": null,
   "id": "cd243a5f",
   "metadata": {
    "scrolled": true
   },
   "outputs": [],
   "source": []
  },
  {
   "cell_type": "code",
   "execution_count": 45,
   "id": "b50b172e",
   "metadata": {
    "scrolled": true
   },
   "outputs": [
    {
     "data": {
      "text/plain": [
       "<Axes: ylabel='Rotulo'>"
      ]
     },
     "execution_count": 45,
     "metadata": {},
     "output_type": "execute_result"
    },
    {
     "data": {
      "image/png": "[encoded data removed]",
      "text/plain": [
       "<Figure size 640x480 with 1 Axes>"
      ]
     },
     "metadata": {},
     "output_type": "display_data"
    }
   ],
   "source": [
    "x =  dados_formatados.drop(\"Rotulo\",axis = 1)\n",
    "y =  dados_formatados.Rotulo\n",
    "\n",
    "y.value_counts().plot.pie(autopct='%.2f')"
   ]
  },
  {
   "cell_type": "code",
   "execution_count": 46,
   "id": "52a5fb8e",
   "metadata": {
    "scrolled": true
   },
   "outputs": [
    {
     "data": {
      "image/png": "[encoded data removed]",
      "text/plain": [
       "<Figure size 640x480 with 1 Axes>"
      ]
     },
     "metadata": {},
     "output_type": "display_data"
    }
   ],
   "source": [
    "ax = sns.countplot(x=y)"
   ]
  },
  {
   "cell_type": "code",
   "execution_count": 47,
   "id": "db6eac19",
   "metadata": {
    "scrolled": true
   },
   "outputs": [],
   "source": [
    "#!pip install -U imbalanced-learn"
   ]
  },
  {
   "cell_type": "code",
   "execution_count": 48,
   "id": "1fc53e77",
   "metadata": {
    "scrolled": true
   },
   "outputs": [
    {
     "name": "stdout",
     "output_type": "stream",
     "text": [
      "Contagem das classes Antes do adasyn: Counter({1: 1874503, 2: 166083})\n",
      "Contagem das classes Depois do adasyn: Counter({1: 1874503, 2: 1126133})\n"
     ]
    }
   ],
   "source": [
    "# Aplicando ADASYN Com Geracao de dados sinteticos a 60% da classe maioritaria\n",
    "print(\"Contagem das classes Antes do adasyn:\", Counter(y))\n",
    "adasyn = ADASYN(sampling_strategy=0.6, n_neighbors=5)\n",
    "x_resample,y_resample = adasyn.fit_resample(x,y)\n",
    "print(\"Contagem das classes Depois do adasyn:\", Counter(y_resample))"
   ]
  },
  {
   "cell_type": "code",
   "execution_count": 49,
   "id": "cb598ef4",
   "metadata": {
    "scrolled": true
   },
   "outputs": [
    {
     "data": {
      "image/png": "[encoded data removed]",
      "text/plain": [
       "<Figure size 640x480 with 1 Axes>"
      ]
     },
     "metadata": {},
     "output_type": "display_data"
    }
   ],
   "source": [
    "ax = sns.countplot(x=y_resample)"
   ]
  },
  {
   "cell_type": "code",
   "execution_count": 50,
   "id": "c646808f",
   "metadata": {
    "scrolled": true
   },
   "outputs": [],
   "source": [
    "near_miss = NearMiss()\n",
    "x_resample1, y_resample1 = near_miss.fit_resample(x_resample,y_resample)"
   ]
  },
  {
   "cell_type": "code",
   "execution_count": 51,
   "id": "416b430d",
   "metadata": {
    "scrolled": true
   },
   "outputs": [
    {
     "data": {
      "image/png": "[encoded data removed]",
      "text/plain": [
       "<Figure size 640x480 with 1 Axes>"
      ]
     },
     "metadata": {},
     "output_type": "display_data"
    }
   ],
   "source": [
    "ax = sns.countplot(x=y_resample1)"
   ]
  },
  {
   "cell_type": "code",
   "execution_count": 52,
   "id": "449282de",
   "metadata": {
    "scrolled": true
   },
   "outputs": [
    {
     "name": "stdout",
     "output_type": "stream",
     "text": [
      "Contagem das classes Depois do Near_Miss: Counter({1: 1126133, 2: 1126133})\n"
     ]
    }
   ],
   "source": [
    "print(\"Contagem das classes Depois do Near_Miss:\", Counter(y_resample1))"
   ]
  },
  {
   "cell_type": "code",
   "execution_count": 54,
   "id": "eea710c0",
   "metadata": {
    "scrolled": true
   },
   "outputs": [
    {
     "data": {
      "text/html": [
       "<div>\n",
       "<style scoped>\n",
       "    .dataframe tbody tr th:only-of-type {\n",
       "        vertical-align: middle;\n",
       "    }\n",
       "\n",
       "    .dataframe tbody tr th {\n",
       "        vertical-align: top;\n",
       "    }\n",
       "\n",
       "    .dataframe thead th {\n",
       "        text-align: right;\n",
       "    }\n",
       "</style>\n",
       "<table border=\"1\" class=\"dataframe\">\n",
       "  <thead>\n",
       "    <tr style=\"text-align: right;\">\n",
       "      <th></th>\n",
       "      <th>Duracao</th>\n",
       "      <th>protocolo</th>\n",
       "      <th>PortaOrigem</th>\n",
       "      <th>Direcao</th>\n",
       "      <th>PortaDestino</th>\n",
       "      <th>Estado</th>\n",
       "      <th>sTos</th>\n",
       "      <th>dTos</th>\n",
       "      <th>TotPkts</th>\n",
       "      <th>TotBytes</th>\n",
       "      <th>SrcBytes</th>\n",
       "      <th>Rotulo</th>\n",
       "    </tr>\n",
       "  </thead>\n",
       "  <tbody>\n",
       "    <tr>\n",
       "      <th>0</th>\n",
       "      <td>0.0</td>\n",
       "      <td>7</td>\n",
       "      <td>53</td>\n",
       "      <td>1</td>\n",
       "      <td>13363</td>\n",
       "      <td>187</td>\n",
       "      <td>0</td>\n",
       "      <td>0</td>\n",
       "      <td>1</td>\n",
       "      <td>97</td>\n",
       "      <td>97</td>\n",
       "      <td>1</td>\n",
       "    </tr>\n",
       "    <tr>\n",
       "      <th>1</th>\n",
       "      <td>0.0</td>\n",
       "      <td>7</td>\n",
       "      <td>53</td>\n",
       "      <td>1</td>\n",
       "      <td>13363</td>\n",
       "      <td>187</td>\n",
       "      <td>0</td>\n",
       "      <td>0</td>\n",
       "      <td>1</td>\n",
       "      <td>98</td>\n",
       "      <td>98</td>\n",
       "      <td>1</td>\n",
       "    </tr>\n",
       "    <tr>\n",
       "      <th>2</th>\n",
       "      <td>0.0</td>\n",
       "      <td>7</td>\n",
       "      <td>53</td>\n",
       "      <td>1</td>\n",
       "      <td>13363</td>\n",
       "      <td>187</td>\n",
       "      <td>0</td>\n",
       "      <td>0</td>\n",
       "      <td>1</td>\n",
       "      <td>100</td>\n",
       "      <td>100</td>\n",
       "      <td>1</td>\n",
       "    </tr>\n",
       "    <tr>\n",
       "      <th>3</th>\n",
       "      <td>0.0</td>\n",
       "      <td>7</td>\n",
       "      <td>53</td>\n",
       "      <td>1</td>\n",
       "      <td>13363</td>\n",
       "      <td>187</td>\n",
       "      <td>0</td>\n",
       "      <td>0</td>\n",
       "      <td>1</td>\n",
       "      <td>102</td>\n",
       "      <td>102</td>\n",
       "      <td>1</td>\n",
       "    </tr>\n",
       "    <tr>\n",
       "      <th>4</th>\n",
       "      <td>0.0</td>\n",
       "      <td>7</td>\n",
       "      <td>53</td>\n",
       "      <td>1</td>\n",
       "      <td>13363</td>\n",
       "      <td>187</td>\n",
       "      <td>0</td>\n",
       "      <td>0</td>\n",
       "      <td>1</td>\n",
       "      <td>103</td>\n",
       "      <td>103</td>\n",
       "      <td>1</td>\n",
       "    </tr>\n",
       "  </tbody>\n",
       "</table>\n",
       "</div>"
      ],
      "text/plain": [
       "   Duracao  protocolo  PortaOrigem  Direcao  PortaDestino  Estado  sTos  dTos  \\\n",
       "0      0.0          7           53        1         13363     187     0     0   \n",
       "1      0.0          7           53        1         13363     187     0     0   \n",
       "2      0.0          7           53        1         13363     187     0     0   \n",
       "3      0.0          7           53        1         13363     187     0     0   \n",
       "4      0.0          7           53        1         13363     187     0     0   \n",
       "\n",
       "   TotPkts  TotBytes  SrcBytes  Rotulo  \n",
       "0        1        97        97       1  \n",
       "1        1        98        98       1  \n",
       "2        1       100       100       1  \n",
       "3        1       102       102       1  \n",
       "4        1       103       103       1  "
      ]
     },
     "execution_count": 54,
     "metadata": {},
     "output_type": "execute_result"
    }
   ],
   "source": [
    "dados_c9_equilibrados = x_resample1\n",
    "dados_c9_equilibrados[\"Rotulo\"] =y_resample1\n",
    "dados_c9_equilibrados.head()"
   ]
  },
  {
   "cell_type": "code",
   "execution_count": 55,
   "id": "a882e258",
   "metadata": {
    "scrolled": true
   },
   "outputs": [
    {
     "data": {
      "text/plain": [
       "Duracao         2252266\n",
       "protocolo       2252266\n",
       "PortaOrigem     2252266\n",
       "Direcao         2252266\n",
       "PortaDestino    2252266\n",
       "Estado          2252266\n",
       "sTos            2252266\n",
       "dTos            2252266\n",
       "TotPkts         2252266\n",
       "TotBytes        2252266\n",
       "SrcBytes        2252266\n",
       "Rotulo          2252266\n",
       "dtype: int64"
      ]
     },
     "execution_count": 55,
     "metadata": {},
     "output_type": "execute_result"
    }
   ],
   "source": [
    "dados_c9_equilibrados.count()"
   ]
  },
  {
   "cell_type": "code",
   "execution_count": 56,
   "id": "017305ca",
   "metadata": {
    "scrolled": true
   },
   "outputs": [],
   "source": [
    "# Restaure as colunas categóricas para obter o DataFrame original\n",
    "dados_c9_equil_restaurado = restaurar_atributos_categoricos(dados_c9_equilibrados, dicionario_mapa)"
   ]
  },
  {
   "cell_type": "code",
   "execution_count": 57,
   "id": "153aeee6",
   "metadata": {
    "scrolled": true
   },
   "outputs": [
    {
     "data": {
      "text/plain": [
       "Duracao         0\n",
       "protocolo       0\n",
       "PortaOrigem     0\n",
       "Direcao         0\n",
       "PortaDestino    0\n",
       "Estado          0\n",
       "sTos            0\n",
       "dTos            0\n",
       "TotPkts         0\n",
       "TotBytes        0\n",
       "SrcBytes        0\n",
       "Rotulo          0\n",
       "dtype: int64"
      ]
     },
     "execution_count": 57,
     "metadata": {},
     "output_type": "execute_result"
    }
   ],
   "source": [
    "dados_c9_equil_restaurado.isnull().sum()"
   ]
  },
  {
   "cell_type": "code",
   "execution_count": null,
   "id": "17dae57a",
   "metadata": {
    "scrolled": true
   },
   "outputs": [],
   "source": [
    "ax = sns.countplot(x=\"Rotulo\", data =  dados_c9_equil_restaurado)"
   ]
  },
  {
   "cell_type": "code",
   "execution_count": null,
   "id": "12c95c9e",
   "metadata": {
    "scrolled": true
   },
   "outputs": [],
   "source": [
    "dados_c9_equil_restaurado.info()"
   ]
  },
  {
   "cell_type": "code",
   "execution_count": 38,
   "id": "f95b4f0d",
   "metadata": {
    "scrolled": true
   },
   "outputs": [],
   "source": [
    "#!pip install hdfs"
   ]
  },
  {
   "cell_type": "code",
   "execution_count": null,
   "id": "5c584569",
   "metadata": {
    "scrolled": true
   },
   "outputs": [],
   "source": [
    "from hdfs import InsecureClient\n",
    "hdfs_client = InsecureClient('http://localhost:9870', user='Belilo')"
   ]
  },
  {
   "cell_type": "code",
   "execution_count": null,
   "id": "af8da8f8",
   "metadata": {
    "scrolled": true
   },
   "outputs": [],
   "source": [
    "dados_c9_equil_restaurado.to_csv('dados_treino_c9_equilibrado.csv', index=False)"
   ]
  },
  {
   "cell_type": "code",
   "execution_count": 41,
   "id": "b87e635a",
   "metadata": {},
   "outputs": [
    {
     "data": {
      "text/html": [
       "<div>\n",
       "<style scoped>\n",
       "    .dataframe tbody tr th:only-of-type {\n",
       "        vertical-align: middle;\n",
       "    }\n",
       "\n",
       "    .dataframe tbody tr th {\n",
       "        vertical-align: top;\n",
       "    }\n",
       "\n",
       "    .dataframe thead th {\n",
       "        text-align: right;\n",
       "    }\n",
       "</style>\n",
       "<table border=\"1\" class=\"dataframe\">\n",
       "  <thead>\n",
       "    <tr style=\"text-align: right;\">\n",
       "      <th></th>\n",
       "      <th>Duracao</th>\n",
       "      <th>protocolo</th>\n",
       "      <th>PortaOrigem</th>\n",
       "      <th>Direcao</th>\n",
       "      <th>PortaDestino</th>\n",
       "      <th>Estado</th>\n",
       "      <th>sTos</th>\n",
       "      <th>dTos</th>\n",
       "      <th>TotPkts</th>\n",
       "      <th>TotBytes</th>\n",
       "      <th>SrcBytes</th>\n",
       "      <th>Rotulo</th>\n",
       "    </tr>\n",
       "  </thead>\n",
       "  <tbody>\n",
       "    <tr>\n",
       "      <th>0</th>\n",
       "      <td>0.000353</td>\n",
       "      <td>udp</td>\n",
       "      <td>1025</td>\n",
       "      <td>&lt;-&gt;</td>\n",
       "      <td>53</td>\n",
       "      <td>CON</td>\n",
       "      <td>0</td>\n",
       "      <td>0</td>\n",
       "      <td>2</td>\n",
       "      <td>400</td>\n",
       "      <td>74</td>\n",
       "      <td>Normal</td>\n",
       "    </tr>\n",
       "    <tr>\n",
       "      <th>1</th>\n",
       "      <td>0.000469</td>\n",
       "      <td>udp</td>\n",
       "      <td>123</td>\n",
       "      <td>-&gt;</td>\n",
       "      <td>123</td>\n",
       "      <td>INT</td>\n",
       "      <td>0</td>\n",
       "      <td>0</td>\n",
       "      <td>2</td>\n",
       "      <td>180</td>\n",
       "      <td>180</td>\n",
       "      <td>Normal</td>\n",
       "    </tr>\n",
       "    <tr>\n",
       "      <th>2</th>\n",
       "      <td>0.000063</td>\n",
       "      <td>udp</td>\n",
       "      <td>123</td>\n",
       "      <td>-&gt;</td>\n",
       "      <td>123</td>\n",
       "      <td>INT</td>\n",
       "      <td>0</td>\n",
       "      <td>0</td>\n",
       "      <td>2</td>\n",
       "      <td>180</td>\n",
       "      <td>180</td>\n",
       "      <td>Normal</td>\n",
       "    </tr>\n",
       "    <tr>\n",
       "      <th>3</th>\n",
       "      <td>0.030496</td>\n",
       "      <td>udp</td>\n",
       "      <td>1026</td>\n",
       "      <td>&lt;-&gt;</td>\n",
       "      <td>53</td>\n",
       "      <td>CON</td>\n",
       "      <td>0</td>\n",
       "      <td>0</td>\n",
       "      <td>2</td>\n",
       "      <td>272</td>\n",
       "      <td>71</td>\n",
       "      <td>Normal</td>\n",
       "    </tr>\n",
       "    <tr>\n",
       "      <th>4</th>\n",
       "      <td>0.081899</td>\n",
       "      <td>udp</td>\n",
       "      <td>1026</td>\n",
       "      <td>&lt;-&gt;</td>\n",
       "      <td>53</td>\n",
       "      <td>CON</td>\n",
       "      <td>0</td>\n",
       "      <td>0</td>\n",
       "      <td>2</td>\n",
       "      <td>325</td>\n",
       "      <td>73</td>\n",
       "      <td>Normal</td>\n",
       "    </tr>\n",
       "  </tbody>\n",
       "</table>\n",
       "</div>"
      ],
      "text/plain": [
       "    Duracao protocolo  PortaOrigem Direcao  PortaDestino Estado  sTos  dTos  \\\n",
       "0  0.000353       udp         1025     <->            53    CON     0     0   \n",
       "1  0.000469       udp          123      ->           123    INT     0     0   \n",
       "2  0.000063       udp          123      ->           123    INT     0     0   \n",
       "3  0.030496       udp         1026     <->            53    CON     0     0   \n",
       "4  0.081899       udp         1026     <->            53    CON     0     0   \n",
       "\n",
       "   TotPkts  TotBytes  SrcBytes  Rotulo  \n",
       "0        2       400        74  Normal  \n",
       "1        2       180       180  Normal  \n",
       "2        2       180       180  Normal  \n",
       "3        2       272        71  Normal  \n",
       "4        2       325        73  Normal  "
      ]
     },
     "execution_count": 41,
     "metadata": {},
     "output_type": "execute_result"
    }
   ],
   "source": [
    "dados_c9_equil_restaurado.head()"
   ]
  },
  {
   "cell_type": "code",
   "execution_count": 4,
   "id": "225170a8",
   "metadata": {
    "scrolled": true
   },
   "outputs": [],
   "source": [
    "hdfs_destino = '/user/belilo/ctu13/preprocessamentofase2'\n",
    "hdfs_client.upload(hdfs_destino, 'dados_treino_c9_equilibrado.csv')"
   ]
  },
  {
   "cell_type": "markdown",
   "id": "a84b101b",
   "metadata": {},
   "source": [
    "\n",
    "### Aplicacao de transformacao  nos dados para Treinamento e teste"
   ]
  },
  {
   "cell_type": "code",
   "execution_count": 5,
   "id": "ed7e901d",
   "metadata": {
    "scrolled": true
   },
   "outputs": [],
   "source": [
    "#dados de treino armazenado no hdfs\n",
    "caminhohdfs = 'hdfs://localhost:9000/user/belilo/ctu13/preprocessamentofase2/dados_treino_c9_equilibrado.csv'\n",
    "dados_c9_equilibrado = spark.read.csv(caminhohdfs, header=True, inferSchema=True)"
   ]
  },
  {
   "cell_type": "code",
   "execution_count": 6,
   "id": "37835541",
   "metadata": {
    "scrolled": true
   },
   "outputs": [
    {
     "name": "stdout",
     "output_type": "stream",
     "text": [
      "Duracao  :  0\n",
      "protocolo  :  0\n",
      "PortaOrigem  :  0\n",
      "Direcao  :  0\n",
      "PortaDestino  :  0\n",
      "Estado  :  0\n",
      "sTos  :  0\n",
      "dTos  :  0\n",
      "TotPkts  :  0\n",
      "TotBytes  :  0\n",
      "SrcBytes  :  0\n",
      "Rotulo  :  0\n"
     ]
    }
   ],
   "source": [
    "verificaNullCol(dados_c9_equilibrado)"
   ]
  },
  {
   "cell_type": "code",
   "execution_count": 7,
   "id": "ea9f5834",
   "metadata": {},
   "outputs": [
    {
     "name": "stdout",
     "output_type": "stream",
     "text": [
      "+-------+---------+-----------+-------+------------+------+----+----+-------+--------+--------+------+\n",
      "|Duracao|protocolo|PortaOrigem|Direcao|PortaDestino|Estado|sTos|dTos|TotPkts|TotBytes|SrcBytes|Rotulo|\n",
      "+-------+---------+-----------+-------+------------+------+----+----+-------+--------+--------+------+\n",
      "|    0.0|     icmp|         53|     ->|       13363|   URP|   0|   0|      1|      97|      97|Normal|\n",
      "|    0.0|     icmp|         53|     ->|       13363|   URP|   0|   0|      1|      98|      98|Normal|\n",
      "|    0.0|     icmp|         53|     ->|       13363|   URP|   0|   0|      1|     100|     100|Normal|\n",
      "+-------+---------+-----------+-------+------------+------+----+----+-------+--------+--------+------+\n",
      "only showing top 3 rows\n",
      "\n"
     ]
    }
   ],
   "source": [
    "dados_c9_equilibrado.show(3)"
   ]
  },
  {
   "cell_type": "code",
   "execution_count": 6,
   "id": "a4376836",
   "metadata": {
    "scrolled": true
   },
   "outputs": [],
   "source": [
    "def stringIndex(df):\n",
    "  variavesCategoricas =['protocolo','Direcao','Estado','Rotulo']\n",
    "  stages = []\n",
    "  for column in variavesCategoricas:\n",
    "      indexer = StringIndexer(inputCol=column, outputCol=column+\"_index\")\n",
    "      stages += [indexer]\n",
    "  input_columns = ['Duracao','protocolo_index','PortaOrigem','Direcao_index', 'PortaDestino','Estado_index'\\\n",
    "                   ,'sTos','dTos', 'TotPkts', 'TotBytes','SrcBytes']\n",
    "\n",
    "  assembler = VectorAssembler(inputCols=input_columns, outputCol=\"features\")\n",
    "  stages += [assembler]\n",
    "  pipeline = Pipeline(stages=stages)\n",
    "\n",
    "  transformed_df = pipeline.fit(df).transform(df)\n",
    "  dado = transformed_df\n",
    "  return dado\n",
    "\n",
    "def padronizacao_de_dados(df):\n",
    "    df_padrizacao = df.select(f.col('features'),f.col('Rotulo_index')).withColumnRenamed(\"Rotulo_index\",'label')\n",
    "    standerscaler = StandardScaler().setInputCol('features').setOutputCol('scaled_features')\n",
    "    df_padronizado = standerscaler.fit(df_padrizacao).transform(df_padrizacao)\n",
    "    return df_padronizado"
   ]
  },
  {
   "cell_type": "code",
   "execution_count": 7,
   "id": "c0ad6307",
   "metadata": {},
   "outputs": [],
   "source": [
    "dfc9 = stringIndex(dados_c9_equilibrado)"
   ]
  },
  {
   "cell_type": "code",
   "execution_count": 8,
   "id": "36ee14fd",
   "metadata": {
    "scrolled": true
   },
   "outputs": [
    {
     "name": "stdout",
     "output_type": "stream",
     "text": [
      "+-------+---------+-----------+-------+------------+------+----+----+-------+--------+--------+------+---------------+-------------+------------+------------+--------------------+\n",
      "|Duracao|protocolo|PortaOrigem|Direcao|PortaDestino|Estado|sTos|dTos|TotPkts|TotBytes|SrcBytes|Rotulo|protocolo_index|Direcao_index|Estado_index|Rotulo_index|            features|\n",
      "+-------+---------+-----------+-------+------------+------+----+----+-------+--------+--------+------+---------------+-------------+------------+------------+--------------------+\n",
      "|    0.0|     icmp|         53|     ->|       13363|   URP|   0|   0|      1|      97|      97|Normal|            2.0|          1.0|        19.0|         1.0|[0.0,2.0,53.0,1.0...|\n",
      "|    0.0|     icmp|         53|     ->|       13363|   URP|   0|   0|      1|      98|      98|Normal|            2.0|          1.0|        19.0|         1.0|[0.0,2.0,53.0,1.0...|\n",
      "|    0.0|     icmp|         53|     ->|       13363|   URP|   0|   0|      1|     100|     100|Normal|            2.0|          1.0|        19.0|         1.0|[0.0,2.0,53.0,1.0...|\n",
      "+-------+---------+-----------+-------+------------+------+----+----+-------+--------+--------+------+---------------+-------------+------------+------------+--------------------+\n",
      "only showing top 3 rows\n",
      "\n"
     ]
    }
   ],
   "source": [
    "dfc9.show(3)"
   ]
  },
  {
   "cell_type": "code",
   "execution_count": 9,
   "id": "e8a85244",
   "metadata": {},
   "outputs": [],
   "source": [
    "dfc9_padronizado = padronizacao_de_dados(dfc9)"
   ]
  },
  {
   "cell_type": "code",
   "execution_count": 10,
   "id": "f698dd6f",
   "metadata": {},
   "outputs": [
    {
     "name": "stdout",
     "output_type": "stream",
     "text": [
      "+--------------------+-----+--------------------+\n",
      "|            features|label|     scaled_features|\n",
      "+--------------------+-----+--------------------+\n",
      "|[0.0,2.0,53.0,1.0...|  1.0|[0.0,3.8285627690...|\n",
      "|[0.0,2.0,53.0,1.0...|  1.0|[0.0,3.8285627690...|\n",
      "|[0.0,2.0,53.0,1.0...|  1.0|[0.0,3.8285627690...|\n",
      "+--------------------+-----+--------------------+\n",
      "only showing top 3 rows\n",
      "\n"
     ]
    }
   ],
   "source": [
    "dfc9_padronizado.show(3)"
   ]
  },
  {
   "cell_type": "markdown",
   "id": "0eb08545",
   "metadata": {
    "collapsed": true,
    "scrolled": true
   },
   "source": []
  },
  {
   "cell_type": "code",
   "execution_count": null,
   "id": "e09dd15a",
   "metadata": {},
   "outputs": [],
   "source": [
    "\n"
   ]
  },
  {
   "cell_type": "markdown",
   "id": "5f9b82c7",
   "metadata": {},
   "source": [
    "## Aplicacao de transformacao nos dados para Treinamento e teste"
   ]
  },
  {
   "cell_type": "code",
   "execution_count": 11,
   "id": "7909f674",
   "metadata": {
    "scrolled": true
   },
   "outputs": [],
   "source": [
    " # Divisão dos dados treinamento, validação e teste\n",
    "df_treinamentoc9, df_testec9 = dfc9_padronizado.randomSplit([0.7, 0.3], seed=123)"
   ]
  },
  {
   "cell_type": "code",
   "execution_count": 24,
   "id": "4456faf4",
   "metadata": {
    "scrolled": true
   },
   "outputs": [],
   "source": [
    "def grafico_percentagem_porporcao_dados_por_classes(df,tilulo_grafico):\n",
    "    df_pandas = df.select(\"label\").toPandas()\n",
    "    contagem_classes = df_pandas[\"label\"].value_counts()\n",
    "    porcentagens = contagem_classes / contagem_classes.sum() * 100\n",
    "    ax = porcentagens.plot(kind=\"bar\")\n",
    "    plt.title(tilulo_grafico)\n",
    "    plt.xlabel(\"Classe\")\n",
    "    plt.ylabel(\"Contagem\")\n",
    "    plt.xticks(rotation=0)  \n",
    "    for i, v in enumerate(porcentagens):\n",
    "        ax.text(i, v + 1, f\"{v:.2f}%\", ha=\"center\")\n",
    "    plt.show()"
   ]
  },
  {
   "cell_type": "code",
   "execution_count": 17,
   "id": "65773706",
   "metadata": {},
   "outputs": [
    {
     "data": {
      "text/plain": [
       "1575845"
      ]
     },
     "execution_count": 17,
     "metadata": {},
     "output_type": "execute_result"
    }
   ],
   "source": [
    "df_treinamentoc9.count()"
   ]
  },
  {
   "cell_type": "code",
   "execution_count": null,
   "id": "282fcfed",
   "metadata": {},
   "outputs": [],
   "source": []
  },
  {
   "cell_type": "code",
   "execution_count": 18,
   "id": "7551d83b",
   "metadata": {},
   "outputs": [
    {
     "data": {
      "text/plain": [
       "676421"
      ]
     },
     "execution_count": 18,
     "metadata": {},
     "output_type": "execute_result"
    }
   ],
   "source": [
    "df_testec9.count()"
   ]
  },
  {
   "cell_type": "code",
   "execution_count": 19,
   "id": "1fe84e3b",
   "metadata": {},
   "outputs": [
    {
     "data": {
      "image/png": "[encoded data removed]",
      "text/plain": [
       "<Figure size 640x480 with 1 Axes>"
      ]
     },
     "metadata": {},
     "output_type": "display_data"
    }
   ],
   "source": [
    "grafico_percentagem_porporcao_dados_por_classes(df_treinamentoc9,\"Porporcao de dado por classe treino cenario 9\")"
   ]
  },
  {
   "cell_type": "code",
   "execution_count": null,
   "id": "89e957a9",
   "metadata": {},
   "outputs": [],
   "source": []
  },
  {
   "cell_type": "code",
   "execution_count": 20,
   "id": "37745282",
   "metadata": {},
   "outputs": [
    {
     "data": {
      "image/png": "[encoded data removed]",
      "text/plain": [
       "<Figure size 640x480 with 1 Axes>"
      ]
     },
     "metadata": {},
     "output_type": "display_data"
    }
   ],
   "source": [
    "grafico_percentagem_porporcao_dados_por_classes(df_testec9,\"Porporcao de dado por classe teste cenario 9\")"
   ]
  },
  {
   "cell_type": "code",
   "execution_count": 12,
   "id": "d169c28f",
   "metadata": {
    "scrolled": true
   },
   "outputs": [],
   "source": [
    "def perform_cross_validation_models(data, estimator, param_grid, num_folds, metric_name):\n",
    "    evaluator = MulticlassClassificationEvaluator(metricName=metric_name)\n",
    "    pipeline = Pipeline(stages=[estimator])\n",
    "    crossval = CrossValidator(estimator=pipeline\\\n",
    "                              ,estimatorParamMaps=param_grid\\\n",
    "                              ,evaluator=evaluator\\\n",
    "                              ,numFolds=num_folds\\\n",
    "                              ,seed=42)\n",
    "    cv_model = crossval.fit(data)\n",
    "    return cv_model"
   ]
  },
  {
   "cell_type": "code",
   "execution_count": null,
   "id": "19c73717",
   "metadata": {},
   "outputs": [],
   "source": []
  },
  {
   "cell_type": "code",
   "execution_count": 13,
   "id": "69eaec03",
   "metadata": {},
   "outputs": [],
   "source": [
    "#CRIAR MODELOS\n",
    "nb = NaiveBayes(featuresCol=\"scaled_features\", labelCol=\"label\")\n",
    "dt = DecisionTreeClassifier(labelCol=\"label\", featuresCol=\"scaled_features\")\n",
    "rfc = RandomForestClassifier(labelCol='label', featuresCol='scaled_features')\n"
   ]
  },
  {
   "cell_type": "code",
   "execution_count": null,
   "id": "e2130e93",
   "metadata": {},
   "outputs": [],
   "source": []
  },
  {
   "cell_type": "code",
   "execution_count": 14,
   "id": "b01b2ad8",
   "metadata": {},
   "outputs": [],
   "source": [
    "from pyspark.ml.tuning import ParamGridBuilder\n",
    "\n",
    "\n",
    "# Definindo os parâmetros para o grid\n",
    "paramGrid_nb = (ParamGridBuilder()\n",
    "                .addGrid(nb.smoothing, [0.1, 0.3, 0.5, 0.7, 0.9, 1])\n",
    "                .addGrid(nb.modelType, ['multinomial'])\n",
    "                .addGrid(nb.thresholds, [[0.5, 0.5], [0.6, 0.4], [0.4, 0.6]])\n",
    "                .build())\n",
    "\n",
    "paramGrid_dt = (ParamGridBuilder()\n",
    "                .addGrid(dt.maxDepth, [5, 10, 15, 20, 25, 28])\n",
    "                .addGrid(dt.maxBins, [16, 32, 64, 128, 256])\n",
    "                .build())\n",
    "\n",
    "paramGrid_rfc = (ParamGridBuilder()\n",
    "                 .addGrid(rfc.maxDepth, [5, 10, 18, 25, 28])\n",
    "                 .addGrid(rfc.maxBins, [16, 32, 64, 128, 256])\n",
    "                 .build())\n"
   ]
  },
  {
   "cell_type": "code",
   "execution_count": 15,
   "id": "19735b1a",
   "metadata": {},
   "outputs": [],
   "source": [
    "# funcoes de processamento\n",
    "\n",
    "def predicao_modelo(modelo,df_teste):\n",
    "  predicao = modelo.transform(df_teste)\n",
    "  predicao = predicao.select(\"label\", \"prediction\")\n",
    "  return predicao\n",
    "\n",
    "def acuracia (df):\n",
    "    predicaorotulo=df.select('label','prediction')\n",
    "    Evaluator = MulticlassClassificationEvaluator(labelCol='label', predictionCol='prediction', metricName='accuracy')\n",
    "    acuracia_model = Evaluator.evaluate(predicaorotulo)\n",
    "    print(\"Acuracia: \", (acuracia_model * 100))\n",
    "    \n",
    "def precisao(df):\n",
    "    predicaorotulo =df.select('label','prediction')\n",
    "    Evaluator = MulticlassClassificationEvaluator(labelCol='label', predictionCol='prediction', metricName='precisionByLabel')\n",
    "    precisao_model = Evaluator.evaluate(predicaorotulo)\n",
    "\n",
    "    print(\"Precisao: \", (precisao_model * 100))\n",
    "    \n",
    "def revocacao_recall(df):\n",
    "    predicaorotulo = df.select('label','prediction')\n",
    "    Evaluator = MulticlassClassificationEvaluator(labelCol='label', predictionCol='prediction', metricName='recallByLabel')\n",
    "    recal_model = Evaluator.evaluate(predicaorotulo)\n",
    "    print(\"Recall: \", (recal_model * 100))\n",
    "    \n",
    "def f1_Score(df):\n",
    "    predicaorotulo = df.select('label','prediction')\n",
    "    Evaluator = MulticlassClassificationEvaluator(labelCol='label', predictionCol='prediction', metricName='f1')\n",
    "    f1_model = Evaluator.evaluate(predicaorotulo)\n",
    "    print(\"f1_score: \", (f1_model * 100))\n",
    "    \n",
    "def auc(predictions):\n",
    "    evaluator = BinaryClassificationEvaluator(labelCol=\"label\", rawPredictionCol=\"prediction\", metricName=\"areaUnderROC\")\n",
    "    area_ROC = evaluator.evaluate(predictions)\n",
    "    print(\"AUC: \", (area_ROC * 100))"
   ]
  },
  {
   "cell_type": "code",
   "execution_count": 16,
   "id": "09e08ce8",
   "metadata": {},
   "outputs": [],
   "source": [
    "# Funcao Matriz de confusao\n",
    "def matriz_de_confusao(predicao):\n",
    "    y_true = predicao.select(\"label\").toPandas()\n",
    "    y_pred = predicao.select(\"prediction\").toPandas()\n",
    "    Matriz_confusao = confusion_matrix(y_true, y_pred)\n",
    "    return Matriz_confusao\n",
    "\n",
    "# Visualizar Matriz de confusao\n",
    "def visualizar_matriz(matriz,tilulo):\n",
    "    classes = ['Botnet', 'Normal']\n",
    "    grafico = sns.heatmap(matriz, annot=True, cmap='Blues', fmt='d', xticklabels=classes\\\n",
    "                          , yticklabels=classes)\n",
    "    plt.figure(figsize=(8, 6))\n",
    "    grafico.set_title(tilulo)\n",
    "    plt.xlabel('Classe Predita')\n",
    "    plt.ylabel('Classe Real')\n",
    "    plt.show()\n",
    "    \n",
    "import seaborn as sns\n",
    "import matplotlib.pyplot as plt\n",
    "from sklearn.metrics import confusion_matrix\n",
    "\n",
    "def matriz_de_confusao_percentagem(predicao):\n",
    "    y_true = predicao.select(\"label\").toPandas()\n",
    "    y_pred = predicao.select(\"prediction\").toPandas()\n",
    "    Matriz_confusao = confusion_matrix(y_true, y_pred)    \n",
    "    total_por_classe = Matriz_confusao.sum(axis=1)\n",
    "    matriz_percentagem = (Matriz_confusao.T / total_por_classe).T\n",
    "    return matriz_percentagem\n",
    "\n",
    "# Visualizar Matriz de confusao em porcentagem\n",
    "def visualizar_matriz_percentagem(matriz, titulo):\n",
    "    classes = ['Botnet', 'Normal']\n",
    "    grafico = sns.heatmap(matriz, annot=True, cmap='Blues', fmt='.2%', xticklabels=classes, yticklabels=classes)\n",
    "    grafico.set_title(titulo)\n",
    "    plt.xlabel('Classe Predita')\n",
    "    plt.ylabel('Classe Real')\n",
    "    plt.show()"
   ]
  },
  {
   "cell_type": "code",
   "execution_count": 17,
   "id": "a0246363",
   "metadata": {},
   "outputs": [],
   "source": [
    "import pandas as pd\n",
    "from pyspark.ml.tuning import CrossValidator\n",
    "from pyspark.ml.evaluation import MulticlassClassificationEvaluator\n",
    "from pyspark.sql import functions as F\n",
    "\n",
    "def custom_cross_validation(data, model, param_grid, num_folds):\n",
    "    evaluator = MulticlassClassificationEvaluator()\n",
    "    metrics = []\n",
    "    \n",
    "    data_with_fold = data.withColumn('fold', (F.rand() * num_folds).cast('int'))\n",
    "    \n",
    "    crossval = CrossValidator(estimator=model,\n",
    "                              estimatorParamMaps=param_grid,\n",
    "                              evaluator=evaluator,\n",
    "                              numFolds=num_folds,\n",
    "                              seed=42)\n",
    "    \n",
    "    cv_model = crossval.fit(data_with_fold)\n",
    "    \n",
    "    best_models = cv_model.bestModel\n",
    "    \n",
    "    for fold in range(num_folds):\n",
    "        train = data_with_fold.filter(data_with_fold['fold'] != fold)\n",
    "        test = data_with_fold.filter(data_with_fold['fold'] == fold)\n",
    "        \n",
    "        predictions = best_models.transform(test)\n",
    "        \n",
    "        accuracy = evaluator.evaluate(predictions, {evaluator.metricName: \"accuracy\"})\n",
    "        precision = evaluator.evaluate(predictions, {evaluator.metricName: \"weightedPrecision\"})\n",
    "        recall = evaluator.evaluate(predictions, {evaluator.metricName: \"weightedRecall\"})\n",
    "        f1_score = evaluator.evaluate(predictions, {evaluator.metricName: \"f1\"})\n",
    "        \n",
    "        metrics.append({'Fold': fold + 1,\n",
    "                        'Acuracia': accuracy,\n",
    "                        'Precisao': precision,\n",
    "                        'Recall': recall,\n",
    "                        'F1-score': f1_score})\n",
    "    \n",
    "    mean_metrics = {'Fold': 'Total media'}\n",
    "    for metric_name in ['Acuracia', 'Precisao', 'Recall', 'F1-score']:\n",
    "        mean_metrics[metric_name] = sum(metric[metric_name] for metric in metrics) / num_folds\n",
    "    \n",
    "    metrics.append(mean_metrics)\n",
    "    \n",
    "    df_metrics = pd.DataFrame(metrics)\n",
    "    \n",
    "    return df_metrics"
   ]
  },
  {
   "cell_type": "code",
   "execution_count": 30,
   "id": "835fd4b4",
   "metadata": {},
   "outputs": [],
   "source": [
    "resultados = custom_cross_validation(df_treinamentoc9, nb, paramGrid_nb, 5)"
   ]
  },
  {
   "cell_type": "code",
   "execution_count": 31,
   "id": "80472b79",
   "metadata": {},
   "outputs": [
    {
     "name": "stdout",
     "output_type": "stream",
     "text": [
      "MELHORES DESEMPENHO EM CADA FOLD PARA TODAS METRICAS NB\n",
      "          Fold  Acuracia  Precisao    Recall  F1-score\n",
      "0            1  0.895165  0.897108  0.895165  0.895054\n",
      "1            2  0.895032  0.896775  0.895032  0.894899\n",
      "2            3  0.894263  0.896173  0.894263  0.894140\n",
      "3            4  0.894028  0.895816  0.894028  0.893909\n",
      "4            5  0.894471  0.896274  0.894471  0.894346\n",
      "5  Total media  0.894592  0.896429  0.894592  0.894470\n"
     ]
    }
   ],
   "source": [
    "print (\"MELHORES DESEMPENHO EM CADA FOLD PARA TODAS METRICAS NB\")\n",
    "print(resultados)"
   ]
  },
  {
   "cell_type": "code",
   "execution_count": 18,
   "id": "84f5359e",
   "metadata": {},
   "outputs": [],
   "source": [
    "resultados_dt = custom_cross_validation(df_treinamentoc9, dt, paramGrid_dt, 5)"
   ]
  },
  {
   "cell_type": "code",
   "execution_count": 19,
   "id": "cd62f184",
   "metadata": {},
   "outputs": [
    {
     "name": "stdout",
     "output_type": "stream",
     "text": [
      "MELHORES DESEMPENHO EM CADA FOLD PARA TODAS METRICAS DT\n",
      "          Fold  Acuracia  Precisao    Recall  F1-score\n",
      "0            1  0.998663  0.998666  0.998663  0.998663\n",
      "1            2  0.998757  0.998759  0.998757  0.998757\n",
      "2            3  0.998710  0.998713  0.998710  0.998710\n",
      "3            4  0.998688  0.998691  0.998688  0.998688\n",
      "4            5  0.998745  0.998748  0.998745  0.998745\n",
      "5  Total media  0.998712  0.998715  0.998712  0.998712\n"
     ]
    }
   ],
   "source": [
    "print(\"MELHORES DESEMPENHO EM CADA FOLD PARA TODAS METRICAS DT\")\n",
    "print(resultados_dt)"
   ]
  },
  {
   "cell_type": "code",
   "execution_count": 20,
   "id": "61b6dd99",
   "metadata": {},
   "outputs": [],
   "source": [
    "resultados_rfc = custom_cross_validation(df_treinamentoc9, rfc, paramGrid_rfc, 5)"
   ]
  },
  {
   "cell_type": "code",
   "execution_count": 21,
   "id": "accb793c",
   "metadata": {},
   "outputs": [
    {
     "name": "stdout",
     "output_type": "stream",
     "text": [
      "MELHORES DESEMPENHO EM CADA FOLD PARA TODAS METRICAS RFC\n",
      "          Fold  Acuracia  Precisao    Recall  F1-score\n",
      "0            1  0.997056  0.997073  0.997056  0.997056\n",
      "1            2  0.997006  0.997024  0.997006  0.997006\n",
      "2            3  0.997094  0.997111  0.997094  0.997094\n",
      "3            4  0.997095  0.997111  0.997095  0.997095\n",
      "4            5  0.997005  0.997022  0.997005  0.997005\n",
      "5  Total media  0.997051  0.997068  0.997051  0.997051\n"
     ]
    }
   ],
   "source": [
    "print(\"MELHORES DESEMPENHO EM CADA FOLD PARA TODAS METRICAS RFC\")\n",
    "print(resultados_rfc)"
   ]
  },
  {
   "cell_type": "code",
   "execution_count": null,
   "id": "e964d09c",
   "metadata": {},
   "outputs": [],
   "source": []
  },
  {
   "cell_type": "code",
   "execution_count": 17,
   "id": "5b7400ef",
   "metadata": {},
   "outputs": [],
   "source": [
    "# TREINAR MODELO\n",
    "cv_model_nb_models = perform_cross_validation_models(df_treinamentoc9,nb, paramGrid_nb, 5,\"f1\")"
   ]
  },
  {
   "cell_type": "code",
   "execution_count": 24,
   "id": "a9c9fee3",
   "metadata": {},
   "outputs": [],
   "source": [
    "cv_model_dt = perform_cross_validation_models(df_treinamentoc9,dt, paramGrid_dt, 5,\"f1\")"
   ]
  },
  {
   "cell_type": "code",
   "execution_count": 29,
   "id": "228c9ee3",
   "metadata": {},
   "outputs": [],
   "source": [
    "cv_model_rfc = perform_cross_validation_models(df_treinamentoc9,rfc, paramGrid_rfc, 5,\"f1\")"
   ]
  },
  {
   "cell_type": "code",
   "execution_count": null,
   "id": "e427bfa5",
   "metadata": {},
   "outputs": [],
   "source": []
  },
  {
   "cell_type": "markdown",
   "id": "39f402d5",
   "metadata": {},
   "source": [
    "## Graficos "
   ]
  },
  {
   "cell_type": "markdown",
   "id": "e5b9ee21",
   "metadata": {},
   "source": [
    "### Graficos de curva de aprendizado"
   ]
  },
  {
   "cell_type": "code",
   "execution_count": 19,
   "id": "bd8cbc49",
   "metadata": {},
   "outputs": [],
   "source": [
    "import matplotlib.pyplot as plt\n",
    "import numpy as np\n",
    "from pyspark.ml.tuning import CrossValidatorModel\n",
    "from pyspark.ml.evaluation import MulticlassClassificationEvaluator\n",
    "\n",
    "\n",
    "def plot_learning_curve(cv_model, metric_name):\n",
    "    train_metrics = cv_model.avgMetrics\n",
    "    val_metrics = cv_model.avgMetrics\n",
    "    plt.plot(train_metrics, label='Treinamento {}'.format(metric_name))\n",
    "    plt.plot(val_metrics, label='Validação {}'.format(metric_name))\n",
    "    plt.xlabel('Número de Iteracao')\n",
    "    plt.ylabel(metric_name)\n",
    "    plt.title('Curva de Aprendizado para {} em cada Fold'.format(metric_name))\n",
    "    #plt.xticks(range(len(train_metrics)), range(len(train_metrics)))\n",
    "    plt.legend()\n",
    "    plt.show()\n",
    "\n",
    "def get_metrics(cv_model, metric_name):\n",
    "    avg_metrics = cv_model.avgMetrics\n",
    "    best_index = np.argmax(avg_metrics)\n",
    "    best_metric = avg_metrics[best_index]\n",
    "    print(\"Best {} achieved: {:.4f}\".format(metric_name, best_metric))\n",
    "    return best_metric\n",
    "\n",
    "def evaluate_model(cv_model, metric_name):\n",
    "    evaluator = MulticlassClassificationEvaluator(metricName=metric_name)\n",
    "    train_metric = evaluator.evaluate(cv_model.transform(df_treinamentoc9))\n",
    "    test_metric = evaluator.evaluate(cv_model.transform(df_testec9))\n",
    "    print(\"Training {} for best model: {:.4f}\".format(metric_name, train_metric))\n",
    "    print(\"Test {} for best model: {:.4f}\".format(metric_name, test_metric))\n",
    "\n"
   ]
  },
  {
   "cell_type": "code",
   "execution_count": null,
   "id": "bf21d68b",
   "metadata": {},
   "outputs": [],
   "source": [
    "\n"
   ]
  },
  {
   "cell_type": "code",
   "execution_count": 21,
   "id": "93467b31",
   "metadata": {},
   "outputs": [
    {
     "data": {
      "image/png": "[encoded data removed]",
      "text/plain": [
       "<Figure size 640x480 with 1 Axes>"
      ]
     },
     "metadata": {},
     "output_type": "display_data"
    }
   ],
   "source": [
    "\n",
    "plot_learning_curve(cv_model_nb_models, \"f1-score\")\n"
   ]
  },
  {
   "cell_type": "code",
   "execution_count": 22,
   "id": "7e827a1b",
   "metadata": {},
   "outputs": [
    {
     "name": "stdout",
     "output_type": "stream",
     "text": [
      "Best f1-score achieved: 0.8945\n"
     ]
    }
   ],
   "source": [
    "best_f1_nb = get_metrics(cv_model_nb_models, \"f1-score\")\n"
   ]
  },
  {
   "cell_type": "code",
   "execution_count": 23,
   "id": "19b30513",
   "metadata": {},
   "outputs": [
    {
     "name": "stdout",
     "output_type": "stream",
     "text": [
      "Training f1 for best model: 0.8945\n",
      "Test f1 for best model: 0.8947\n"
     ]
    }
   ],
   "source": [
    "evaluate_model(cv_model_nb_models, \"f1\")\n"
   ]
  },
  {
   "cell_type": "code",
   "execution_count": null,
   "id": "ba1d7a87",
   "metadata": {},
   "outputs": [],
   "source": []
  },
  {
   "cell_type": "code",
   "execution_count": null,
   "id": "160963a7",
   "metadata": {},
   "outputs": [],
   "source": []
  },
  {
   "cell_type": "code",
   "execution_count": 26,
   "id": "2db425a5",
   "metadata": {},
   "outputs": [
    {
     "data": {
      "image/png": "[encoded data removed]",
      "text/plain": [
       "<Figure size 640x480 with 1 Axes>"
      ]
     },
     "metadata": {},
     "output_type": "display_data"
    }
   ],
   "source": [
    "plot_learning_curve(cv_model_dt, \"f1-score\")"
   ]
  },
  {
   "cell_type": "code",
   "execution_count": 27,
   "id": "a66ecf61",
   "metadata": {},
   "outputs": [
    {
     "name": "stdout",
     "output_type": "stream",
     "text": [
      "Best f1-score achieved: 0.9958\n"
     ]
    }
   ],
   "source": [
    "best_f1_nb = get_metrics(cv_model_dt, \"f1-score\")"
   ]
  },
  {
   "cell_type": "code",
   "execution_count": 28,
   "id": "42af1b23",
   "metadata": {},
   "outputs": [
    {
     "name": "stdout",
     "output_type": "stream",
     "text": [
      "Training f1 for best model: 0.9987\n",
      "Test f1 for best model: 0.9963\n"
     ]
    }
   ],
   "source": [
    "evaluate_model(cv_model_dt, \"f1\")"
   ]
  },
  {
   "cell_type": "code",
   "execution_count": null,
   "id": "7585dc29",
   "metadata": {},
   "outputs": [],
   "source": []
  },
  {
   "cell_type": "code",
   "execution_count": null,
   "id": "2f2c9979",
   "metadata": {},
   "outputs": [],
   "source": []
  },
  {
   "cell_type": "code",
   "execution_count": 32,
   "id": "221a05e3",
   "metadata": {},
   "outputs": [
    {
     "data": {
      "image/png": "[encoded data removed]",
      "text/plain": [
       "<Figure size 640x480 with 1 Axes>"
      ]
     },
     "metadata": {},
     "output_type": "display_data"
    }
   ],
   "source": [
    "plot_learning_curve(cv_model_rfc, \"f1-score\")"
   ]
  },
  {
   "cell_type": "code",
   "execution_count": 33,
   "id": "7e479219",
   "metadata": {},
   "outputs": [
    {
     "name": "stdout",
     "output_type": "stream",
     "text": [
      "Best f1-score achieved: 0.9955\n"
     ]
    }
   ],
   "source": [
    "best_f1_nb = get_metrics(cv_model_rfc, \"f1-score\")"
   ]
  },
  {
   "cell_type": "code",
   "execution_count": 34,
   "id": "e6a19659",
   "metadata": {},
   "outputs": [
    {
     "name": "stdout",
     "output_type": "stream",
     "text": [
      "Training f1 for best model: 0.9968\n",
      "Test f1 for best model: 0.9957\n"
     ]
    }
   ],
   "source": [
    "evaluate_model(cv_model_rfc, \"f1\")"
   ]
  },
  {
   "cell_type": "code",
   "execution_count": null,
   "id": "6dccb6d0",
   "metadata": {},
   "outputs": [],
   "source": []
  },
  {
   "cell_type": "code",
   "execution_count": 43,
   "id": "4327fe22",
   "metadata": {},
   "outputs": [
    {
     "name": "stdout",
     "output_type": "stream",
     "text": [
      "[0.9631224407259348, 0.9637604411386397, 0.9663100700549734, 0.9757432110349363, 0.9772155717195705, 0.9792648575113461, 0.9840873548903992, 0.9855015505001374, 0.9882831596525266, 0.9877168068733999, 0.9898828650781532, 0.9925899802467144]\n"
     ]
    }
   ],
   "source": [
    "\n",
    "print(cv_model_dt.avgMetrics)\n"
   ]
  },
  {
   "cell_type": "code",
   "execution_count": null,
   "id": "c5785212",
   "metadata": {},
   "outputs": [],
   "source": []
  },
  {
   "cell_type": "code",
   "execution_count": null,
   "id": "7be41e2d",
   "metadata": {},
   "outputs": [],
   "source": []
  },
  {
   "cell_type": "code",
   "execution_count": null,
   "id": "591e66d6",
   "metadata": {},
   "outputs": [],
   "source": []
  },
  {
   "cell_type": "code",
   "execution_count": null,
   "id": "161cb68e",
   "metadata": {},
   "outputs": [],
   "source": []
  },
  {
   "cell_type": "code",
   "execution_count": null,
   "id": "a4cf2856",
   "metadata": {},
   "outputs": [],
   "source": []
  },
  {
   "cell_type": "markdown",
   "id": "33d8e052",
   "metadata": {},
   "source": [
    "### Grafico de curva ROC "
   ]
  },
  {
   "cell_type": "code",
   "execution_count": 23,
   "id": "b57cca85",
   "metadata": {},
   "outputs": [],
   "source": [
    "import pandas as pd\n",
    "from sklearn.metrics import roc_curve, auc\n",
    "import matplotlib.pyplot as plt\n",
    "\n",
    "def plot_roc_curves1(models, test_data):\n",
    "    plt.figure(figsize=(8, 6))\n",
    "    for model_name, model in models.items():\n",
    "        predictions = model.transform(test_data)\n",
    "        probabilities = predictions.select('label', 'probability').toPandas()\n",
    "        fpr, tpr, _ = roc_curve(probabilities['label'], probabilities['probability'].apply(lambda x: x[1]))\n",
    "        roc_auc = auc(fpr, tpr)\n",
    "        plt.plot(fpr, tpr, label='%s (AUC = %0.2f)' % (model_name, roc_auc))\n",
    "    plt.plot([0, 1], [0, 1], linestyle='--', color='r', label='Random')\n",
    "    plt.title('Curvas ROC para Modelos')\n",
    "    plt.xlabel('Taxa de Falsos Positivos')\n",
    "    plt.ylabel('Taxa de Verdadeiros Positivos')\n",
    "    plt.legend()\n",
    "    plt.show()\n"
   ]
  },
  {
   "cell_type": "code",
   "execution_count": 26,
   "id": "6583fff7",
   "metadata": {},
   "outputs": [],
   "source": [
    "# Crie um dicionário com os modelos treinados\n",
    "models = {\n",
    "    'Naive Bayes': cv_model_nb_models.bestModel,\n",
    "    'Decision Tree': cv_model_dt.bestModel,\n",
    "    'Random Forest': cv_model_rfc.bestModel\n",
    "}"
   ]
  },
  {
   "cell_type": "code",
   "execution_count": 25,
   "id": "6d2c55a1",
   "metadata": {},
   "outputs": [
    {
     "data": {
      "image/png": "[encoded data removed]",
      "text/plain": [
       "<Figure size 800x600 with 1 Axes>"
      ]
     },
     "metadata": {},
     "output_type": "display_data"
    }
   ],
   "source": [
    "# Chame a função para plotar as curvas ROC\n",
    "plot_roc_curves1(models, df_testec9)"
   ]
  },
  {
   "cell_type": "code",
   "execution_count": null,
   "id": "431adc07",
   "metadata": {},
   "outputs": [],
   "source": []
  },
  {
   "cell_type": "code",
   "execution_count": null,
   "id": "e15e36d1",
   "metadata": {},
   "outputs": [],
   "source": []
  },
  {
   "cell_type": "markdown",
   "id": "fca2b43d",
   "metadata": {},
   "source": [
    "## Avaliacao dos modelos (Predicao)"
   ]
  },
  {
   "cell_type": "code",
   "execution_count": 35,
   "id": "518cb086",
   "metadata": {},
   "outputs": [],
   "source": [
    "def melhor_modelo (cv_model):\n",
    "  best_model = cv_model.bestModel\n",
    "  return best_model"
   ]
  },
  {
   "cell_type": "code",
   "execution_count": 36,
   "id": "c2b76774",
   "metadata": {},
   "outputs": [],
   "source": [
    "melhor_model_nb = melhor_modelo (cv_model_nb_models)\n",
    "melhor_model_dt = melhor_modelo (cv_model_dt)\n",
    "melhor_model_rfc = melhor_modelo (cv_model_rfc)"
   ]
  },
  {
   "cell_type": "code",
   "execution_count": 37,
   "id": "768c2a40",
   "metadata": {},
   "outputs": [],
   "source": [
    "from sklearn.metrics import classification_report\n",
    "import pandas as pd\n",
    "def reporte_classificacao(bestModel,df_teste):\n",
    "    predictions = cv_model_nb_models.transform(df_teste)\n",
    "    predictions_pd = predictions.select(\"label\", \"prediction\").toPandas()\n",
    "    y_true = predictions_pd[\"label\"].tolist()\n",
    "    y_pred = predictions_pd[\"prediction\"].tolist()\n",
    "    reporte = classification_report(y_true, y_pred)\n",
    "    return reporte\n"
   ]
  },
  {
   "cell_type": "code",
   "execution_count": 38,
   "id": "de72c5f8",
   "metadata": {},
   "outputs": [],
   "source": [
    "\n",
    "reporte_classf_nb = reporte_classificacao(melhor_model_nb,df_testec9)\n",
    "reporte_classf_dt = reporte_classificacao(melhor_model_dt,df_testec9)\n",
    "reporte_classf_rfc = reporte_classificacao(melhor_model_rfc,df_testec9)\n"
   ]
  },
  {
   "cell_type": "code",
   "execution_count": 39,
   "id": "b102f3ef",
   "metadata": {
    "scrolled": true
   },
   "outputs": [
    {
     "name": "stdout",
     "output_type": "stream",
     "text": [
      "              precision    recall  f1-score   support\n",
      "\n",
      "         0.0       0.87      0.93      0.90    338257\n",
      "         1.0       0.92      0.86      0.89    338164\n",
      "\n",
      "    accuracy                           0.89    676421\n",
      "   macro avg       0.90      0.89      0.89    676421\n",
      "weighted avg       0.90      0.89      0.89    676421\n",
      "\n"
     ]
    }
   ],
   "source": [
    "# Imprimir o relatório de classificação\n",
    "print(reporte_classf_nb)\n",
    "\n"
   ]
  },
  {
   "cell_type": "code",
   "execution_count": 40,
   "id": "77a4b217",
   "metadata": {},
   "outputs": [
    {
     "name": "stdout",
     "output_type": "stream",
     "text": [
      "              precision    recall  f1-score   support\n",
      "\n",
      "         0.0       0.87      0.93      0.90    338257\n",
      "         1.0       0.92      0.86      0.89    338164\n",
      "\n",
      "    accuracy                           0.89    676421\n",
      "   macro avg       0.90      0.89      0.89    676421\n",
      "weighted avg       0.90      0.89      0.89    676421\n",
      "\n"
     ]
    }
   ],
   "source": [
    "print(reporte_classf_dt)"
   ]
  },
  {
   "cell_type": "code",
   "execution_count": 41,
   "id": "0b1b14c3",
   "metadata": {},
   "outputs": [
    {
     "name": "stdout",
     "output_type": "stream",
     "text": [
      "              precision    recall  f1-score   support\n",
      "\n",
      "         0.0       0.87      0.93      0.90    338257\n",
      "         1.0       0.92      0.86      0.89    338164\n",
      "\n",
      "    accuracy                           0.89    676421\n",
      "   macro avg       0.90      0.89      0.89    676421\n",
      "weighted avg       0.90      0.89      0.89    676421\n",
      "\n"
     ]
    }
   ],
   "source": [
    "print(reporte_classf_rfc)"
   ]
  },
  {
   "cell_type": "code",
   "execution_count": null,
   "id": "5d1f86d0",
   "metadata": {},
   "outputs": [],
   "source": []
  },
  {
   "cell_type": "code",
   "execution_count": 29,
   "id": "23513ad1",
   "metadata": {},
   "outputs": [],
   "source": [
    "# Caminho no HDFS onde você deseja salvar o modelo\n",
    "caminho_modelo = \"hdfs://localhost:9000/user/belilo/ctu13/preprocessamentofase2/melhor_modelo_nb_c9\"\n",
    "melhor_model_nb.save(caminho_modelo)"
   ]
  },
  {
   "cell_type": "code",
   "execution_count": 30,
   "id": "15d70a32",
   "metadata": {},
   "outputs": [],
   "source": [
    "caminho_modelo2 = \"hdfs://localhost:9000/user/belilo/ctu13/preprocessamentofase2/melhor_modelo_dt_c9\"\n",
    "caminho_modelo3 = \"hdfs://localhost:9000/user/belilo/ctu13/preprocessamentofase2/melhor_modelo_rfc_c9\"\n",
    "melhor_model_dt.save(caminho_modelo2)\n",
    "melhor_model_rfc.save(caminho_modelo3)"
   ]
  },
  {
   "cell_type": "code",
   "execution_count": null,
   "id": "b38bf6d5",
   "metadata": {},
   "outputs": [],
   "source": []
  },
  {
   "cell_type": "code",
   "execution_count": 32,
   "id": "d8dc9443",
   "metadata": {},
   "outputs": [],
   "source": [
    "predicao_melhor_modelo_nb = predicao_modelo(melhor_model_nb ,df_testec9)\n",
    "predicao_melhor_modelo_dt = predicao_modelo(melhor_model_dt ,df_testec9)\n",
    "predicao_melhor_modelo_rfc = predicao_modelo(melhor_model_rfc ,df_testec9)\n"
   ]
  },
  {
   "cell_type": "code",
   "execution_count": 33,
   "id": "1529b69a",
   "metadata": {},
   "outputs": [
    {
     "name": "stdout",
     "output_type": "stream",
     "text": [
      "Metricas: \n",
      "\n",
      "Naive Bayes\n",
      "Acuracia:  80.64090263312346\n",
      "Precisao:  85.45520468476357\n",
      "Recall:  73.85804284907628\n",
      "f1_score:  80.55151306170106\n"
     ]
    }
   ],
   "source": [
    "print(\"Metricas: \")\n",
    "print()\n",
    "print(\"Naive Bayes\")\n",
    "acuracia (predicao_melhor_modelo_nb)\n",
    "precisao(predicao_melhor_modelo_nb)\n",
    "revocacao_recall(predicao_melhor_modelo_nb)\n",
    "f1_Score(predicao_melhor_modelo_nb)\n"
   ]
  },
  {
   "cell_type": "code",
   "execution_count": null,
   "id": "79f3e38c",
   "metadata": {},
   "outputs": [],
   "source": []
  },
  {
   "cell_type": "code",
   "execution_count": null,
   "id": "0b5a0ada",
   "metadata": {},
   "outputs": [],
   "source": []
  },
  {
   "cell_type": "code",
   "execution_count": null,
   "id": "bffcc6f6",
   "metadata": {},
   "outputs": [],
   "source": [
    "auc(predicao_melhor_modelo_nb)"
   ]
  },
  {
   "cell_type": "code",
   "execution_count": 38,
   "id": "46f9879e",
   "metadata": {},
   "outputs": [
    {
     "name": "stdout",
     "output_type": "stream",
     "text": [
      "Metricas: \n",
      "\n",
      "Melhor modelo Arvore de Decisao\n",
      "Acuracia:  99.3041315985163\n",
      "Precisao:  98.84746060570558\n",
      "Recall:  99.77177116807634\n",
      "f1_score:  99.30411593509596\n",
      "AUC:  99.30406729468743\n"
     ]
    }
   ],
   "source": [
    "print(\"Metricas: \")\n",
    "print()\n",
    "print(\"Melhor modelo Arvore de Decisao\")\n",
    "acuracia (predicao_melhor_modelo_dt)\n",
    "precisao(predicao_melhor_modelo_dt)\n",
    "revocacao_recall(predicao_melhor_modelo_dt)\n",
    "f1_Score(predicao_melhor_modelo_dt)\n",
    "auc(predicao_melhor_modelo_dt)"
   ]
  },
  {
   "cell_type": "code",
   "execution_count": 39,
   "id": "db05f4a2",
   "metadata": {},
   "outputs": [
    {
     "name": "stdout",
     "output_type": "stream",
     "text": [
      "Metricas: \n",
      "\n",
      " Random Forest Classifier\n",
      "Acuracia:  99.22962178879722\n",
      "Precisao:  98.71030585261975\n",
      "Recall:  99.76290217201714\n",
      "f1_score:  99.22959931736838\n",
      "AUC:  99.2295484588809\n"
     ]
    }
   ],
   "source": [
    "print(\"Metricas: \")\n",
    "print()\n",
    "print(\" Random Forest Classifier\")\n",
    "acuracia (predicao_melhor_modelo_rfc)\n",
    "precisao(predicao_melhor_modelo_rfc)\n",
    "revocacao_recall(predicao_melhor_modelo_rfc)\n",
    "f1_Score(predicao_melhor_modelo_rfc)\n",
    "auc(predicao_melhor_modelo_rfc)"
   ]
  },
  {
   "cell_type": "code",
   "execution_count": null,
   "id": "71c108d9",
   "metadata": {},
   "outputs": [],
   "source": []
  },
  {
   "cell_type": "code",
   "execution_count": null,
   "id": "cdc948d6",
   "metadata": {},
   "outputs": [],
   "source": []
  },
  {
   "cell_type": "code",
   "execution_count": 40,
   "id": "acdc754b",
   "metadata": {},
   "outputs": [],
   "source": [
    "# MATRIZ DE CONFUSAO\n",
    "matrz_nb = matriz_de_confusao(predicao_melhor_modelo_nb)\n",
    "matrz_dt = matriz_de_confusao(predicao_melhor_modelo_dt)\n",
    "matrz_rfc = matriz_de_confusao(predicao_melhor_modelo_rfc)\n",
    "\n",
    "matrz_nb_percentagem = matriz_de_confusao_percentagem(predicao_melhor_modelo_nb)\n",
    "matrz_dt_percentagem = matriz_de_confusao_percentagem(predicao_melhor_modelo_dt)\n",
    "matrz_rfc_percentagem = matriz_de_confusao_percentagem(predicao_melhor_modelo_rfc)"
   ]
  },
  {
   "cell_type": "code",
   "execution_count": null,
   "id": "0919aef6",
   "metadata": {},
   "outputs": [],
   "source": []
  },
  {
   "cell_type": "code",
   "execution_count": 41,
   "id": "dcd19dc6",
   "metadata": {},
   "outputs": [
    {
     "data": {
      "image/png": "[encoded data removed]",
      "text/plain": [
       "<Figure size 640x480 with 2 Axes>"
      ]
     },
     "metadata": {},
     "output_type": "display_data"
    },
    {
     "data": {
      "image/png": "[encoded data removed]",
      "text/plain": [
       "<Figure size 800x600 with 1 Axes>"
      ]
     },
     "metadata": {},
     "output_type": "display_data"
    }
   ],
   "source": [
    "#visualizar_matriz(matrz_nb,\"Matriz validacao cruzada de Naive\")\n",
    "visualizar_matriz(matrz_nb,\"Matriz validacao cruzada de Naive Bayes\")"
   ]
  },
  {
   "cell_type": "code",
   "execution_count": 42,
   "id": "1a512ab6",
   "metadata": {},
   "outputs": [
    {
     "data": {
      "image/png": "[encoded data removed]",
      "text/plain": [
       "<Figure size 640x480 with 2 Axes>"
      ]
     },
     "metadata": {},
     "output_type": "display_data"
    }
   ],
   "source": [
    "visualizar_matriz_percentagem(matrz_nb_percentagem,\"Matriz validacao cruzada de Naive Bayes\")"
   ]
  },
  {
   "cell_type": "code",
   "execution_count": 43,
   "id": "2eee1c46",
   "metadata": {},
   "outputs": [
    {
     "data": {
      "image/png": "[encoded data removed]",
      "text/plain": [
       "<Figure size 640x480 with 2 Axes>"
      ]
     },
     "metadata": {},
     "output_type": "display_data"
    },
    {
     "data": {
      "image/png": "[encoded data removed]",
      "text/plain": [
       "<Figure size 800x600 with 1 Axes>"
      ]
     },
     "metadata": {},
     "output_type": "display_data"
    }
   ],
   "source": [
    "visualizar_matriz(matrz_dt,\"Mat Validacao cruzada Arvore de Decisao\")"
   ]
  },
  {
   "cell_type": "code",
   "execution_count": 44,
   "id": "12e72514",
   "metadata": {},
   "outputs": [
    {
     "data": {
      "image/png": "[encoded data removed]",
      "text/plain": [
       "<Figure size 640x480 with 2 Axes>"
      ]
     },
     "metadata": {},
     "output_type": "display_data"
    }
   ],
   "source": [
    "visualizar_matriz_percentagem(matrz_dt_percentagem,\"Matriz validacao cruzada Arvore de Decisao\")"
   ]
  },
  {
   "cell_type": "code",
   "execution_count": 45,
   "id": "09f09897",
   "metadata": {},
   "outputs": [
    {
     "data": {
      "image/png": "[encoded data removed]",
      "text/plain": [
       "<Figure size 640x480 with 2 Axes>"
      ]
     },
     "metadata": {},
     "output_type": "display_data"
    },
    {
     "data": {
      "image/png": "[encoded data removed]",
      "text/plain": [
       "<Figure size 800x600 with 1 Axes>"
      ]
     },
     "metadata": {},
     "output_type": "display_data"
    }
   ],
   "source": [
    "\n",
    "visualizar_matriz(matrz_rfc,\"Matriz validacao cruzada de Floresta Aleatoria\")"
   ]
  },
  {
   "cell_type": "code",
   "execution_count": 46,
   "id": "8432ed48",
   "metadata": {},
   "outputs": [
    {
     "data": {
      "image/png": "[encoded data removed]",
      "text/plain": [
       "<Figure size 640x480 with 2 Axes>"
      ]
     },
     "metadata": {},
     "output_type": "display_data"
    }
   ],
   "source": [
    "visualizar_matriz_percentagem(matrz_rfc_percentagem, \"Matriz de confusao floresta aleatoria\")"
   ]
  },
  {
   "cell_type": "code",
   "execution_count": null,
   "id": "2a51890e",
   "metadata": {},
   "outputs": [],
   "source": [
    "\n"
   ]
  }
 ],
 "metadata": {
  "kernelspec": {
   "display_name": "pyspark-env",
   "language": "python",
   "name": "pyspark-env"
  },
  "language_info": {
   "codemirror_mode": {
    "name": "ipython",
    "version": 3
   },
   "file_extension": ".py",
   "mimetype": "text/x-python",
   "name": "python",
   "nbconvert_exporter": "python",
   "pygments_lexer": "ipython3",
   "version": "3.11.4"
  }
 },
 "nbformat": 4,
 "nbformat_minor": 5
}
