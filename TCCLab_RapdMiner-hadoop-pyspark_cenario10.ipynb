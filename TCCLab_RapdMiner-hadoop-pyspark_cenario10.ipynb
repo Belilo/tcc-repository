{
 "cells": [
  {
   "cell_type": "code",
   "execution_count": 1,
   "id": "0daf8ccb",
   "metadata": {
    "scrolled": true
   },
   "outputs": [
    {
     "data": {
      "text/plain": [
       "'C:\\\\Spark'"
      ]
     },
     "execution_count": 1,
     "metadata": {},
     "output_type": "execute_result"
    }
   ],
   "source": [
    "import findspark\n",
    "findspark.init()\n",
    "findspark.find()"
   ]
  },
  {
   "cell_type": "code",
   "execution_count": 2,
   "id": "2b72e820",
   "metadata": {
    "scrolled": true
   },
   "outputs": [],
   "source": [
    "#Bibliotecas:\n",
    "## Pyspark:\n",
    "import pyspark\n",
    "from pyspark import SparkConf, SparkContext\n",
    "from pyspark.sql import SparkSession\n",
    "from pyspark.sql import functions as f\n",
    "from pyspark.sql import types as t\n",
    "from pyspark.ml import Pipeline\n",
    "from pyspark.ml.classification import DecisionTreeClassifier,NaiveBayes,RandomForestClassifier\n",
    "from pyspark.ml.feature import StringIndexer,OneHotEncoder,VectorAssembler,StandardScaler\n",
    "from pyspark.ml.evaluation import MulticlassClassificationEvaluator, BinaryClassificationEvaluator\n",
    "from pyspark.ml.tuning import CrossValidator, ParamGridBuilder\n",
    "from pyspark.mllib.evaluation import MulticlassMetrics\n",
    "\n",
    "## Outras libs:\n",
    "import os\n",
    "import numpy as np\n",
    "import pandas as pd\n",
    "from pandas.plotting import scatter_matrix\n",
    "\n",
    "\n",
    "#Matriz de Confusao / Graficos\n",
    "import seaborn as sns\n",
    "import matplotlib.pyplot as plt\n",
    "import matplotlib.ticker as mtick\n",
    "import matplotlib\n",
    "from sklearn.metrics import confusion_matrix"
   ]
  },
  {
   "cell_type": "code",
   "execution_count": 3,
   "id": "e466ba26",
   "metadata": {
    "scrolled": true
   },
   "outputs": [],
   "source": [
    "# Configuração do Spark\n",
    "conf = SparkConf().setAppName(\"BigdataTccLabhadooppyspark_c10_c\").setMaster(\"local[*]\").set(\"spark.executor.memory\", \"12g\") \\\n",
    "                  .set(\"spark.driver.memory\", \"6g\") \\\n",
    "                  .set(\"spark.executor.cores\", \"3\").set(\"spark.executor.instances\", \"8\") \n",
    "sc = SparkContext(conf=conf)\n",
    "spark = SparkSession.builder.getOrCreate()"
   ]
  },
  {
   "cell_type": "code",
   "execution_count": 4,
   "id": "2e3ab2a0",
   "metadata": {
    "scrolled": true
   },
   "outputs": [],
   "source": [
    "#Conexao com apache hadoop e carregamento do dadosarmazenados no HDFS \n",
    "hdfs_caminho = \"hdfs://localhost:9000/user/belilo/ctu13/cenario10.csv\"\n",
    "df = spark.read.csv(hdfs_caminho, header=True, inferSchema=True)"
   ]
  },
  {
   "cell_type": "code",
   "execution_count": 5,
   "id": "75e79920",
   "metadata": {
    "scrolled": true
   },
   "outputs": [
    {
     "name": "stdout",
     "output_type": "stream",
     "text": [
      "+----------+-----+------+---+------+--------+-----------+----+----+-------+--------+--------+\n",
      "|     Label|Proto| Sport|Dir| Dport|   State|        Dur|sTos|dTos|TotPkts|TotBytes|SrcBytes|\n",
      "+----------+-----+------+---+------+--------+-----------+----+----+-------+--------+--------+\n",
      "|Background|  udp| 60621|<->| 63550|     CON| 2752.65625|   0|   0|      3|     435|     290|\n",
      "|Background|  udp| 51413|<->| 63550|     CON|1849.315552|   0|   0|      3|     417|     272|\n",
      "|Background|  udp| 63195|<->| 63550|     CON|2091.747314|   0|   0|      2|     290|     145|\n",
      "|Background|  udp| 39110|<->| 63550|     CON|1535.769409|   0|   0|      2|     290|     145|\n",
      "|Background|  tcp| 33426|<?>| 25443|FRPA_FPA|   0.002636|   0|   0|      6|     490|     321|\n",
      "|Background|  udp| 41915|<->| 43087|     CON|   72.43679|   0|   0|  23849|24298138|  509912|\n",
      "|Background|  tcp| 42020|<?>|   993|   PA_PA|3599.473633|   0|   0|    543|   98018|   33640|\n",
      "|Background|  tcp| 49190|<?>|    80|   A_FPA|  28.152548|   0|   0|    222|  191281|    6610|\n",
      "|Background|  tcp| 51287|<?>| 31002| FPA_FPA| 632.001648|   0|   0|  15347| 2542390| 2237911|\n",
      "|Background|  udp| 31002|<->| 49621|     CON| 628.915222|   0|   0|   9464| 2024974| 2022958|\n",
      "|Background|  udp| 39051| ->|  1153|     INT|    1.77E-4|   0|null|      1|     145|     145|\n",
      "|Background| icmp|0x0303| ->|0x8104|     URP|        0.0|   0|null|      1|     173|     173|\n",
      "|Background|  tcp| 53389|<?>| 48190| RPA_FPA|1315.114136|   0|   0|  59405|24973123|21487780|\n",
      "|Background|  tcp|    80|<?>|  2774|  FPA_FA|  450.40683|   0|   0|  85347|97405130|96357830|\n",
      "|Background|  tcp|  8000|<?>|  3978|  PA_FRA| 123.438812|   0|   0|   4238| 4189542| 4104702|\n",
      "|Background|  tcp|  2828| ->|    80|FPA_FSPA|   0.069355|   0|   0|      7|    1202|     739|\n",
      "|Background|  udp| 31011|<->| 43087|     CON| 118.675606|   0|   0|   4788| 5009469|   97163|\n",
      "|Background|  tcp|    80|<?>| 56949|    PA_A|3599.978271|   0|   0| 100926|64254705|61869003|\n",
      "|Background|  tcp| 48761|<?>|  8000|    A_PA|3599.985596|   0|   0| 112824|93703863| 3076176|\n",
      "|Background|  udp| 54176|<->| 13363|     CON|2421.037842|   0|   0|     11|    1451|    1091|\n",
      "+----------+-----+------+---+------+--------+-----------+----+----+-------+--------+--------+\n",
      "only showing top 20 rows\n",
      "\n"
     ]
    }
   ],
   "source": [
    "df.show()"
   ]
  },
  {
   "cell_type": "code",
   "execution_count": 6,
   "id": "e9cf5417",
   "metadata": {
    "scrolled": true
   },
   "outputs": [
    {
     "name": "stdout",
     "output_type": "stream",
     "text": [
      "root\n",
      " |-- Label: string (nullable = true)\n",
      " |-- Proto: string (nullable = true)\n",
      " |-- Sport: string (nullable = true)\n",
      " |-- Dir: string (nullable = true)\n",
      " |-- Dport: string (nullable = true)\n",
      " |-- State: string (nullable = true)\n",
      " |-- Dur: double (nullable = true)\n",
      " |-- sTos: integer (nullable = true)\n",
      " |-- dTos: integer (nullable = true)\n",
      " |-- TotPkts: integer (nullable = true)\n",
      " |-- TotBytes: integer (nullable = true)\n",
      " |-- SrcBytes: integer (nullable = true)\n",
      "\n"
     ]
    }
   ],
   "source": [
    "df.printSchema()"
   ]
  },
  {
   "cell_type": "code",
   "execution_count": 4,
   "id": "e6a240b2",
   "metadata": {
    "scrolled": true
   },
   "outputs": [],
   "source": [
    "# PREPROCESSAMENTO\n",
    "def renomear_atributos(df):\n",
    "    df = df.withColumnRenamed('Proto','protocolo').withColumnRenamed('Sport','PortaOrigem').withColumnRenamed('Dir','Direcao')\\\n",
    "        .withColumnRenamed('Dport','PortaDestino').withColumnRenamed('State','Estado').withColumnRenamed('Dur','Duracao')\\\n",
    "        .withColumnRenamed('Label',\"Rotulo\")\n",
    "    return df\n",
    "\n",
    "def alterar_tipo_string_int(df):\n",
    "    df = df.withColumn('PortaOrigem',f.col('Portaorigem').cast(t.IntegerType()))\\\n",
    "        .withColumn('PortaDestino',f.col('PortaDestino').cast(t.IntegerType()))\n",
    "    return df\n",
    "\n",
    "def verificaNullCol(df):\n",
    "  for coluna in df.columns:\n",
    "      print(coluna,\" : \", df.filter(df[coluna].isNull()).count())\n",
    "\n",
    "\n",
    "def preencher_nulos_com_moda(df):\n",
    "   # A impressao dos valores mostra o valor mais frequente (a moda) em cda uma das colunas que posuem dados nulos\n",
    "  print(\"Nome da coluna : O valor com maior frequencia (Moda)\")\n",
    "  for coluna in df.columns:\n",
    "      if df.filter(df[coluna].isNull()).count() != 0:\n",
    "          count_mode_val = df.groupBy(coluna).count().filter(f.col(coluna).isNotNull())\\\n",
    "                              .agg(f.max(\"count\")).collect()[0][0]\n",
    "          mode_val = df.groupBy(coluna).count().filter(f.col(coluna).isNotNull())\\\n",
    "                              .filter(f.col(\"count\") == count_mode_val).select(coluna).collect()[0][0]\n",
    "\n",
    "          print(coluna,\" : \", mode_val)\n",
    "          df=df.na.fill(mode_val,subset=[coluna])\n",
    "  return df\n",
    "\n",
    "\n",
    "#Funcao responsavel por verificar dados distentos em cada atrubuto\n",
    "def mostrar_dados_distntos_atributos(df):\n",
    "  df.createOrReplaceTempView(\"tabela\")\n",
    "  spark.sql(\"SELECT DISTINCT Duracao from tabela\").show()\n",
    "  spark.sql(\"SELECT DISTINCT protocolo from tabela\").show()\n",
    "  spark.sql(\"SELECT DISTINCT PortaOrigem from tabela\").show()\n",
    "  spark.sql(\"SELECT DISTINCT Direcao from tabela\").show()\n",
    "  spark.sql(\"SELECT DISTINCT PortaDestino from tabela\").show()\n",
    "  spark.sql(\"SELECT DISTINCT Estado from tabela\").show()\n",
    "  spark.sql(\"SELECT DISTINCT sTos from tabela\").show()\n",
    "  spark.sql(\"SELECT DISTINCT dTos from tabela\").show()\n",
    "  spark.sql(\"SELECT DISTINCT TotPkts from tabela\").show()\n",
    "  spark.sql(\"SELECT DISTINCT TotBytes from tabela\").show()\n",
    "  spark.sql(\"SELECT DISTINCT SrcBytes from tabela\").show()\n",
    "  spark.sql(\"SELECT DISTINCT Rotulo from tabela\").show()\n",
    "\n",
    "# Funcao responsavel por tratar ruido no atributo Direcao\n",
    "def tratar_ruido(df):\n",
    "  df.createOrReplaceTempView(\"tabela\")\n",
    "  df=spark.sql(\"SELECT Duracao, protocolo, PortaOrigem, REPLACE(Direcao, '?', '-') as Direcao, PortaDestino, Estado\\\n",
    "            ,sTos, dTos, TotPkts, TotBytes, SrcBytes, Rotulo  from tabela\")\n",
    "  return df\n",
    "\n",
    "# Funcao usada para tornar o dataset com duas classes\n",
    "def transformarClassBackgroud_normal(df):\n",
    "    df.createOrReplaceTempView(\"tabela\")\n",
    "    df = spark.sql(\"SELECT Duracao, protocolo, PortaOrigem, Direcao, PortaDestino, Estado, \\\n",
    "                   sTos, dTos, TotPkts, TotBytes, SrcBytes, \\\n",
    "                   REPLACE(Rotulo, 'Background', 'Normal') as Rotulo  from tabela\")\n",
    "    return df\n",
    "\n",
    "#Funcao Responsavel por eliinar linhas Repetidas / Duplicadas\n",
    "def eliminarDuplicates(df):\n",
    " df=df.dropDuplicates()\n",
    " return df\n"
   ]
  },
  {
   "cell_type": "code",
   "execution_count": 8,
   "id": "ca34f211",
   "metadata": {
    "scrolled": true
   },
   "outputs": [
    {
     "name": "stdout",
     "output_type": "stream",
     "text": [
      "+----------+---------+-----------+-------+------------+------+-----------+----+----+-------+--------+--------+\n",
      "|    Rotulo|protocolo|PortaOrigem|Direcao|PortaDestino|Estado|    Duracao|sTos|dTos|TotPkts|TotBytes|SrcBytes|\n",
      "+----------+---------+-----------+-------+------------+------+-----------+----+----+-------+--------+--------+\n",
      "|Background|      udp|      60621|    <->|       63550|   CON| 2752.65625|   0|   0|      3|     435|     290|\n",
      "|Background|      udp|      51413|    <->|       63550|   CON|1849.315552|   0|   0|      3|     417|     272|\n",
      "+----------+---------+-----------+-------+------------+------+-----------+----+----+-------+--------+--------+\n",
      "only showing top 2 rows\n",
      "\n",
      "root\n",
      " |-- Rotulo: string (nullable = true)\n",
      " |-- protocolo: string (nullable = true)\n",
      " |-- PortaOrigem: string (nullable = true)\n",
      " |-- Direcao: string (nullable = true)\n",
      " |-- PortaDestino: string (nullable = true)\n",
      " |-- Estado: string (nullable = true)\n",
      " |-- Duracao: double (nullable = true)\n",
      " |-- sTos: integer (nullable = true)\n",
      " |-- dTos: integer (nullable = true)\n",
      " |-- TotPkts: integer (nullable = true)\n",
      " |-- TotBytes: integer (nullable = true)\n",
      " |-- SrcBytes: integer (nullable = true)\n",
      "\n"
     ]
    }
   ],
   "source": [
    "df = renomear_atributos(df)\n",
    "df.show(2)\n",
    "\n",
    "df.printSchema()\n"
   ]
  },
  {
   "cell_type": "code",
   "execution_count": 9,
   "id": "bd2a47f6",
   "metadata": {
    "scrolled": true
   },
   "outputs": [
    {
     "name": "stdout",
     "output_type": "stream",
     "text": [
      "root\n",
      " |-- Rotulo: string (nullable = true)\n",
      " |-- protocolo: string (nullable = true)\n",
      " |-- PortaOrigem: integer (nullable = true)\n",
      " |-- Direcao: string (nullable = true)\n",
      " |-- PortaDestino: integer (nullable = true)\n",
      " |-- Estado: string (nullable = true)\n",
      " |-- Duracao: double (nullable = true)\n",
      " |-- sTos: integer (nullable = true)\n",
      " |-- dTos: integer (nullable = true)\n",
      " |-- TotPkts: integer (nullable = true)\n",
      " |-- TotBytes: integer (nullable = true)\n",
      " |-- SrcBytes: integer (nullable = true)\n",
      "\n"
     ]
    }
   ],
   "source": [
    "df= alterar_tipo_string_int(df)\n",
    "df.printSchema()"
   ]
  },
  {
   "cell_type": "code",
   "execution_count": 10,
   "id": "57f9cd48",
   "metadata": {
    "scrolled": true
   },
   "outputs": [
    {
     "name": "stdout",
     "output_type": "stream",
     "text": [
      "Rotulo  :  0\n",
      "protocolo  :  0\n",
      "PortaOrigem  :  135176\n",
      "Direcao  :  0\n",
      "PortaDestino  :  135709\n",
      "Estado  :  1228\n",
      "Duracao  :  0\n",
      "sTos  :  12852\n",
      "dTos  :  186791\n",
      "TotPkts  :  0\n",
      "TotBytes  :  0\n",
      "SrcBytes  :  0\n"
     ]
    }
   ],
   "source": [
    "verificaNullCol(df)"
   ]
  },
  {
   "cell_type": "code",
   "execution_count": 11,
   "id": "982cef9f",
   "metadata": {
    "scrolled": true
   },
   "outputs": [
    {
     "name": "stdout",
     "output_type": "stream",
     "text": [
      "Nome da coluna : O valor com maior frequencia (Moda)\n",
      "PortaOrigem  :  13363\n",
      "PortaDestino  :  53\n",
      "Estado  :  CON\n",
      "sTos  :  0\n",
      "dTos  :  0\n"
     ]
    }
   ],
   "source": [
    "df = preencher_nulos_com_moda(df)"
   ]
  },
  {
   "cell_type": "code",
   "execution_count": 12,
   "id": "9d13d187",
   "metadata": {
    "scrolled": true
   },
   "outputs": [
    {
     "name": "stdout",
     "output_type": "stream",
     "text": [
      "+-----------+\n",
      "|    Duracao|\n",
      "+-----------+\n",
      "|    7.18E-4|\n",
      "|3017.522949|\n",
      "| 3552.17749|\n",
      "| 416.194489|\n",
      "|     7.5E-4|\n",
      "|  516.55481|\n",
      "| 114.511345|\n",
      "|    0.00195|\n",
      "|   0.059421|\n",
      "|3228.565918|\n",
      "| 244.545197|\n",
      "| 309.717377|\n",
      "|    3.71E-4|\n",
      "|    0.19075|\n",
      "|   1.511531|\n",
      "|   0.179585|\n",
      "|   0.001894|\n",
      "|  16.983456|\n",
      "|3376.620605|\n",
      "|3096.484131|\n",
      "+-----------+\n",
      "only showing top 20 rows\n",
      "\n",
      "+---------+\n",
      "|protocolo|\n",
      "+---------+\n",
      "|      arp|\n",
      "|      esp|\n",
      "|      tcp|\n",
      "|     ipv6|\n",
      "|  ipx/spx|\n",
      "|      rtp|\n",
      "|ipv6-icmp|\n",
      "|      udt|\n",
      "|      llc|\n",
      "|     igmp|\n",
      "|      pim|\n",
      "|      udp|\n",
      "|     icmp|\n",
      "|     rtcp|\n",
      "+---------+\n",
      "\n",
      "+-----------+\n",
      "|PortaOrigem|\n",
      "+-----------+\n",
      "|       1238|\n",
      "|      53565|\n",
      "|      53963|\n",
      "|       4935|\n",
      "|      35820|\n",
      "|      43527|\n",
      "|      13840|\n",
      "|      37111|\n",
      "|      63155|\n",
      "|       6620|\n",
      "|      44822|\n",
      "|      29894|\n",
      "|      53634|\n",
      "|      49717|\n",
      "|      20924|\n",
      "|      50348|\n",
      "|       2866|\n",
      "|      57201|\n",
      "|      23336|\n",
      "|      35361|\n",
      "+-----------+\n",
      "only showing top 20 rows\n",
      "\n",
      "+-------+\n",
      "|Direcao|\n",
      "+-------+\n",
      "|    who|\n",
      "|     ?>|\n",
      "|    <->|\n",
      "|    <?>|\n",
      "|     <-|\n",
      "|     ->|\n",
      "+-------+\n",
      "\n",
      "+------------+\n",
      "|PortaDestino|\n",
      "+------------+\n",
      "|        2142|\n",
      "|       33569|\n",
      "|        9376|\n",
      "|       34061|\n",
      "|       56054|\n",
      "|       46952|\n",
      "|       18911|\n",
      "|        7833|\n",
      "|       62015|\n",
      "|       34234|\n",
      "|       25517|\n",
      "|       48254|\n",
      "|       47217|\n",
      "|       12940|\n",
      "|       49308|\n",
      "|       40386|\n",
      "|       43852|\n",
      "|       40335|\n",
      "|       40515|\n",
      "|        7340|\n",
      "+------------+\n",
      "only showing top 20 rows\n",
      "\n",
      "+---------+\n",
      "|   Estado|\n",
      "+---------+\n",
      "| FSRA_FSA|\n",
      "|    S_RPA|\n",
      "|      RED|\n",
      "|SPAC_FSPA|\n",
      "| FSPA_SRA|\n",
      "|      URN|\n",
      "|    FPA_R|\n",
      "|    SA_RA|\n",
      "|  SRA_SPA|\n",
      "|  FSA_FSA|\n",
      "|   PA_FSA|\n",
      "| FRPA_FPA|\n",
      "|    A_FPA|\n",
      "|      NNS|\n",
      "|    PA_PA|\n",
      "| FSPA_FSA|\n",
      "|     SA_R|\n",
      "|     SRA_|\n",
      "|  RPA_FPA|\n",
      "|      URH|\n",
      "+---------+\n",
      "only showing top 20 rows\n",
      "\n",
      "+----+\n",
      "|sTos|\n",
      "+----+\n",
      "| 192|\n",
      "|   1|\n",
      "|   3|\n",
      "|   2|\n",
      "|   0|\n",
      "+----+\n",
      "\n",
      "+----+\n",
      "|dTos|\n",
      "+----+\n",
      "|   1|\n",
      "|   3|\n",
      "|   2|\n",
      "|   0|\n",
      "+----+\n",
      "\n",
      "+-------+\n",
      "|TotPkts|\n",
      "+-------+\n",
      "|    148|\n",
      "|   2142|\n",
      "|    471|\n",
      "|   3749|\n",
      "|  13289|\n",
      "|    463|\n",
      "|   1238|\n",
      "|    243|\n",
      "|    540|\n",
      "|    392|\n",
      "|   1025|\n",
      "|    858|\n",
      "|   1084|\n",
      "|   1460|\n",
      "|     31|\n",
      "|   6266|\n",
      "|  29177|\n",
      "|   1143|\n",
      "|    516|\n",
      "|   1139|\n",
      "+-------+\n",
      "only showing top 20 rows\n",
      "\n",
      "+--------+\n",
      "|TotBytes|\n",
      "+--------+\n",
      "|    7253|\n",
      "|     148|\n",
      "|   78400|\n",
      "|  550649|\n",
      "|    1088|\n",
      "|     496|\n",
      "|    2142|\n",
      "|   74166|\n",
      "|    9900|\n",
      "|    7754|\n",
      "|    2866|\n",
      "|    3749|\n",
      "|    2366|\n",
      "|   26708|\n",
      "|    1238|\n",
      "|     463|\n",
      "|   68090|\n",
      "|    1645|\n",
      "|   11033|\n",
      "|    1591|\n",
      "+--------+\n",
      "only showing top 20 rows\n",
      "\n",
      "+--------+\n",
      "|SrcBytes|\n",
      "+--------+\n",
      "|     148|\n",
      "|    1238|\n",
      "|  100274|\n",
      "|     833|\n",
      "|    2142|\n",
      "|    6336|\n",
      "|    1591|\n",
      "|    3918|\n",
      "|    1342|\n",
      "|    1580|\n",
      "|    7880|\n",
      "|     471|\n",
      "|   12940|\n",
      "|     463|\n",
      "|    1645|\n",
      "|    1088|\n",
      "|    4818|\n",
      "|    2366|\n",
      "|    1959|\n",
      "|    3794|\n",
      "+--------+\n",
      "only showing top 20 rows\n",
      "\n",
      "+----------+\n",
      "|    Rotulo|\n",
      "+----------+\n",
      "|    Botnet|\n",
      "|Background|\n",
      "|    Normal|\n",
      "+----------+\n",
      "\n"
     ]
    }
   ],
   "source": [
    "mostrar_dados_distntos_atributos(df)"
   ]
  },
  {
   "cell_type": "code",
   "execution_count": 13,
   "id": "168c61a4",
   "metadata": {
    "scrolled": true
   },
   "outputs": [
    {
     "name": "stdout",
     "output_type": "stream",
     "text": [
      "+-------+\n",
      "|Direcao|\n",
      "+-------+\n",
      "|    who|\n",
      "|    <->|\n",
      "|     <-|\n",
      "|     ->|\n",
      "+-------+\n",
      "\n"
     ]
    }
   ],
   "source": [
    "df =tratar_ruido(df)\n",
    "df.select(\"Direcao\").distinct().show()"
   ]
  },
  {
   "cell_type": "code",
   "execution_count": 14,
   "id": "afdd0578",
   "metadata": {
    "scrolled": true
   },
   "outputs": [
    {
     "data": {
      "text/plain": [
       "1309791"
      ]
     },
     "execution_count": 14,
     "metadata": {},
     "output_type": "execute_result"
    }
   ],
   "source": [
    "#Total de linhas antes da eliminacao de linhas duplicadas\n",
    "df.count()"
   ]
  },
  {
   "cell_type": "code",
   "execution_count": 15,
   "id": "7e25bb99",
   "metadata": {
    "scrolled": true
   },
   "outputs": [
    {
     "data": {
      "text/plain": [
       "1189304"
      ]
     },
     "execution_count": 15,
     "metadata": {},
     "output_type": "execute_result"
    }
   ],
   "source": [
    "df = eliminarDuplicates(df)\n",
    "df.count()"
   ]
  },
  {
   "cell_type": "code",
   "execution_count": 16,
   "id": "48dffd91",
   "metadata": {
    "scrolled": true
   },
   "outputs": [
    {
     "data": {
      "text/plain": [
       "['Duracao',\n",
       " 'protocolo',\n",
       " 'PortaOrigem',\n",
       " 'Direcao',\n",
       " 'PortaDestino',\n",
       " 'Estado',\n",
       " 'sTos',\n",
       " 'dTos',\n",
       " 'TotPkts',\n",
       " 'TotBytes',\n",
       " 'SrcBytes',\n",
       " 'Rotulo']"
      ]
     },
     "execution_count": 16,
     "metadata": {},
     "output_type": "execute_result"
    }
   ],
   "source": [
    "dfcont = df\n",
    "dfcont.columns"
   ]
  },
  {
   "cell_type": "code",
   "execution_count": 17,
   "id": "3057d1c2",
   "metadata": {
    "scrolled": true
   },
   "outputs": [],
   "source": [
    "# Salva dados como ponto de restuaro   em formato CSV no HDFS\n",
    "caminhohdfs = \"hdfs://localhost:9000/user/belilo/ctu13/preprocessamentofase2/preprocesfase2c10.csv\"\n",
    "dfcont.write.csv(caminhohdfs, header=True, mode=\"overwrite\")"
   ]
  },
  {
   "cell_type": "code",
   "execution_count": 6,
   "id": "e41c76e4",
   "metadata": {
    "scrolled": true
   },
   "outputs": [],
   "source": [
    "#Carregar os dados do hdfs\n",
    "caminhohdfs = \"hdfs://localhost:9000/user/belilo/ctu13/preprocessamentofase2/preprocesfase2c10.csv\"\n",
    "dfcont = spark.read.csv(caminhohdfs, header=True, inferSchema=True)"
   ]
  },
  {
   "cell_type": "code",
   "execution_count": 8,
   "id": "e7ff902e",
   "metadata": {
    "scrolled": true
   },
   "outputs": [
    {
     "name": "stdout",
     "output_type": "stream",
     "text": [
      "+----------+---------+-----------+-------+------------+---------+----+----+-------+--------+--------+------+\n",
      "|   Duracao|protocolo|PortaOrigem|Direcao|PortaDestino|   Estado|sTos|dTos|TotPkts|TotBytes|SrcBytes|Rotulo|\n",
      "+----------+---------+-----------+-------+------------+---------+----+----+-------+--------+--------+------+\n",
      "|633.004517|      tcp|      49615|    <->|       31002|  FPA_FPA|   0|   0|   1231|  107062|   36468|Normal|\n",
      "| 18.405928|      tcp|      49980|     ->|          80|FSPA_FSPA|   0|   0|     11|    1838|     793|Normal|\n",
      "|   2.17E-4|      udp|      58255|    <->|          53|      CON|   0|   0|      2|     214|      81|Normal|\n",
      "+----------+---------+-----------+-------+------------+---------+----+----+-------+--------+--------+------+\n",
      "only showing top 3 rows\n",
      "\n"
     ]
    }
   ],
   "source": [
    "dfcont = transformarClassBackgroud_normal(dfcont)\n",
    "dfcont.show(3)"
   ]
  },
  {
   "cell_type": "code",
   "execution_count": 9,
   "id": "8caa2a90",
   "metadata": {
    "scrolled": true
   },
   "outputs": [
    {
     "name": "stdout",
     "output_type": "stream",
     "text": [
      "+------+\n",
      "|Rotulo|\n",
      "+------+\n",
      "|Botnet|\n",
      "|Normal|\n",
      "+------+\n",
      "\n"
     ]
    }
   ],
   "source": [
    "dfcont.select(\"Rotulo\").distinct().show()"
   ]
  },
  {
   "cell_type": "code",
   "execution_count": 10,
   "id": "d88bd943",
   "metadata": {},
   "outputs": [],
   "source": [
    "contagem_por_rotulo = dfcont.groupBy(\"Rotulo\").count()"
   ]
  },
  {
   "cell_type": "code",
   "execution_count": 11,
   "id": "8679e45c",
   "metadata": {},
   "outputs": [
    {
     "name": "stdout",
     "output_type": "stream",
     "text": [
      "+------+-------+\n",
      "|Rotulo|  count|\n",
      "+------+-------+\n",
      "|Botnet|  10153|\n",
      "|Normal|1179151|\n",
      "+------+-------+\n",
      "\n"
     ]
    }
   ],
   "source": [
    "contagem_por_rotulo.show()"
   ]
  },
  {
   "cell_type": "code",
   "execution_count": 21,
   "id": "d81d0489",
   "metadata": {
    "scrolled": true
   },
   "outputs": [
    {
     "data": {
      "text/plain": [
       "2"
      ]
     },
     "execution_count": 21,
     "metadata": {},
     "output_type": "execute_result"
    }
   ],
   "source": [
    "dfcont.select(\"Rotulo\").distinct().count()"
   ]
  },
  {
   "cell_type": "code",
   "execution_count": 22,
   "id": "9b7f490b",
   "metadata": {
    "scrolled": true
   },
   "outputs": [
    {
     "data": {
      "text/plain": [
       "1189304"
      ]
     },
     "execution_count": 22,
     "metadata": {},
     "output_type": "execute_result"
    }
   ],
   "source": [
    "dfcont.count()"
   ]
  },
  {
   "cell_type": "markdown",
   "id": "bd71118f",
   "metadata": {},
   "source": [
    "## Balacenamento de dados de treino"
   ]
  },
  {
   "cell_type": "code",
   "execution_count": 23,
   "id": "ac4b3415",
   "metadata": {
    "scrolled": true
   },
   "outputs": [],
   "source": [
    "#!pip install --upgrade scikit-learn imbalanced-learn"
   ]
  },
  {
   "cell_type": "code",
   "execution_count": 24,
   "id": "d0ecff77",
   "metadata": {
    "scrolled": true
   },
   "outputs": [],
   "source": [
    "from imblearn.over_sampling import ADASYN\n",
    "from collections import Counter"
   ]
  },
  {
   "cell_type": "code",
   "execution_count": 25,
   "id": "6cecfb54",
   "metadata": {
    "scrolled": true
   },
   "outputs": [],
   "source": [
    "from imblearn.under_sampling import NearMiss\n",
    "from pandas.plotting import autocorrelation_plot"
   ]
  },
  {
   "cell_type": "code",
   "execution_count": 26,
   "id": "32a5c3b5",
   "metadata": {},
   "outputs": [],
   "source": [
    "df_treinarDesiquilibrado = dfcont"
   ]
  },
  {
   "cell_type": "code",
   "execution_count": 27,
   "id": "430385f0",
   "metadata": {},
   "outputs": [
    {
     "data": {
      "text/plain": [
       "1189304"
      ]
     },
     "execution_count": 27,
     "metadata": {},
     "output_type": "execute_result"
    }
   ],
   "source": [
    "df_treinarDesiquilibrado.count()"
   ]
  },
  {
   "cell_type": "code",
   "execution_count": null,
   "id": "c8df305c",
   "metadata": {},
   "outputs": [],
   "source": []
  },
  {
   "cell_type": "code",
   "execution_count": 32,
   "id": "721ad965",
   "metadata": {
    "scrolled": true
   },
   "outputs": [],
   "source": [
    "df_treinarDesiquilibrado = df_treinarDesiquilibrado.toPandas()"
   ]
  },
  {
   "cell_type": "code",
   "execution_count": 33,
   "id": "142e171c",
   "metadata": {
    "scrolled": true
   },
   "outputs": [
    {
     "name": "stdout",
     "output_type": "stream",
     "text": [
      "<class 'pandas.core.frame.DataFrame'>\n",
      "RangeIndex: 1189304 entries, 0 to 1189303\n",
      "Data columns (total 12 columns):\n",
      " #   Column        Non-Null Count    Dtype  \n",
      "---  ------        --------------    -----  \n",
      " 0   Duracao       1189304 non-null  float64\n",
      " 1   protocolo     1189304 non-null  object \n",
      " 2   PortaOrigem   1189304 non-null  int32  \n",
      " 3   Direcao       1189304 non-null  object \n",
      " 4   PortaDestino  1189304 non-null  int32  \n",
      " 5   Estado        1189304 non-null  object \n",
      " 6   sTos          1189304 non-null  int32  \n",
      " 7   dTos          1189304 non-null  int32  \n",
      " 8   TotPkts       1189304 non-null  int32  \n",
      " 9   TotBytes      1189304 non-null  int32  \n",
      " 10  SrcBytes      1189304 non-null  int32  \n",
      " 11  Rotulo        1189304 non-null  object \n",
      "dtypes: float64(1), int32(7), object(4)\n",
      "memory usage: 77.1+ MB\n"
     ]
    }
   ],
   "source": [
    "df_treinarDesiquilibradoc10 = df_treinarDesiquilibrado\n",
    "df_treinarDesiquilibradoc10.info()"
   ]
  },
  {
   "cell_type": "code",
   "execution_count": 34,
   "id": "de23b54f",
   "metadata": {
    "scrolled": true
   },
   "outputs": [
    {
     "data": {
      "text/plain": [
       "Duracao         0\n",
       "protocolo       0\n",
       "PortaOrigem     0\n",
       "Direcao         0\n",
       "PortaDestino    0\n",
       "Estado          0\n",
       "sTos            0\n",
       "dTos            0\n",
       "TotPkts         0\n",
       "TotBytes        0\n",
       "SrcBytes        0\n",
       "Rotulo          0\n",
       "dtype: int64"
      ]
     },
     "execution_count": 34,
     "metadata": {},
     "output_type": "execute_result"
    }
   ],
   "source": [
    "df_treinarDesiquilibradoc10.isnull().sum()  "
   ]
  },
  {
   "cell_type": "code",
   "execution_count": 35,
   "id": "586bd3f0",
   "metadata": {
    "scrolled": true
   },
   "outputs": [
    {
     "data": {
      "text/html": [
       "<div>\n",
       "<style scoped>\n",
       "    .dataframe tbody tr th:only-of-type {\n",
       "        vertical-align: middle;\n",
       "    }\n",
       "\n",
       "    .dataframe tbody tr th {\n",
       "        vertical-align: top;\n",
       "    }\n",
       "\n",
       "    .dataframe thead th {\n",
       "        text-align: right;\n",
       "    }\n",
       "</style>\n",
       "<table border=\"1\" class=\"dataframe\">\n",
       "  <thead>\n",
       "    <tr style=\"text-align: right;\">\n",
       "      <th></th>\n",
       "      <th>Duracao</th>\n",
       "      <th>protocolo</th>\n",
       "      <th>PortaOrigem</th>\n",
       "      <th>Direcao</th>\n",
       "      <th>PortaDestino</th>\n",
       "      <th>Estado</th>\n",
       "      <th>sTos</th>\n",
       "      <th>dTos</th>\n",
       "      <th>TotPkts</th>\n",
       "      <th>TotBytes</th>\n",
       "      <th>SrcBytes</th>\n",
       "      <th>Rotulo</th>\n",
       "    </tr>\n",
       "  </thead>\n",
       "  <tbody>\n",
       "    <tr>\n",
       "      <th>0</th>\n",
       "      <td>633.004517</td>\n",
       "      <td>tcp</td>\n",
       "      <td>49615</td>\n",
       "      <td>&lt;-&gt;</td>\n",
       "      <td>31002</td>\n",
       "      <td>FPA_FPA</td>\n",
       "      <td>0</td>\n",
       "      <td>0</td>\n",
       "      <td>1231</td>\n",
       "      <td>107062</td>\n",
       "      <td>36468</td>\n",
       "      <td>Normal</td>\n",
       "    </tr>\n",
       "    <tr>\n",
       "      <th>1</th>\n",
       "      <td>18.405928</td>\n",
       "      <td>tcp</td>\n",
       "      <td>49980</td>\n",
       "      <td>-&gt;</td>\n",
       "      <td>80</td>\n",
       "      <td>FSPA_FSPA</td>\n",
       "      <td>0</td>\n",
       "      <td>0</td>\n",
       "      <td>11</td>\n",
       "      <td>1838</td>\n",
       "      <td>793</td>\n",
       "      <td>Normal</td>\n",
       "    </tr>\n",
       "    <tr>\n",
       "      <th>2</th>\n",
       "      <td>0.000217</td>\n",
       "      <td>udp</td>\n",
       "      <td>58255</td>\n",
       "      <td>&lt;-&gt;</td>\n",
       "      <td>53</td>\n",
       "      <td>CON</td>\n",
       "      <td>0</td>\n",
       "      <td>0</td>\n",
       "      <td>2</td>\n",
       "      <td>214</td>\n",
       "      <td>81</td>\n",
       "      <td>Normal</td>\n",
       "    </tr>\n",
       "    <tr>\n",
       "      <th>3</th>\n",
       "      <td>0.178527</td>\n",
       "      <td>tcp</td>\n",
       "      <td>49803</td>\n",
       "      <td>&lt;-&gt;</td>\n",
       "      <td>443</td>\n",
       "      <td>FA_FA</td>\n",
       "      <td>0</td>\n",
       "      <td>0</td>\n",
       "      <td>3</td>\n",
       "      <td>180</td>\n",
       "      <td>120</td>\n",
       "      <td>Normal</td>\n",
       "    </tr>\n",
       "    <tr>\n",
       "      <th>4</th>\n",
       "      <td>3092.976807</td>\n",
       "      <td>udp</td>\n",
       "      <td>13363</td>\n",
       "      <td>&lt;-&gt;</td>\n",
       "      <td>5318</td>\n",
       "      <td>CON</td>\n",
       "      <td>0</td>\n",
       "      <td>0</td>\n",
       "      <td>4</td>\n",
       "      <td>274</td>\n",
       "      <td>154</td>\n",
       "      <td>Normal</td>\n",
       "    </tr>\n",
       "  </tbody>\n",
       "</table>\n",
       "</div>"
      ],
      "text/plain": [
       "       Duracao protocolo  PortaOrigem Direcao  PortaDestino     Estado  sTos  \\\n",
       "0   633.004517       tcp        49615     <->         31002    FPA_FPA     0   \n",
       "1    18.405928       tcp        49980      ->            80  FSPA_FSPA     0   \n",
       "2     0.000217       udp        58255     <->            53        CON     0   \n",
       "3     0.178527       tcp        49803     <->           443      FA_FA     0   \n",
       "4  3092.976807       udp        13363     <->          5318        CON     0   \n",
       "\n",
       "   dTos  TotPkts  TotBytes  SrcBytes  Rotulo  \n",
       "0     0     1231    107062     36468  Normal  \n",
       "1     0       11      1838       793  Normal  \n",
       "2     0        2       214        81  Normal  \n",
       "3     0        3       180       120  Normal  \n",
       "4     0        4       274       154  Normal  "
      ]
     },
     "execution_count": 35,
     "metadata": {},
     "output_type": "execute_result"
    }
   ],
   "source": [
    "df_treinarDesiquilibradoc10.head()"
   ]
  },
  {
   "cell_type": "code",
   "execution_count": 38,
   "id": "33568655",
   "metadata": {
    "scrolled": true
   },
   "outputs": [
    {
     "data": {
      "image/png": "[encoded data removed]",
      "text/plain": [
       "<Figure size 640x480 with 1 Axes>"
      ]
     },
     "metadata": {},
     "output_type": "display_data"
    }
   ],
   "source": [
    "df_treinarDesiquilibradoc10.Rotulo.value_counts()\n",
    "ax = sns.countplot(x=\"Rotulo\", data =  df_treinarDesiquilibradoc10)"
   ]
  },
  {
   "cell_type": "code",
   "execution_count": 39,
   "id": "41e3d184",
   "metadata": {
    "scrolled": true
   },
   "outputs": [],
   "source": [
    "#Formatar colunas categoricas em numericas\n",
    "def gerar_mapa_atrubutos_categoricos(data, coluna_to_map):\n",
    "    dicionario_map = {}\n",
    "\n",
    "    for coluna in coluna_to_map:\n",
    "        unique_values = data[coluna].unique()\n",
    "        mapear = {value: index + 1 for index, value in enumerate(unique_values)}\n",
    "        dicionario_map[coluna] = mapear\n",
    "\n",
    "    return dicionario_map\n",
    "\n",
    "def formatar_colunas_categoricas(data, coluna_map):\n",
    "    formatar_data = data.copy()\n",
    "\n",
    "    for coluna, mapear in coluna_map.items():\n",
    "        formatar_data[coluna] = formatar_data[coluna].map(mapear)\n",
    "\n",
    "    return formatar_data\n",
    "\n",
    "def restaurar_atributos_categoricos(dados_formatado, dicionario_map):\n",
    "    dados_restaurados = dados_formatado.copy()\n",
    "\n",
    "    for coluna, mapear in dicionario_map.items():\n",
    "        reverso_map = {v: k for k, v in mapear.items()}\n",
    "        dados_restaurados[coluna] = dados_restaurados[coluna].map(reverso_map)\n",
    "\n",
    "    return dados_restaurados"
   ]
  },
  {
   "cell_type": "code",
   "execution_count": 40,
   "id": "0de01e72",
   "metadata": {
    "scrolled": true
   },
   "outputs": [],
   "source": [
    "variavescategoricas = ['protocolo', 'Direcao', 'Estado', 'Rotulo']\n",
    "# Gerar o dicionário de mapeamento\n",
    "dicionario_mapa = gerar_mapa_atrubutos_categoricos(df_treinarDesiquilibradoc10, variavescategoricas)"
   ]
  },
  {
   "cell_type": "code",
   "execution_count": 41,
   "id": "ad50df16",
   "metadata": {
    "scrolled": true
   },
   "outputs": [],
   "source": [
    "dados_formatados = formatar_colunas_categoricas(df_treinarDesiquilibradoc10, dicionario_mapa)"
   ]
  },
  {
   "cell_type": "code",
   "execution_count": 42,
   "id": "5940ee1b",
   "metadata": {
    "scrolled": true
   },
   "outputs": [
    {
     "data": {
      "text/html": [
       "<div>\n",
       "<style scoped>\n",
       "    .dataframe tbody tr th:only-of-type {\n",
       "        vertical-align: middle;\n",
       "    }\n",
       "\n",
       "    .dataframe tbody tr th {\n",
       "        vertical-align: top;\n",
       "    }\n",
       "\n",
       "    .dataframe thead th {\n",
       "        text-align: right;\n",
       "    }\n",
       "</style>\n",
       "<table border=\"1\" class=\"dataframe\">\n",
       "  <thead>\n",
       "    <tr style=\"text-align: right;\">\n",
       "      <th></th>\n",
       "      <th>Duracao</th>\n",
       "      <th>protocolo</th>\n",
       "      <th>PortaOrigem</th>\n",
       "      <th>Direcao</th>\n",
       "      <th>PortaDestino</th>\n",
       "      <th>Estado</th>\n",
       "      <th>sTos</th>\n",
       "      <th>dTos</th>\n",
       "      <th>TotPkts</th>\n",
       "      <th>TotBytes</th>\n",
       "      <th>SrcBytes</th>\n",
       "      <th>Rotulo</th>\n",
       "    </tr>\n",
       "  </thead>\n",
       "  <tbody>\n",
       "    <tr>\n",
       "      <th>0</th>\n",
       "      <td>633.004517</td>\n",
       "      <td>1</td>\n",
       "      <td>49615</td>\n",
       "      <td>1</td>\n",
       "      <td>31002</td>\n",
       "      <td>1</td>\n",
       "      <td>0</td>\n",
       "      <td>0</td>\n",
       "      <td>1231</td>\n",
       "      <td>107062</td>\n",
       "      <td>36468</td>\n",
       "      <td>1</td>\n",
       "    </tr>\n",
       "    <tr>\n",
       "      <th>1</th>\n",
       "      <td>18.405928</td>\n",
       "      <td>1</td>\n",
       "      <td>49980</td>\n",
       "      <td>2</td>\n",
       "      <td>80</td>\n",
       "      <td>2</td>\n",
       "      <td>0</td>\n",
       "      <td>0</td>\n",
       "      <td>11</td>\n",
       "      <td>1838</td>\n",
       "      <td>793</td>\n",
       "      <td>1</td>\n",
       "    </tr>\n",
       "    <tr>\n",
       "      <th>2</th>\n",
       "      <td>0.000217</td>\n",
       "      <td>2</td>\n",
       "      <td>58255</td>\n",
       "      <td>1</td>\n",
       "      <td>53</td>\n",
       "      <td>3</td>\n",
       "      <td>0</td>\n",
       "      <td>0</td>\n",
       "      <td>2</td>\n",
       "      <td>214</td>\n",
       "      <td>81</td>\n",
       "      <td>1</td>\n",
       "    </tr>\n",
       "    <tr>\n",
       "      <th>3</th>\n",
       "      <td>0.178527</td>\n",
       "      <td>1</td>\n",
       "      <td>49803</td>\n",
       "      <td>1</td>\n",
       "      <td>443</td>\n",
       "      <td>4</td>\n",
       "      <td>0</td>\n",
       "      <td>0</td>\n",
       "      <td>3</td>\n",
       "      <td>180</td>\n",
       "      <td>120</td>\n",
       "      <td>1</td>\n",
       "    </tr>\n",
       "    <tr>\n",
       "      <th>4</th>\n",
       "      <td>3092.976807</td>\n",
       "      <td>2</td>\n",
       "      <td>13363</td>\n",
       "      <td>1</td>\n",
       "      <td>5318</td>\n",
       "      <td>3</td>\n",
       "      <td>0</td>\n",
       "      <td>0</td>\n",
       "      <td>4</td>\n",
       "      <td>274</td>\n",
       "      <td>154</td>\n",
       "      <td>1</td>\n",
       "    </tr>\n",
       "  </tbody>\n",
       "</table>\n",
       "</div>"
      ],
      "text/plain": [
       "       Duracao  protocolo  PortaOrigem  Direcao  PortaDestino  Estado  sTos  \\\n",
       "0   633.004517          1        49615        1         31002       1     0   \n",
       "1    18.405928          1        49980        2            80       2     0   \n",
       "2     0.000217          2        58255        1            53       3     0   \n",
       "3     0.178527          1        49803        1           443       4     0   \n",
       "4  3092.976807          2        13363        1          5318       3     0   \n",
       "\n",
       "   dTos  TotPkts  TotBytes  SrcBytes  Rotulo  \n",
       "0     0     1231    107062     36468       1  \n",
       "1     0       11      1838       793       1  \n",
       "2     0        2       214        81       1  \n",
       "3     0        3       180       120       1  \n",
       "4     0        4       274       154       1  "
      ]
     },
     "execution_count": 42,
     "metadata": {},
     "output_type": "execute_result"
    }
   ],
   "source": [
    "dados_formatados.head()"
   ]
  },
  {
   "cell_type": "code",
   "execution_count": 43,
   "id": "31150ac7",
   "metadata": {
    "scrolled": true
   },
   "outputs": [
    {
     "name": "stdout",
     "output_type": "stream",
     "text": [
      "[1 2]\n"
     ]
    }
   ],
   "source": [
    "valores_distintos = dados_formatados['Rotulo'].unique()\n",
    "print(valores_distintos)"
   ]
  },
  {
   "cell_type": "code",
   "execution_count": null,
   "id": "faf97d08",
   "metadata": {
    "scrolled": true
   },
   "outputs": [],
   "source": []
  },
  {
   "cell_type": "code",
   "execution_count": null,
   "id": "cd243a5f",
   "metadata": {
    "scrolled": true
   },
   "outputs": [],
   "source": []
  },
  {
   "cell_type": "code",
   "execution_count": 44,
   "id": "b50b172e",
   "metadata": {
    "scrolled": true
   },
   "outputs": [
    {
     "data": {
      "text/plain": [
       "<Axes: ylabel='Rotulo'>"
      ]
     },
     "execution_count": 44,
     "metadata": {},
     "output_type": "execute_result"
    },
    {
     "data": {
      "image/png": "[encoded data removed]",
      "text/plain": [
       "<Figure size 640x480 with 1 Axes>"
      ]
     },
     "metadata": {},
     "output_type": "display_data"
    }
   ],
   "source": [
    "#Separar os dados e suas classes\n",
    "x =  dados_formatados.drop(\"Rotulo\",axis = 1)\n",
    "y =  dados_formatados.Rotulo\n",
    "\n",
    "y.value_counts().plot.pie(autopct='%.2f')"
   ]
  },
  {
   "cell_type": "code",
   "execution_count": 45,
   "id": "52a5fb8e",
   "metadata": {
    "scrolled": true
   },
   "outputs": [
    {
     "data": {
      "image/png": "[encoded data removed]",
      "text/plain": [
       "<Figure size 640x480 with 1 Axes>"
      ]
     },
     "metadata": {},
     "output_type": "display_data"
    }
   ],
   "source": [
    "ax = sns.countplot(x=y)"
   ]
  },
  {
   "cell_type": "code",
   "execution_count": 46,
   "id": "db6eac19",
   "metadata": {
    "scrolled": true
   },
   "outputs": [],
   "source": [
    "#!pip install -U imbalanced-learn"
   ]
  },
  {
   "cell_type": "code",
   "execution_count": 47,
   "id": "1fc53e77",
   "metadata": {
    "scrolled": true
   },
   "outputs": [
    {
     "name": "stdout",
     "output_type": "stream",
     "text": [
      "Contagem das classes Antes do adasyn: Counter({1: 1179151, 2: 10153})\n",
      "Contagem das classes Depois do adasyn: Counter({1: 1179151, 2: 707503})\n"
     ]
    }
   ],
   "source": [
    "# Aplicando ADASYN Com Geracao de dados sinteticos a 60% da classe maioritaria\n",
    "print(\"Contagem das classes Antes do adasyn:\", Counter(y))\n",
    "adasyn = ADASYN(sampling_strategy=0.6, n_neighbors=5)\n",
    "x_resample,y_resample = adasyn.fit_resample(x,y)\n",
    "print(\"Contagem das classes Depois do adasyn:\", Counter(y_resample))"
   ]
  },
  {
   "cell_type": "code",
   "execution_count": 48,
   "id": "cb598ef4",
   "metadata": {
    "scrolled": true
   },
   "outputs": [
    {
     "data": {
      "image/png": "[encoded data removed]",
      "text/plain": [
       "<Figure size 640x480 with 1 Axes>"
      ]
     },
     "metadata": {},
     "output_type": "display_data"
    }
   ],
   "source": [
    "ax = sns.countplot(x=y_resample)"
   ]
  },
  {
   "cell_type": "code",
   "execution_count": 49,
   "id": "c646808f",
   "metadata": {
    "scrolled": true
   },
   "outputs": [],
   "source": [
    "#Aplicar a tecnica de NearMiss\n",
    "near_miss = NearMiss()\n",
    "x_resample1, y_resample1 = near_miss.fit_resample(x_resample,y_resample)"
   ]
  },
  {
   "cell_type": "code",
   "execution_count": 50,
   "id": "416b430d",
   "metadata": {
    "scrolled": true
   },
   "outputs": [
    {
     "data": {
      "image/png": "[encoded data removed]",
      "text/plain": [
       "<Figure size 640x480 with 1 Axes>"
      ]
     },
     "metadata": {},
     "output_type": "display_data"
    }
   ],
   "source": [
    "ax = sns.countplot(x=y_resample1)"
   ]
  },
  {
   "cell_type": "code",
   "execution_count": 51,
   "id": "449282de",
   "metadata": {
    "scrolled": true
   },
   "outputs": [
    {
     "name": "stdout",
     "output_type": "stream",
     "text": [
      "Contagem das classes Depois do Near_Miss: Counter({1: 1126133, 2: 1126133})\n"
     ]
    }
   ],
   "source": [
    "print(\"Contagem das classes Depois do Near_Miss:\", Counter(y_resample1))"
   ]
  },
  {
   "cell_type": "code",
   "execution_count": 51,
   "id": "eea710c0",
   "metadata": {
    "scrolled": true
   },
   "outputs": [
    {
     "data": {
      "text/html": [
       "<div>\n",
       "<style scoped>\n",
       "    .dataframe tbody tr th:only-of-type {\n",
       "        vertical-align: middle;\n",
       "    }\n",
       "\n",
       "    .dataframe tbody tr th {\n",
       "        vertical-align: top;\n",
       "    }\n",
       "\n",
       "    .dataframe thead th {\n",
       "        text-align: right;\n",
       "    }\n",
       "</style>\n",
       "<table border=\"1\" class=\"dataframe\">\n",
       "  <thead>\n",
       "    <tr style=\"text-align: right;\">\n",
       "      <th></th>\n",
       "      <th>Duracao</th>\n",
       "      <th>protocolo</th>\n",
       "      <th>PortaOrigem</th>\n",
       "      <th>Direcao</th>\n",
       "      <th>PortaDestino</th>\n",
       "      <th>Estado</th>\n",
       "      <th>sTos</th>\n",
       "      <th>dTos</th>\n",
       "      <th>TotPkts</th>\n",
       "      <th>TotBytes</th>\n",
       "      <th>SrcBytes</th>\n",
       "      <th>Rotulo</th>\n",
       "    </tr>\n",
       "  </thead>\n",
       "  <tbody>\n",
       "    <tr>\n",
       "      <th>0</th>\n",
       "      <td>0.0</td>\n",
       "      <td>3</td>\n",
       "      <td>13363</td>\n",
       "      <td>2</td>\n",
       "      <td>53</td>\n",
       "      <td>20</td>\n",
       "      <td>0</td>\n",
       "      <td>0</td>\n",
       "      <td>1</td>\n",
       "      <td>536</td>\n",
       "      <td>536</td>\n",
       "      <td>1</td>\n",
       "    </tr>\n",
       "    <tr>\n",
       "      <th>1</th>\n",
       "      <td>0.0</td>\n",
       "      <td>3</td>\n",
       "      <td>13363</td>\n",
       "      <td>2</td>\n",
       "      <td>53</td>\n",
       "      <td>20</td>\n",
       "      <td>0</td>\n",
       "      <td>0</td>\n",
       "      <td>1</td>\n",
       "      <td>304</td>\n",
       "      <td>304</td>\n",
       "      <td>1</td>\n",
       "    </tr>\n",
       "    <tr>\n",
       "      <th>2</th>\n",
       "      <td>0.0</td>\n",
       "      <td>3</td>\n",
       "      <td>13363</td>\n",
       "      <td>2</td>\n",
       "      <td>53</td>\n",
       "      <td>20</td>\n",
       "      <td>0</td>\n",
       "      <td>0</td>\n",
       "      <td>1</td>\n",
       "      <td>357</td>\n",
       "      <td>357</td>\n",
       "      <td>1</td>\n",
       "    </tr>\n",
       "    <tr>\n",
       "      <th>3</th>\n",
       "      <td>0.0</td>\n",
       "      <td>3</td>\n",
       "      <td>13363</td>\n",
       "      <td>2</td>\n",
       "      <td>53</td>\n",
       "      <td>20</td>\n",
       "      <td>0</td>\n",
       "      <td>0</td>\n",
       "      <td>1</td>\n",
       "      <td>419</td>\n",
       "      <td>419</td>\n",
       "      <td>1</td>\n",
       "    </tr>\n",
       "    <tr>\n",
       "      <th>4</th>\n",
       "      <td>0.0</td>\n",
       "      <td>3</td>\n",
       "      <td>13363</td>\n",
       "      <td>2</td>\n",
       "      <td>53</td>\n",
       "      <td>20</td>\n",
       "      <td>0</td>\n",
       "      <td>0</td>\n",
       "      <td>1</td>\n",
       "      <td>225</td>\n",
       "      <td>225</td>\n",
       "      <td>1</td>\n",
       "    </tr>\n",
       "  </tbody>\n",
       "</table>\n",
       "</div>"
      ],
      "text/plain": [
       "   Duracao  protocolo  PortaOrigem  Direcao  PortaDestino  Estado  sTos  dTos  \\\n",
       "0      0.0          3        13363        2            53      20     0     0   \n",
       "1      0.0          3        13363        2            53      20     0     0   \n",
       "2      0.0          3        13363        2            53      20     0     0   \n",
       "3      0.0          3        13363        2            53      20     0     0   \n",
       "4      0.0          3        13363        2            53      20     0     0   \n",
       "\n",
       "   TotPkts  TotBytes  SrcBytes  Rotulo  \n",
       "0        1       536       536       1  \n",
       "1        1       304       304       1  \n",
       "2        1       357       357       1  \n",
       "3        1       419       419       1  \n",
       "4        1       225       225       1  "
      ]
     },
     "execution_count": 51,
     "metadata": {},
     "output_type": "execute_result"
    }
   ],
   "source": [
    "dados_c10_equilibrados = x_resample1\n",
    "dados_c10_equilibrados[\"Rotulo\"] =y_resample1\n",
    "dados_c10_equilibrados.head()"
   ]
  },
  {
   "cell_type": "code",
   "execution_count": 52,
   "id": "a882e258",
   "metadata": {
    "scrolled": true
   },
   "outputs": [
    {
     "data": {
      "text/plain": [
       "Duracao         1415006\n",
       "protocolo       1415006\n",
       "PortaOrigem     1415006\n",
       "Direcao         1415006\n",
       "PortaDestino    1415006\n",
       "Estado          1415006\n",
       "sTos            1415006\n",
       "dTos            1415006\n",
       "TotPkts         1415006\n",
       "TotBytes        1415006\n",
       "SrcBytes        1415006\n",
       "Rotulo          1415006\n",
       "dtype: int64"
      ]
     },
     "execution_count": 52,
     "metadata": {},
     "output_type": "execute_result"
    }
   ],
   "source": [
    "dados_c10_equilibrados.count()"
   ]
  },
  {
   "cell_type": "code",
   "execution_count": 53,
   "id": "017305ca",
   "metadata": {
    "scrolled": true
   },
   "outputs": [],
   "source": [
    "# Restaure as colunas categóricas para obter o DataFrame original\n",
    "dados_c10_equil_restaurado = restaurar_atributos_categoricos(dados_c10_equilibrados, dicionario_mapa)"
   ]
  },
  {
   "cell_type": "code",
   "execution_count": 54,
   "id": "153aeee6",
   "metadata": {
    "scrolled": true
   },
   "outputs": [
    {
     "data": {
      "text/plain": [
       "Duracao         0\n",
       "protocolo       0\n",
       "PortaOrigem     0\n",
       "Direcao         0\n",
       "PortaDestino    0\n",
       "Estado          0\n",
       "sTos            0\n",
       "dTos            0\n",
       "TotPkts         0\n",
       "TotBytes        0\n",
       "SrcBytes        0\n",
       "Rotulo          0\n",
       "dtype: int64"
      ]
     },
     "execution_count": 54,
     "metadata": {},
     "output_type": "execute_result"
    }
   ],
   "source": [
    "dados_c10_equil_restaurado.isnull().sum()"
   ]
  },
  {
   "cell_type": "code",
   "execution_count": 55,
   "id": "17dae57a",
   "metadata": {
    "scrolled": true
   },
   "outputs": [
    {
     "data": {
      "image/png": "[encoded data removed]",
      "text/plain": [
       "<Figure size 640x480 with 1 Axes>"
      ]
     },
     "metadata": {},
     "output_type": "display_data"
    }
   ],
   "source": [
    "ax = sns.countplot(x=\"Rotulo\", data =  dados_c10_equil_restaurado)"
   ]
  },
  {
   "cell_type": "code",
   "execution_count": 56,
   "id": "12c95c9e",
   "metadata": {
    "scrolled": true
   },
   "outputs": [
    {
     "name": "stdout",
     "output_type": "stream",
     "text": [
      "<class 'pandas.core.frame.DataFrame'>\n",
      "RangeIndex: 1415006 entries, 0 to 1415005\n",
      "Data columns (total 12 columns):\n",
      " #   Column        Non-Null Count    Dtype  \n",
      "---  ------        --------------    -----  \n",
      " 0   Duracao       1415006 non-null  float64\n",
      " 1   protocolo     1415006 non-null  object \n",
      " 2   PortaOrigem   1415006 non-null  int32  \n",
      " 3   Direcao       1415006 non-null  object \n",
      " 4   PortaDestino  1415006 non-null  int32  \n",
      " 5   Estado        1415006 non-null  object \n",
      " 6   sTos          1415006 non-null  int32  \n",
      " 7   dTos          1415006 non-null  int32  \n",
      " 8   TotPkts       1415006 non-null  int32  \n",
      " 9   TotBytes      1415006 non-null  int32  \n",
      " 10  SrcBytes      1415006 non-null  int32  \n",
      " 11  Rotulo        1415006 non-null  object \n",
      "dtypes: float64(1), int32(7), object(4)\n",
      "memory usage: 91.8+ MB\n"
     ]
    }
   ],
   "source": [
    "dados_c10_equil_restaurado.info()"
   ]
  },
  {
   "cell_type": "code",
   "execution_count": 62,
   "id": "f95b4f0d",
   "metadata": {
    "scrolled": true
   },
   "outputs": [
    {
     "name": "stdout",
     "output_type": "stream",
     "text": [
      "Requirement already satisfied: hdfs in c:\\users\\belilo\\anaconda3\\lib\\site-packages (2.7.3)\n",
      "Requirement already satisfied: docopt in c:\\users\\belilo\\anaconda3\\lib\\site-packages (from hdfs) (0.6.2)\n",
      "Requirement already satisfied: requests>=2.7.0 in c:\\users\\belilo\\anaconda3\\lib\\site-packages (from hdfs) (2.31.0)\n",
      "Requirement already satisfied: six>=1.9.0 in c:\\users\\belilo\\anaconda3\\lib\\site-packages (from hdfs) (1.16.0)\n",
      "Requirement already satisfied: charset-normalizer<4,>=2 in c:\\users\\belilo\\anaconda3\\lib\\site-packages (from requests>=2.7.0->hdfs) (2.0.4)\n",
      "Requirement already satisfied: idna<4,>=2.5 in c:\\users\\belilo\\anaconda3\\lib\\site-packages (from requests>=2.7.0->hdfs) (3.4)\n",
      "Requirement already satisfied: urllib3<3,>=1.21.1 in c:\\users\\belilo\\anaconda3\\lib\\site-packages (from requests>=2.7.0->hdfs) (1.26.16)\n",
      "Requirement already satisfied: certifi>=2017.4.17 in c:\\users\\belilo\\anaconda3\\lib\\site-packages (from requests>=2.7.0->hdfs) (2023.7.22)\n",
      "Requirement already satisfied: hdfs in c:\\users\\belilo\\anaconda3\\lib\\site-packages (2.7.3)\n",
      "Requirement already satisfied: docopt in c:\\users\\belilo\\anaconda3\\lib\\site-packages (from hdfs) (0.6.2)\n",
      "Requirement already satisfied: requests>=2.7.0 in c:\\users\\belilo\\anaconda3\\lib\\site-packages (from hdfs) (2.31.0)\n",
      "Requirement already satisfied: six>=1.9.0 in c:\\users\\belilo\\anaconda3\\lib\\site-packages (from hdfs) (1.16.0)\n",
      "Requirement already satisfied: charset-normalizer<4,>=2 in c:\\users\\belilo\\anaconda3\\lib\\site-packages (from requests>=2.7.0->hdfs) (2.0.4)\n",
      "Requirement already satisfied: idna<4,>=2.5 in c:\\users\\belilo\\anaconda3\\lib\\site-packages (from requests>=2.7.0->hdfs) (3.4)\n",
      "Requirement already satisfied: urllib3<3,>=1.21.1 in c:\\users\\belilo\\anaconda3\\lib\\site-packages (from requests>=2.7.0->hdfs) (1.26.16)\n",
      "Requirement already satisfied: certifi>=2017.4.17 in c:\\users\\belilo\\anaconda3\\lib\\site-packages (from requests>=2.7.0->hdfs) (2023.7.22)\n",
      "Note: you may need to restart the kernel to use updated packages.\n"
     ]
    }
   ],
   "source": [
    "pip install hdfs"
   ]
  },
  {
   "cell_type": "code",
   "execution_count": 63,
   "id": "5c584569",
   "metadata": {
    "scrolled": true
   },
   "outputs": [],
   "source": [
    "from hdfs import InsecureClient\n",
    "hdfs_client = InsecureClient('http://localhost:9870', user='Belilo')"
   ]
  },
  {
   "cell_type": "code",
   "execution_count": 64,
   "id": "af8da8f8",
   "metadata": {
    "scrolled": true
   },
   "outputs": [],
   "source": [
    "dados_c10_equil_restaurado.to_csv('dados_treino_c10_equilibrado.csv', index=False)"
   ]
  },
  {
   "cell_type": "code",
   "execution_count": 65,
   "id": "b87e635a",
   "metadata": {},
   "outputs": [
    {
     "data": {
      "text/html": [
       "<div>\n",
       "<style scoped>\n",
       "    .dataframe tbody tr th:only-of-type {\n",
       "        vertical-align: middle;\n",
       "    }\n",
       "\n",
       "    .dataframe tbody tr th {\n",
       "        vertical-align: top;\n",
       "    }\n",
       "\n",
       "    .dataframe thead th {\n",
       "        text-align: right;\n",
       "    }\n",
       "</style>\n",
       "<table border=\"1\" class=\"dataframe\">\n",
       "  <thead>\n",
       "    <tr style=\"text-align: right;\">\n",
       "      <th></th>\n",
       "      <th>Duracao</th>\n",
       "      <th>protocolo</th>\n",
       "      <th>PortaOrigem</th>\n",
       "      <th>Direcao</th>\n",
       "      <th>PortaDestino</th>\n",
       "      <th>Estado</th>\n",
       "      <th>sTos</th>\n",
       "      <th>dTos</th>\n",
       "      <th>TotPkts</th>\n",
       "      <th>TotBytes</th>\n",
       "      <th>SrcBytes</th>\n",
       "      <th>Rotulo</th>\n",
       "    </tr>\n",
       "  </thead>\n",
       "  <tbody>\n",
       "    <tr>\n",
       "      <th>0</th>\n",
       "      <td>0.0</td>\n",
       "      <td>icmp</td>\n",
       "      <td>13363</td>\n",
       "      <td>-&gt;</td>\n",
       "      <td>53</td>\n",
       "      <td>URP</td>\n",
       "      <td>0</td>\n",
       "      <td>0</td>\n",
       "      <td>1</td>\n",
       "      <td>536</td>\n",
       "      <td>536</td>\n",
       "      <td>Normal</td>\n",
       "    </tr>\n",
       "    <tr>\n",
       "      <th>1</th>\n",
       "      <td>0.0</td>\n",
       "      <td>icmp</td>\n",
       "      <td>13363</td>\n",
       "      <td>-&gt;</td>\n",
       "      <td>53</td>\n",
       "      <td>URP</td>\n",
       "      <td>0</td>\n",
       "      <td>0</td>\n",
       "      <td>1</td>\n",
       "      <td>304</td>\n",
       "      <td>304</td>\n",
       "      <td>Normal</td>\n",
       "    </tr>\n",
       "    <tr>\n",
       "      <th>2</th>\n",
       "      <td>0.0</td>\n",
       "      <td>icmp</td>\n",
       "      <td>13363</td>\n",
       "      <td>-&gt;</td>\n",
       "      <td>53</td>\n",
       "      <td>URP</td>\n",
       "      <td>0</td>\n",
       "      <td>0</td>\n",
       "      <td>1</td>\n",
       "      <td>357</td>\n",
       "      <td>357</td>\n",
       "      <td>Normal</td>\n",
       "    </tr>\n",
       "    <tr>\n",
       "      <th>3</th>\n",
       "      <td>0.0</td>\n",
       "      <td>icmp</td>\n",
       "      <td>13363</td>\n",
       "      <td>-&gt;</td>\n",
       "      <td>53</td>\n",
       "      <td>URP</td>\n",
       "      <td>0</td>\n",
       "      <td>0</td>\n",
       "      <td>1</td>\n",
       "      <td>419</td>\n",
       "      <td>419</td>\n",
       "      <td>Normal</td>\n",
       "    </tr>\n",
       "    <tr>\n",
       "      <th>4</th>\n",
       "      <td>0.0</td>\n",
       "      <td>icmp</td>\n",
       "      <td>13363</td>\n",
       "      <td>-&gt;</td>\n",
       "      <td>53</td>\n",
       "      <td>URP</td>\n",
       "      <td>0</td>\n",
       "      <td>0</td>\n",
       "      <td>1</td>\n",
       "      <td>225</td>\n",
       "      <td>225</td>\n",
       "      <td>Normal</td>\n",
       "    </tr>\n",
       "  </tbody>\n",
       "</table>\n",
       "</div>"
      ],
      "text/plain": [
       "   Duracao protocolo  PortaOrigem Direcao  PortaDestino Estado  sTos  dTos  \\\n",
       "0      0.0      icmp        13363      ->            53    URP     0     0   \n",
       "1      0.0      icmp        13363      ->            53    URP     0     0   \n",
       "2      0.0      icmp        13363      ->            53    URP     0     0   \n",
       "3      0.0      icmp        13363      ->            53    URP     0     0   \n",
       "4      0.0      icmp        13363      ->            53    URP     0     0   \n",
       "\n",
       "   TotPkts  TotBytes  SrcBytes  Rotulo  \n",
       "0        1       536       536  Normal  \n",
       "1        1       304       304  Normal  \n",
       "2        1       357       357  Normal  \n",
       "3        1       419       419  Normal  \n",
       "4        1       225       225  Normal  "
      ]
     },
     "execution_count": 65,
     "metadata": {},
     "output_type": "execute_result"
    }
   ],
   "source": [
    "dados_c10_equil_restaurado.head()"
   ]
  },
  {
   "cell_type": "code",
   "execution_count": 67,
   "id": "225170a8",
   "metadata": {
    "scrolled": true
   },
   "outputs": [
    {
     "data": {
      "text/plain": [
       "'/user/belilo/ctu13/preprocessamentofase2/dados_treino_c10_equilibrado.csv'"
      ]
     },
     "execution_count": 67,
     "metadata": {},
     "output_type": "execute_result"
    }
   ],
   "source": [
    "hdfs_destino = '/user/belilo/ctu13/preprocessamentofase2'\n",
    "hdfs_client.upload(hdfs_destino, 'dados_treino_c10_equilibrado.csv')"
   ]
  },
  {
   "cell_type": "markdown",
   "id": "a84b101b",
   "metadata": {},
   "source": [
    "\n",
    "### Aplicacao de transformacao  nos dados para Treinamento e teste"
   ]
  },
  {
   "cell_type": "code",
   "execution_count": 5,
   "id": "ed7e901d",
   "metadata": {
    "scrolled": true
   },
   "outputs": [],
   "source": [
    "#dados de treino armazenado no hdfs\n",
    "caminhohdfs = 'hdfs://localhost:9000/user/belilo/ctu13/preprocessamentofase2/dados_treino_c10_equilibrado.csv'\n",
    "dados_c10_equilibrado = spark.read.csv(caminhohdfs, header=True, inferSchema=True)"
   ]
  },
  {
   "cell_type": "code",
   "execution_count": 6,
   "id": "37835541",
   "metadata": {
    "scrolled": true
   },
   "outputs": [
    {
     "name": "stdout",
     "output_type": "stream",
     "text": [
      "Duracao  :  0\n",
      "protocolo  :  0\n",
      "PortaOrigem  :  0\n",
      "Direcao  :  0\n",
      "PortaDestino  :  0\n",
      "Estado  :  0\n",
      "sTos  :  0\n",
      "dTos  :  0\n",
      "TotPkts  :  0\n",
      "TotBytes  :  0\n",
      "SrcBytes  :  0\n",
      "Rotulo  :  0\n"
     ]
    }
   ],
   "source": [
    "verificaNullCol(dados_c10_equilibrado)"
   ]
  },
  {
   "cell_type": "code",
   "execution_count": 7,
   "id": "ea9f5834",
   "metadata": {},
   "outputs": [
    {
     "name": "stdout",
     "output_type": "stream",
     "text": [
      "+-------+---------+-----------+-------+------------+------+----+----+-------+--------+--------+------+\n",
      "|Duracao|protocolo|PortaOrigem|Direcao|PortaDestino|Estado|sTos|dTos|TotPkts|TotBytes|SrcBytes|Rotulo|\n",
      "+-------+---------+-----------+-------+------------+------+----+----+-------+--------+--------+------+\n",
      "|    0.0|     icmp|      13363|     ->|          53|   URP|   0|   0|      1|     536|     536|Normal|\n",
      "|    0.0|     icmp|      13363|     ->|          53|   URP|   0|   0|      1|     304|     304|Normal|\n",
      "|    0.0|     icmp|      13363|     ->|          53|   URP|   0|   0|      1|     357|     357|Normal|\n",
      "+-------+---------+-----------+-------+------------+------+----+----+-------+--------+--------+------+\n",
      "only showing top 3 rows\n",
      "\n"
     ]
    }
   ],
   "source": [
    "dados_c10_equilibrado.show(3)"
   ]
  },
  {
   "cell_type": "code",
   "execution_count": 6,
   "id": "a4376836",
   "metadata": {
    "scrolled": true
   },
   "outputs": [],
   "source": [
    "def stringIndex(df):\n",
    "  variavesCategoricas =['protocolo','Direcao','Estado','Rotulo']\n",
    "  stages = []\n",
    "  for column in variavesCategoricas:\n",
    "      indexer = StringIndexer(inputCol=column, outputCol=column+\"_index\")\n",
    "      stages += [indexer]\n",
    "  input_columns = ['Duracao','protocolo_index','PortaOrigem','Direcao_index', 'PortaDestino','Estado_index'\\\n",
    "                   ,'sTos','dTos', 'TotPkts', 'TotBytes','SrcBytes']\n",
    "\n",
    "  assembler = VectorAssembler(inputCols=input_columns, outputCol=\"features\")\n",
    "  stages += [assembler]\n",
    "  pipeline = Pipeline(stages=stages)\n",
    "\n",
    "  transformed_df = pipeline.fit(df).transform(df)\n",
    "  dado = transformed_df\n",
    "  return dado\n",
    "\n",
    "def padronizacao_de_dados(df):\n",
    "    df_padrizacao = df.select(f.col('features'),f.col('Rotulo_index')).withColumnRenamed(\"Rotulo_index\",'label')\n",
    "    standerscaler = StandardScaler().setInputCol('features').setOutputCol('scaled_features')\n",
    "    df_padronizado = standerscaler.fit(df_padrizacao).transform(df_padrizacao)\n",
    "    return df_padronizado"
   ]
  },
  {
   "cell_type": "code",
   "execution_count": 7,
   "id": "c0ad6307",
   "metadata": {},
   "outputs": [],
   "source": [
    "dfc10 = stringIndex(dados_c10_equilibrado)"
   ]
  },
  {
   "cell_type": "code",
   "execution_count": 8,
   "id": "72f6ca10",
   "metadata": {},
   "outputs": [
    {
     "name": "stdout",
     "output_type": "stream",
     "text": [
      "+-------+---------+-----------+-------+------------+------+----+----+-------+--------+--------+------+---------------+-------------+------------+------------+--------------------+\n",
      "|Duracao|protocolo|PortaOrigem|Direcao|PortaDestino|Estado|sTos|dTos|TotPkts|TotBytes|SrcBytes|Rotulo|protocolo_index|Direcao_index|Estado_index|Rotulo_index|            features|\n",
      "+-------+---------+-----------+-------+------------+------+----+----+-------+--------+--------+------+---------------+-------------+------------+------------+--------------------+\n",
      "|    0.0|     icmp|      13363|     ->|          53|   URP|   0|   0|      1|     536|     536|Normal|            1.0|          0.0|         5.0|         1.0|[0.0,1.0,13363.0,...|\n",
      "|    0.0|     icmp|      13363|     ->|          53|   URP|   0|   0|      1|     304|     304|Normal|            1.0|          0.0|         5.0|         1.0|[0.0,1.0,13363.0,...|\n",
      "|    0.0|     icmp|      13363|     ->|          53|   URP|   0|   0|      1|     357|     357|Normal|            1.0|          0.0|         5.0|         1.0|[0.0,1.0,13363.0,...|\n",
      "+-------+---------+-----------+-------+------------+------+----+----+-------+--------+--------+------+---------------+-------------+------------+------------+--------------------+\n",
      "only showing top 3 rows\n",
      "\n"
     ]
    }
   ],
   "source": [
    "dfc10.show(3)"
   ]
  },
  {
   "cell_type": "code",
   "execution_count": 9,
   "id": "e8a85244",
   "metadata": {},
   "outputs": [],
   "source": [
    "dfc10_padronizado = padronizacao_de_dados(dfc10)"
   ]
  },
  {
   "cell_type": "code",
   "execution_count": 10,
   "id": "f698dd6f",
   "metadata": {},
   "outputs": [
    {
     "name": "stdout",
     "output_type": "stream",
     "text": [
      "+--------------------+-----+--------------------+\n",
      "|            features|label|     scaled_features|\n",
      "+--------------------+-----+--------------------+\n",
      "|[0.0,1.0,13363.0,...|  1.0|[0.0,1.2762908869...|\n",
      "|[0.0,1.0,13363.0,...|  1.0|[0.0,1.2762908869...|\n",
      "|[0.0,1.0,13363.0,...|  1.0|[0.0,1.2762908869...|\n",
      "+--------------------+-----+--------------------+\n",
      "only showing top 3 rows\n",
      "\n"
     ]
    }
   ],
   "source": [
    "dfc10_padronizado.show(3)"
   ]
  },
  {
   "cell_type": "markdown",
   "id": "0eb08545",
   "metadata": {
    "collapsed": true,
    "scrolled": true
   },
   "source": [
    "### Treinamento dos modelos"
   ]
  },
  {
   "cell_type": "code",
   "execution_count": 11,
   "id": "7909f674",
   "metadata": {
    "scrolled": true
   },
   "outputs": [],
   "source": [
    " # Divisão dos dados treinamento, validação e teste\n",
    "df_treinamentoc10, df_testec10 = dfc10_padronizado.randomSplit([0.7, 0.3], seed=123)"
   ]
  },
  {
   "cell_type": "code",
   "execution_count": 14,
   "id": "4456faf4",
   "metadata": {
    "scrolled": true
   },
   "outputs": [],
   "source": [
    "def grafico_percentagem_porporcao_dados_por_classes(df,tilulo_grafico):\n",
    "    df_pandas = df.select(\"label\").toPandas()\n",
    "    contagem_classes = df_pandas[\"label\"].value_counts()\n",
    "    porcentagens = contagem_classes / contagem_classes.sum() * 100\n",
    "    ax = porcentagens.plot(kind=\"bar\")\n",
    "    plt.title(tilulo_grafico)\n",
    "    plt.xlabel(\"Classe\")\n",
    "    plt.ylabel(\"Contagem\")\n",
    "    plt.xticks(rotation=0)  \n",
    "    for i, v in enumerate(porcentagens):\n",
    "        ax.text(i, v + 1, f\"{v:.2f}%\", ha=\"center\")\n",
    "    plt.show()"
   ]
  },
  {
   "cell_type": "code",
   "execution_count": 15,
   "id": "65773706",
   "metadata": {},
   "outputs": [
    {
     "data": {
      "text/plain": [
       "990052"
      ]
     },
     "execution_count": 15,
     "metadata": {},
     "output_type": "execute_result"
    }
   ],
   "source": [
    "df_treinamentoc10.count()"
   ]
  },
  {
   "cell_type": "code",
   "execution_count": null,
   "id": "282fcfed",
   "metadata": {},
   "outputs": [],
   "source": []
  },
  {
   "cell_type": "code",
   "execution_count": 16,
   "id": "7551d83b",
   "metadata": {},
   "outputs": [
    {
     "data": {
      "text/plain": [
       "424954"
      ]
     },
     "execution_count": 16,
     "metadata": {},
     "output_type": "execute_result"
    }
   ],
   "source": [
    "df_testec10.count()"
   ]
  },
  {
   "cell_type": "code",
   "execution_count": 23,
   "id": "1fe84e3b",
   "metadata": {},
   "outputs": [
    {
     "data": {
      "image/png": "[encoded data removed]",
      "text/plain": [
       "<Figure size 640x480 with 1 Axes>"
      ]
     },
     "metadata": {},
     "output_type": "display_data"
    }
   ],
   "source": [
    "grafico_percentagem_porporcao_dados_por_classes(df_treinamentoc10,\"Porporcao de dado por classe treino cenario 10\")"
   ]
  },
  {
   "cell_type": "code",
   "execution_count": null,
   "id": "89e957a9",
   "metadata": {},
   "outputs": [],
   "source": []
  },
  {
   "cell_type": "code",
   "execution_count": 24,
   "id": "37745282",
   "metadata": {},
   "outputs": [
    {
     "data": {
      "image/png": "[encoded data removed]",
      "text/plain": [
       "<Figure size 640x480 with 1 Axes>"
      ]
     },
     "metadata": {},
     "output_type": "display_data"
    }
   ],
   "source": [
    "grafico_percentagem_porporcao_dados_por_classes(df_testec10,\"Porporcao de dado por classe teste cenario 10\")"
   ]
  },
  {
   "cell_type": "code",
   "execution_count": 14,
   "id": "d169c28f",
   "metadata": {
    "scrolled": true
   },
   "outputs": [],
   "source": [
    "def perform_cross_validation_models(data, estimator, param_grid, num_folds, metric_name):\n",
    "    evaluator = MulticlassClassificationEvaluator(metricName=metric_name)\n",
    "    pipeline = Pipeline(stages=[estimator])\n",
    "    crossval = CrossValidator(estimator=pipeline\\\n",
    "                              ,estimatorParamMaps=param_grid\\\n",
    "                              ,evaluator=evaluator\\\n",
    "                              ,numFolds=num_folds\\\n",
    "                              ,seed=42)\n",
    "    cv_model = crossval.fit(data)\n",
    "    return cv_model"
   ]
  },
  {
   "cell_type": "code",
   "execution_count": null,
   "id": "19c73717",
   "metadata": {},
   "outputs": [],
   "source": []
  },
  {
   "cell_type": "code",
   "execution_count": 14,
   "id": "69eaec03",
   "metadata": {},
   "outputs": [],
   "source": [
    "from pyspark.ml.classification import GBTClassifier\n",
    "#CRIAR MODELOS\n",
    "nb = NaiveBayes(featuresCol=\"scaled_features\", labelCol=\"label\")\n",
    "dt = DecisionTreeClassifier(labelCol=\"label\", featuresCol=\"scaled_features\")\n",
    "rfc = RandomForestClassifier(labelCol='label', featuresCol='scaled_features')"
   ]
  },
  {
   "cell_type": "code",
   "execution_count": 15,
   "id": "e2130e93",
   "metadata": {},
   "outputs": [],
   "source": [
    "\n",
    "from pyspark.ml.tuning import ParamGridBuilder\n",
    "\n",
    "# Definindo os parâmetros para o grid\n",
    "paramGrid_nb = (ParamGridBuilder()\n",
    "                .addGrid(nb.smoothing, [0.1, 0.3, 0.5, 0.7, 0.9, 1])\n",
    "                .addGrid(nb.modelType, ['multinomial'])\n",
    "                .addGrid(nb.thresholds, [[0.5, 0.5], [0.6, 0.4], [0.4, 0.6]])\n",
    "                .build())\n",
    "\n",
    "paramGrid_dt = (ParamGridBuilder()\n",
    "                .addGrid(dt.maxDepth, [5, 10, 15, 20, 25, 28])\n",
    "                .addGrid(dt.maxBins, [16, 32, 64, 128, 256])\n",
    "                .build())\n",
    "\n",
    "paramGrid_rfc = (ParamGridBuilder()\n",
    "                 .addGrid(rfc.maxDepth, [5, 10, 18, 25, 28])\n",
    "                 .addGrid(rfc.maxBins, [16, 32, 64, 128, 256])\n",
    "                 .build())\n"
   ]
  },
  {
   "cell_type": "code",
   "execution_count": null,
   "id": "b01b2ad8",
   "metadata": {},
   "outputs": [],
   "source": []
  },
  {
   "cell_type": "code",
   "execution_count": 15,
   "id": "19735b1a",
   "metadata": {},
   "outputs": [],
   "source": [
    "# funcoes de processamento\n",
    "\n",
    "def predicao_modelo(modelo,df_teste):\n",
    "  predicao = modelo.transform(df_teste)\n",
    "  predicao = predicao.select(\"label\", \"prediction\")\n",
    "  return predicao\n",
    "\n",
    "def acuracia (df):\n",
    "    predicaorotulo=df.select('label','prediction')\n",
    "    Evaluator = MulticlassClassificationEvaluator(labelCol='label', predictionCol='prediction', metricName='accuracy')\n",
    "    acuracia_model = Evaluator.evaluate(predicaorotulo)\n",
    "    print(\"Acuracia: \", (acuracia_model * 100))\n",
    "    \n",
    "def precisao(df):\n",
    "    predicaorotulo =df.select('label','prediction')\n",
    "    Evaluator = MulticlassClassificationEvaluator(labelCol='label', predictionCol='prediction', metricName='precisionByLabel')\n",
    "    precisao_model = Evaluator.evaluate(predicaorotulo)\n",
    "\n",
    "    print(\"Precisao: \", (precisao_model * 100))\n",
    "    \n",
    "def revocacao_recall(df):\n",
    "    predicaorotulo = df.select('label','prediction')\n",
    "    Evaluator = MulticlassClassificationEvaluator(labelCol='label', predictionCol='prediction', metricName='recallByLabel')\n",
    "    recal_model = Evaluator.evaluate(predicaorotulo)\n",
    "    print(\"Recall: \", (recal_model * 100))\n",
    "    \n",
    "def f1_Score(df):\n",
    "    predicaorotulo = df.select('label','prediction')\n",
    "    Evaluator = MulticlassClassificationEvaluator(labelCol='label', predictionCol='prediction', metricName='f1')\n",
    "    f1_model = Evaluator.evaluate(predicaorotulo)\n",
    "    print(\"f1_score: \", (f1_model * 100))\n"
   ]
  },
  {
   "cell_type": "code",
   "execution_count": 16,
   "id": "b2a9a893",
   "metadata": {},
   "outputs": [],
   "source": [
    "def auc(predictions):\n",
    "    evaluator = BinaryClassificationEvaluator(labelCol=\"label\", rawPredictionCol=\"prediction\", metricName=\"areaUnderROC\")\n",
    "    area_ROC = evaluator.evaluate(predictions)\n",
    "    print(\"AUC: \", (area_ROC * 100))"
   ]
  },
  {
   "cell_type": "code",
   "execution_count": 17,
   "id": "09e08ce8",
   "metadata": {},
   "outputs": [],
   "source": [
    "# Funcao Matriz de confusao\n",
    "def matriz_de_confusao(predicao):\n",
    "    y_true = predicao.select(\"label\").toPandas()\n",
    "    y_pred = predicao.select(\"prediction\").toPandas()\n",
    "    Matriz_confusao = confusion_matrix(y_true, y_pred)\n",
    "    return Matriz_confusao\n",
    "\n",
    "# Visualizar Matriz de confusao\n",
    "def visualizar_matriz(matriz,tilulo):\n",
    "    classes = ['Botnet', 'Normal']\n",
    "    grafico = sns.heatmap(matriz, annot=True, cmap='Blues', fmt='d', xticklabels=classes\\\n",
    "                          , yticklabels=classes)\n",
    "    plt.figure(figsize=(8, 6))\n",
    "    grafico.set_title(tilulo)\n",
    "    plt.xlabel('Classe Predita')\n",
    "    plt.ylabel('Classe Real')\n",
    "    plt.show()\n",
    "    \n",
    "import seaborn as sns\n",
    "import matplotlib.pyplot as plt\n",
    "from sklearn.metrics import confusion_matrix\n",
    "\n",
    "def matriz_de_confusao_percentagem(predicao):\n",
    "    y_true = predicao.select(\"label\").toPandas()\n",
    "    y_pred = predicao.select(\"prediction\").toPandas()\n",
    "    Matriz_confusao = confusion_matrix(y_true, y_pred)    \n",
    "    total_por_classe = Matriz_confusao.sum(axis=1)\n",
    "    matriz_percentagem = (Matriz_confusao.T / total_por_classe).T\n",
    "    return matriz_percentagem\n",
    "\n",
    "# Visualizar Matriz de confusao em porcentagem\n",
    "def visualizar_matriz_percentagem(matriz, titulo):\n",
    "    classes = ['Botnet', 'Normal']\n",
    "    grafico = sns.heatmap(matriz, annot=True, cmap='Blues', fmt='.2%', xticklabels=classes, yticklabels=classes)\n",
    "    grafico.set_title(titulo)\n",
    "    plt.xlabel('Classe Predita')\n",
    "    plt.ylabel('Classe Real')\n",
    "    plt.show()"
   ]
  },
  {
   "cell_type": "code",
   "execution_count": 16,
   "id": "642e4136",
   "metadata": {},
   "outputs": [],
   "source": [
    "import pandas as pd\n",
    "from pyspark.ml.tuning import CrossValidator\n",
    "from pyspark.ml.evaluation import MulticlassClassificationEvaluator\n",
    "from pyspark.sql import functions as F\n",
    "\n",
    "def custom_cross_validation(data, model, param_grid, num_folds):\n",
    "    evaluator = MulticlassClassificationEvaluator()\n",
    "    metrics = []\n",
    "    \n",
    "    data_with_fold = data.withColumn('fold', (F.rand() * num_folds).cast('int'))\n",
    "    \n",
    "    crossval = CrossValidator(estimator=model,\n",
    "                              estimatorParamMaps=param_grid,\n",
    "                              evaluator=evaluator,\n",
    "                              numFolds=num_folds,\n",
    "                              seed=42)\n",
    "    \n",
    "    cv_model = crossval.fit(data_with_fold)\n",
    "    \n",
    "    best_models = cv_model.bestModel\n",
    "    \n",
    "    for fold in range(num_folds):\n",
    "        train = data_with_fold.filter(data_with_fold['fold'] != fold)\n",
    "        test = data_with_fold.filter(data_with_fold['fold'] == fold)\n",
    "        \n",
    "        predictions = best_models.transform(test)\n",
    "        \n",
    "        accuracy = evaluator.evaluate(predictions, {evaluator.metricName: \"accuracy\"})\n",
    "        precision = evaluator.evaluate(predictions, {evaluator.metricName: \"weightedPrecision\"})\n",
    "        recall = evaluator.evaluate(predictions, {evaluator.metricName: \"weightedRecall\"})\n",
    "        f1_score = evaluator.evaluate(predictions, {evaluator.metricName: \"f1\"})\n",
    "        \n",
    "        metrics.append({'Fold': fold + 1,\n",
    "                        'Acuracia': accuracy,\n",
    "                        'Precisao': precision,\n",
    "                        'Recall': recall,\n",
    "                        'F1-score': f1_score})\n",
    "    \n",
    "    mean_metrics = {'Fold': 'Total media'}\n",
    "    for metric_name in ['Acuracia', 'Precisao', 'Recall', 'F1-score']:\n",
    "        mean_metrics[metric_name] = sum(metric[metric_name] for metric in metrics) / num_folds\n",
    "    \n",
    "    metrics.append(mean_metrics)\n",
    "    \n",
    "    df_metrics = pd.DataFrame(metrics)\n",
    "    \n",
    "    return df_metrics"
   ]
  },
  {
   "cell_type": "code",
   "execution_count": 17,
   "id": "ab85317f",
   "metadata": {},
   "outputs": [],
   "source": [
    "resultados = custom_cross_validation(df_treinamentoc10, nb, paramGrid_nb, 5)"
   ]
  },
  {
   "cell_type": "code",
   "execution_count": 18,
   "id": "fe6221a0",
   "metadata": {},
   "outputs": [
    {
     "name": "stdout",
     "output_type": "stream",
     "text": [
      "MELHORES DESEMPENHO EM CADA FOLD PARA TODAS METRICAS NB\n",
      "          Fold  Acuracia  Precisao    Recall  F1-score\n",
      "0            1  0.839108  0.840434  0.839108  0.838950\n",
      "1            2  0.839374  0.840800  0.839374  0.839190\n",
      "2            3  0.840367  0.841762  0.840367  0.840199\n",
      "3            4  0.839885  0.841203  0.839885  0.839717\n",
      "4            5  0.839726  0.841384  0.839726  0.839564\n",
      "5  Total media  0.839692  0.841117  0.839692  0.839524\n"
     ]
    }
   ],
   "source": [
    "print (\"MELHORES DESEMPENHO EM CADA FOLD PARA TODAS METRICAS NB\")\n",
    "print(resultados)"
   ]
  },
  {
   "cell_type": "code",
   "execution_count": 19,
   "id": "9966d5c7",
   "metadata": {},
   "outputs": [],
   "source": [
    "resultados_dt = custom_cross_validation(df_treinamentoc10, dt, paramGrid_dt, 5)"
   ]
  },
  {
   "cell_type": "code",
   "execution_count": 20,
   "id": "86dc4a42",
   "metadata": {},
   "outputs": [
    {
     "name": "stdout",
     "output_type": "stream",
     "text": [
      "MELHORES DESEMPENHO EM CADA FOLD PARA TODAS METRICAS DT\n",
      "          Fold  Acuracia  Precisao    Recall  F1-score\n",
      "0            1  0.999950  0.999950  0.999950  0.999950\n",
      "1            2  0.999934  0.999934  0.999934  0.999934\n",
      "2            3  0.999949  0.999949  0.999949  0.999949\n",
      "3            4  0.999934  0.999934  0.999934  0.999934\n",
      "4            5  0.999934  0.999934  0.999934  0.999934\n",
      "5  Total media  0.999940  0.999940  0.999940  0.999940\n"
     ]
    }
   ],
   "source": [
    "print(\"MELHORES DESEMPENHO EM CADA FOLD PARA TODAS METRICAS DT\")\n",
    "print(resultados_dt)"
   ]
  },
  {
   "cell_type": "code",
   "execution_count": 21,
   "id": "0b83505a",
   "metadata": {},
   "outputs": [],
   "source": [
    "resultados_rfc = custom_cross_validation(df_treinamentoc10, rfc, paramGrid_rfc, 5)"
   ]
  },
  {
   "cell_type": "code",
   "execution_count": 22,
   "id": "7aa686f8",
   "metadata": {},
   "outputs": [
    {
     "name": "stdout",
     "output_type": "stream",
     "text": [
      "MELHORES DESEMPENHO EM CADA FOLD PARA TODAS METRICAS  RFC\n",
      "          Fold  Acuracia  Precisao    Recall  F1-score\n",
      "0            1  0.999914  0.999914  0.999914  0.999914\n",
      "1            2  0.999930  0.999930  0.999930  0.999930\n",
      "2            3  0.999929  0.999929  0.999929  0.999929\n",
      "3            4  0.999934  0.999934  0.999934  0.999934\n",
      "4            5  0.999975  0.999975  0.999975  0.999975\n",
      "5  Total media  0.999936  0.999936  0.999936  0.999936\n"
     ]
    }
   ],
   "source": [
    "print(\"MELHORES DESEMPENHO EM CADA FOLD PARA TODAS METRICAS  RFC\")\n",
    "print(resultados_rfc)"
   ]
  },
  {
   "cell_type": "code",
   "execution_count": null,
   "id": "2cfd130e",
   "metadata": {},
   "outputs": [],
   "source": []
  },
  {
   "cell_type": "code",
   "execution_count": null,
   "id": "a391aa64",
   "metadata": {},
   "outputs": [],
   "source": []
  },
  {
   "cell_type": "code",
   "execution_count": 18,
   "id": "5b7400ef",
   "metadata": {},
   "outputs": [],
   "source": [
    "cv_model_nb_models = perform_cross_validation_models(df_treinamentoc10,nb, paramGrid_nb, 5,\"f1\")"
   ]
  },
  {
   "cell_type": "code",
   "execution_count": 22,
   "id": "3d9d70c4",
   "metadata": {},
   "outputs": [],
   "source": [
    "cv_model_dt = perform_cross_validation_models(df_treinamentoc10,dt, paramGrid_dt, 5,\"f1\")"
   ]
  },
  {
   "cell_type": "code",
   "execution_count": 33,
   "id": "228c9ee3",
   "metadata": {},
   "outputs": [],
   "source": [
    "cv_model_rfc = perform_cross_validation_models(df_treinamentoc10,rfc, paramGrid_rfc, 5,\"f1\")"
   ]
  },
  {
   "cell_type": "code",
   "execution_count": null,
   "id": "e427bfa5",
   "metadata": {},
   "outputs": [],
   "source": []
  },
  {
   "cell_type": "markdown",
   "id": "39f402d5",
   "metadata": {},
   "source": [
    " ## Graficos"
   ]
  },
  {
   "cell_type": "markdown",
   "id": "e5b9ee21",
   "metadata": {},
   "source": [
    "### Graficos de curva de aprendizado"
   ]
  },
  {
   "cell_type": "code",
   "execution_count": 27,
   "id": "bd8cbc49",
   "metadata": {},
   "outputs": [],
   "source": [
    "import matplotlib.pyplot as plt\n",
    "import numpy as np\n",
    "from pyspark.ml.tuning import CrossValidatorModel\n",
    "from pyspark.ml.evaluation import MulticlassClassificationEvaluator\n",
    "\n",
    "\n",
    "def plot_learning_curve(cv_model, metric_name,model_name):\n",
    "    train_metrics = cv_model.avgMetrics\n",
    "    val_metrics = cv_model.avgMetrics\n",
    "    plt.plot(train_metrics, label='Treinamento {}'.format(metric_name))\n",
    "    plt.plot(val_metrics, label='Validação {}'.format(metric_name))\n",
    "    plt.xlabel('Número de Iteraçõess')\n",
    "    plt.ylabel(metric_name)\n",
    "    plt.title('Curva de Aprendizado para {} em cada Fold - {}'.format(metric_name, model_name))\n",
    "    #plt.xticks(range(len(train_metrics)), range(len(train_metrics)))\n",
    "    plt.legend()\n",
    "    plt.show()\n",
    "\n",
    "def get_metrics(cv_model, metric_name):\n",
    "    avg_metrics = cv_model.avgMetrics\n",
    "    best_index = np.argmax(avg_metrics)\n",
    "    best_metric = avg_metrics[best_index]\n",
    "    print(\"Best {} achieved: {:.4f}\".format(metric_name, best_metric))\n",
    "    return best_metric\n",
    "\n",
    "def evaluate_model(cv_model, metric_name):\n",
    "    evaluator = MulticlassClassificationEvaluator(metricName=metric_name)\n",
    "    train_metric = evaluator.evaluate(cv_model.transform(df_treinamentoc10))\n",
    "    test_metric = evaluator.evaluate(cv_model.transform(df_testec10))\n",
    "    print(\"Training {} for best model: {:.4f}\".format(metric_name, train_metric))\n",
    "    print(\"Test {} for best model: {:.4f}\".format(metric_name, test_metric))\n",
    "\n"
   ]
  },
  {
   "cell_type": "code",
   "execution_count": null,
   "id": "bf21d68b",
   "metadata": {},
   "outputs": [],
   "source": []
  },
  {
   "cell_type": "code",
   "execution_count": 28,
   "id": "93467b31",
   "metadata": {},
   "outputs": [
    {
     "data": {
      "image/png": "[encoded data removed]",
      "text/plain": [
       "<Figure size 640x480 with 1 Axes>"
      ]
     },
     "metadata": {},
     "output_type": "display_data"
    }
   ],
   "source": [
    "\n",
    "plot_learning_curve(cv_model_nb_models, \"f1-score\",\"Nave Bayes\")\n"
   ]
  },
  {
   "cell_type": "code",
   "execution_count": 24,
   "id": "7e827a1b",
   "metadata": {},
   "outputs": [
    {
     "name": "stdout",
     "output_type": "stream",
     "text": [
      "Best f1-score achieved: 0.8395\n"
     ]
    }
   ],
   "source": [
    "best_f1_nb = get_metrics(cv_model_nb_models, \"f1-score\")\n"
   ]
  },
  {
   "cell_type": "code",
   "execution_count": 27,
   "id": "19b30513",
   "metadata": {},
   "outputs": [
    {
     "name": "stdout",
     "output_type": "stream",
     "text": [
      "Training f1 for best model: 0.8395\n",
      "Test f1 for best model: 0.8400\n"
     ]
    }
   ],
   "source": [
    "evaluate_model(cv_model_nb_models, \"f1\")\n"
   ]
  },
  {
   "cell_type": "code",
   "execution_count": null,
   "id": "ba1d7a87",
   "metadata": {},
   "outputs": [],
   "source": []
  },
  {
   "cell_type": "code",
   "execution_count": null,
   "id": "160963a7",
   "metadata": {},
   "outputs": [],
   "source": []
  },
  {
   "cell_type": "code",
   "execution_count": 29,
   "id": "2db425a5",
   "metadata": {},
   "outputs": [
    {
     "data": {
      "image/png": "[encoded data removed]",
      "text/plain": [
       "<Figure size 640x480 with 1 Axes>"
      ]
     },
     "metadata": {},
     "output_type": "display_data"
    }
   ],
   "source": [
    "plot_learning_curve(cv_model_dt, \"f1-score\",\"Decision Tree\")"
   ]
  },
  {
   "cell_type": "code",
   "execution_count": 30,
   "id": "a66ecf61",
   "metadata": {},
   "outputs": [
    {
     "name": "stdout",
     "output_type": "stream",
     "text": [
      "Best f1-score achieved: 0.9999\n"
     ]
    }
   ],
   "source": [
    "best_f1_nb = get_metrics(cv_model_dt, \"f1-score\")"
   ]
  },
  {
   "cell_type": "code",
   "execution_count": 31,
   "id": "42af1b23",
   "metadata": {},
   "outputs": [
    {
     "name": "stdout",
     "output_type": "stream",
     "text": [
      "Training f1 for best model: 0.9999\n",
      "Test f1 for best model: 0.9999\n"
     ]
    }
   ],
   "source": [
    "evaluate_model(cv_model_dt, \"f1\")"
   ]
  },
  {
   "cell_type": "code",
   "execution_count": null,
   "id": "7585dc29",
   "metadata": {},
   "outputs": [],
   "source": []
  },
  {
   "cell_type": "code",
   "execution_count": null,
   "id": "2f2c9979",
   "metadata": {},
   "outputs": [],
   "source": []
  },
  {
   "cell_type": "code",
   "execution_count": 35,
   "id": "221a05e3",
   "metadata": {},
   "outputs": [
    {
     "data": {
      "image/png": "[encoded data removed]",
      "text/plain": [
       "<Figure size 640x480 with 1 Axes>"
      ]
     },
     "metadata": {},
     "output_type": "display_data"
    }
   ],
   "source": [
    "plot_learning_curve(cv_model_rfc, \"f1-score\", \"Random Forest\")"
   ]
  },
  {
   "cell_type": "code",
   "execution_count": 36,
   "id": "7e479219",
   "metadata": {},
   "outputs": [
    {
     "name": "stdout",
     "output_type": "stream",
     "text": [
      "Best f1-score achieved: 0.9999\n"
     ]
    }
   ],
   "source": [
    "best_f1_nb = get_metrics(cv_model_rfc, \"f1-score\")"
   ]
  },
  {
   "cell_type": "code",
   "execution_count": 37,
   "id": "e6a19659",
   "metadata": {},
   "outputs": [
    {
     "name": "stdout",
     "output_type": "stream",
     "text": [
      "Training f1 for best model: 0.9999\n",
      "Test f1 for best model: 0.9999\n"
     ]
    }
   ],
   "source": [
    "evaluate_model(cv_model_rfc, \"f1\")"
   ]
  },
  {
   "cell_type": "code",
   "execution_count": null,
   "id": "6dccb6d0",
   "metadata": {},
   "outputs": [],
   "source": []
  },
  {
   "cell_type": "code",
   "execution_count": null,
   "id": "d9274c0e",
   "metadata": {},
   "outputs": [],
   "source": []
  },
  {
   "cell_type": "markdown",
   "id": "8d0dc482",
   "metadata": {
    "scrolled": true
   },
   "source": [
    " "
   ]
  },
  {
   "cell_type": "markdown",
   "id": "fca2b43d",
   "metadata": {},
   "source": [
    "### Grafico de curva ROC"
   ]
  },
  {
   "cell_type": "code",
   "execution_count": 26,
   "id": "b38bf6d5",
   "metadata": {},
   "outputs": [],
   "source": [
    "import pandas as pd\n",
    "from sklearn.metrics import roc_curve, auc\n",
    "import matplotlib.pyplot as plt\n",
    "\n",
    "def plot_roc_curves1(models, test_data):\n",
    "    plt.figure(figsize=(8, 6))\n",
    "    for model_name, model in models.items():\n",
    "        predictions = model.transform(test_data)\n",
    "        probabilities = predictions.select('label', 'probability').toPandas()\n",
    "        fpr, tpr, _ = roc_curve(probabilities['label'], probabilities['probability'].apply(lambda x: x[1]))\n",
    "        roc_auc = auc(fpr, tpr)\n",
    "        plt.plot(fpr, tpr, label='%s (AUC = %0.2f)' % (model_name, roc_auc))\n",
    "    plt.plot([0, 1], [0, 1], linestyle='--', color='r', label='Random')\n",
    "    plt.title('Curvas ROC para Modelos')\n",
    "    plt.xlabel('Taxa de Falsos Positivos')\n",
    "    plt.ylabel('Taxa de Verdadeiros Positivos')\n",
    "    plt.legend()\n",
    "    plt.show()\n"
   ]
  },
  {
   "cell_type": "code",
   "execution_count": 27,
   "id": "2eee1c46",
   "metadata": {},
   "outputs": [],
   "source": [
    "# Crie um dicionário com os modelos treinados\n",
    "models = {\n",
    "    'Naive Bayes': cv_model_nb_models.bestModel,\n",
    "    'Decision Tree': cv_model_dt.bestModel,\n",
    "    'Random Forest': cv_model_rfc.bestModel,\n",
    "}"
   ]
  },
  {
   "cell_type": "code",
   "execution_count": 28,
   "id": "09f09897",
   "metadata": {},
   "outputs": [
    {
     "data": {
      "image/png": "[encoded data removed]",
      "text/plain": [
       "<Figure size 800x600 with 1 Axes>"
      ]
     },
     "metadata": {},
     "output_type": "display_data"
    }
   ],
   "source": [
    "# Chame a função para plotar as curvas ROC\n",
    "plot_roc_curves1(models, df_testec10)"
   ]
  },
  {
   "cell_type": "code",
   "execution_count": null,
   "id": "2a51890e",
   "metadata": {},
   "outputs": [],
   "source": []
  },
  {
   "cell_type": "markdown",
   "id": "105236ef",
   "metadata": {},
   "source": [
    "# Avaliacao dos modelos (Predicao"
   ]
  },
  {
   "cell_type": "code",
   "execution_count": null,
   "id": "12e72514",
   "metadata": {},
   "outputs": [],
   "source": []
  },
  {
   "cell_type": "code",
   "execution_count": 29,
   "id": "518cb086",
   "metadata": {},
   "outputs": [],
   "source": [
    "def melhor_modelo (cv_model):\n",
    "  best_model = cv_model.bestModel\n",
    "  return best_model"
   ]
  },
  {
   "cell_type": "code",
   "execution_count": null,
   "id": "2dc9bffe",
   "metadata": {},
   "outputs": [],
   "source": []
  },
  {
   "cell_type": "code",
   "execution_count": 30,
   "id": "c2b76774",
   "metadata": {},
   "outputs": [],
   "source": [
    "melhor_model_nb = melhor_modelo (cv_model_nb_models)\n",
    "melhor_model_dt = melhor_modelo (cv_model_dt)\n",
    "melhor_model_rfc = melhor_modelo (cv_model_rfc)"
   ]
  },
  {
   "cell_type": "code",
   "execution_count": 54,
   "id": "768c2a40",
   "metadata": {},
   "outputs": [],
   "source": [
    "from sklearn.metrics import classification_report\n",
    "import pandas as pd\n",
    "def reporte_classificacao(bestModel,df_teste):\n",
    "    predictions = cv_model_nb_models.transform(df_teste)\n",
    "    predictions_pd = predictions.select(\"label\", \"prediction\").toPandas()\n",
    "    y_true = predictions_pd[\"label\"].tolist()\n",
    "    y_pred = predictions_pd[\"prediction\"].tolist()\n",
    "    reporte = classification_report(y_true, y_pred)\n",
    "    return reporte\n"
   ]
  },
  {
   "cell_type": "code",
   "execution_count": 55,
   "id": "97e72a29",
   "metadata": {},
   "outputs": [],
   "source": [
    "\n",
    "reporte_classf_nb = reporte_classificacao(melhor_model_nb,df_testec10)\n",
    "reporte_classf_dt = reporte_classificacao(melhor_model_dt,df_testec10)\n",
    "reporte_classf_rfc = reporte_classificacao(melhor_model_rfc,df_testec10)\n"
   ]
  },
  {
   "cell_type": "code",
   "execution_count": 56,
   "id": "b102f3ef",
   "metadata": {
    "scrolled": true
   },
   "outputs": [
    {
     "name": "stdout",
     "output_type": "stream",
     "text": [
      "              precision    recall  f1-score   support\n",
      "\n",
      "         0.0       0.87      1.00      0.93     17285\n",
      "         1.0       1.00      0.85      0.92     17376\n",
      "\n",
      "    accuracy                           0.92     34661\n",
      "   macro avg       0.93      0.92      0.92     34661\n",
      "weighted avg       0.93      0.92      0.92     34661\n",
      "\n"
     ]
    }
   ],
   "source": [
    "# Imprimir o relatório de classificação\n",
    "print(reporte_classf_nb)\n",
    "\n"
   ]
  },
  {
   "cell_type": "code",
   "execution_count": 57,
   "id": "3ce2cbc1",
   "metadata": {},
   "outputs": [
    {
     "name": "stdout",
     "output_type": "stream",
     "text": [
      "              precision    recall  f1-score   support\n",
      "\n",
      "         0.0       0.87      1.00      0.93     17285\n",
      "         1.0       1.00      0.85      0.92     17376\n",
      "\n",
      "    accuracy                           0.92     34661\n",
      "   macro avg       0.93      0.92      0.92     34661\n",
      "weighted avg       0.93      0.92      0.92     34661\n",
      "\n"
     ]
    }
   ],
   "source": [
    "print(reporte_classf_dt)"
   ]
  },
  {
   "cell_type": "code",
   "execution_count": 58,
   "id": "dd9050c5",
   "metadata": {},
   "outputs": [
    {
     "name": "stdout",
     "output_type": "stream",
     "text": [
      "              precision    recall  f1-score   support\n",
      "\n",
      "         0.0       0.87      1.00      0.93     17285\n",
      "         1.0       1.00      0.85      0.92     17376\n",
      "\n",
      "    accuracy                           0.92     34661\n",
      "   macro avg       0.93      0.92      0.92     34661\n",
      "weighted avg       0.93      0.92      0.92     34661\n",
      "\n"
     ]
    }
   ],
   "source": [
    "print(reporte_classf_rfc)"
   ]
  },
  {
   "cell_type": "code",
   "execution_count": null,
   "id": "9f38f97f",
   "metadata": {},
   "outputs": [],
   "source": []
  },
  {
   "cell_type": "code",
   "execution_count": null,
   "id": "a5309414",
   "metadata": {},
   "outputs": [],
   "source": []
  },
  {
   "cell_type": "code",
   "execution_count": 37,
   "id": "23513ad1",
   "metadata": {},
   "outputs": [],
   "source": [
    "# Caminho no HDFS onde você deseja salvar o modelo\n",
    "caminho_modelo = \"hdfs://localhost:9000/user/belilo/ctu13/preprocessamentofase2/melhor_modelo_nbcenario10\"\n",
    "# Salvar o modelo no HDFS\n",
    "melhor_model_nb.save(caminho_modelo)"
   ]
  },
  {
   "cell_type": "code",
   "execution_count": 38,
   "id": "15d70a32",
   "metadata": {},
   "outputs": [],
   "source": [
    "caminho_modelo2 = \"hdfs://localhost:9000/user/belilo/ctu13/preprocessamentofase2/melhor_modelo_dtcenario10\"\n",
    "caminho_modelo3 = \"hdfs://localhost:9000/user/belilo/ctu13/preprocessamentofase2/melhor_modelo_rfccenario10\"\n",
    "caminho_modelo4 = \"hdfs://localhost:9000/user/belilo/ctu13/preprocessamentofase2/melhor_modelo_gbtcenario10\"\n",
    "melhor_model_dt.save(caminho_modelo2)\n",
    "melhor_model_rfc.save(caminho_modelo3)\n",
    "melhor_model_gbt.save(caminho_modelo4)"
   ]
  },
  {
   "cell_type": "code",
   "execution_count": 94,
   "id": "8432ed48",
   "metadata": {},
   "outputs": [],
   "source": []
  },
  {
   "cell_type": "code",
   "execution_count": 31,
   "id": "d8dc9443",
   "metadata": {},
   "outputs": [],
   "source": [
    "predicao_melhor_modelo_nb = predicao_modelo(melhor_model_nb ,df_testec10)\n",
    "predicao_melhor_modelo_dt = predicao_modelo(melhor_model_dt ,df_testec10)\n",
    "predicao_melhor_modelo_rfc = predicao_modelo(melhor_model_rfc ,df_testec10)"
   ]
  },
  {
   "cell_type": "code",
   "execution_count": 36,
   "id": "1529b69a",
   "metadata": {},
   "outputs": [
    {
     "name": "stdout",
     "output_type": "stream",
     "text": [
      "Metricas: \n",
      "\n",
      "Naive Bayes\n",
      "Acuracia:  84.01638765607572\n",
      "Precisao:  86.30480837776238\n",
      "Recall:  80.87901127697512\n",
      "f1_score:  84.00075664349482\n",
      "AUC:  84.01756935878493\n"
     ]
    }
   ],
   "source": [
    "print(\"Metricas: \")\n",
    "print()\n",
    "print(\"Naive Bayes\")\n",
    "acuracia (predicao_melhor_modelo_nb)\n",
    "precisao(predicao_melhor_modelo_nb)\n",
    "revocacao_recall(predicao_melhor_modelo_nb)\n",
    "f1_Score(predicao_melhor_modelo_nb)\n",
    "auc(predicao_melhor_modelo_nb)"
   ]
  },
  {
   "cell_type": "code",
   "execution_count": null,
   "id": "bffcc6f6",
   "metadata": {},
   "outputs": [],
   "source": []
  },
  {
   "cell_type": "code",
   "execution_count": 37,
   "id": "46f9879e",
   "metadata": {},
   "outputs": [
    {
     "name": "stdout",
     "output_type": "stream",
     "text": [
      "Metricas: \n",
      "\n",
      "Melhor modelo Arvore de Decisao\n",
      "Acuracia:  99.988939979386\n",
      "Precisao:  99.97789317228273\n",
      "Recall:  100.0\n",
      "f1_score:  99.98893997879014\n",
      "AUC:  99.98893581359437\n"
     ]
    }
   ],
   "source": [
    "print(\"Metricas: \")\n",
    "print()\n",
    "print(\"Melhor modelo Arvore de Decisao\")\n",
    "acuracia (predicao_melhor_modelo_dt)\n",
    "precisao(predicao_melhor_modelo_dt)\n",
    "revocacao_recall(predicao_melhor_modelo_dt)\n",
    "f1_Score(predicao_melhor_modelo_dt)\n",
    "auc(predicao_melhor_modelo_dt)"
   ]
  },
  {
   "cell_type": "code",
   "execution_count": 38,
   "id": "db05f4a2",
   "metadata": {},
   "outputs": [
    {
     "name": "stdout",
     "output_type": "stream",
     "text": [
      "Metricas: \n",
      "\n",
      " Random Forest Classifier\n",
      "Acuracia:  99.99058721649872\n",
      "Precisao:  99.98165526000142\n",
      "Recall:  99.99952953795923\n",
      "f1_score:  99.99058721610656\n",
      "AUC:  99.99058384834515\n"
     ]
    }
   ],
   "source": [
    "print(\"Metricas: \")\n",
    "print()\n",
    "print(\" Random Forest Classifier\")\n",
    "acuracia (predicao_melhor_modelo_rfc)\n",
    "precisao(predicao_melhor_modelo_rfc)\n",
    "revocacao_recall(predicao_melhor_modelo_rfc)\n",
    "f1_Score(predicao_melhor_modelo_rfc)\n",
    "auc(predicao_melhor_modelo_rfc)"
   ]
  },
  {
   "cell_type": "code",
   "execution_count": null,
   "id": "71c108d9",
   "metadata": {},
   "outputs": [],
   "source": []
  },
  {
   "cell_type": "code",
   "execution_count": null,
   "id": "cdc948d6",
   "metadata": {},
   "outputs": [],
   "source": []
  },
  {
   "cell_type": "code",
   "execution_count": 39,
   "id": "acdc754b",
   "metadata": {},
   "outputs": [],
   "source": [
    "# MATRIZ DE CONFUSAO\n",
    "matrz_nb = matriz_de_confusao(predicao_melhor_modelo_nb)\n",
    "matrz_dt = matriz_de_confusao(predicao_melhor_modelo_dt)\n",
    "matrz_rfc = matriz_de_confusao(predicao_melhor_modelo_rfc)\n",
    "matrz_nb_percentagem = matriz_de_confusao_percentagem(predicao_melhor_modelo_nb)\n",
    "matrz_dt_percentagem = matriz_de_confusao_percentagem(predicao_melhor_modelo_dt)\n",
    "matrz_rfc_percentagem = matriz_de_confusao_percentagem(predicao_melhor_modelo_rfc)"
   ]
  },
  {
   "cell_type": "code",
   "execution_count": null,
   "id": "0919aef6",
   "metadata": {},
   "outputs": [],
   "source": []
  },
  {
   "cell_type": "code",
   "execution_count": 40,
   "id": "dcd19dc6",
   "metadata": {},
   "outputs": [
    {
     "data": {
      "image/png": "[encoded data removed]",
      "text/plain": [
       "<Figure size 640x480 with 2 Axes>"
      ]
     },
     "metadata": {},
     "output_type": "display_data"
    },
    {
     "data": {
      "image/png": "[encoded data removed]",
      "text/plain": [
       "<Figure size 800x600 with 1 Axes>"
      ]
     },
     "metadata": {},
     "output_type": "display_data"
    }
   ],
   "source": [
    "#visualizar_matriz(matrz_nb,\"Matriz validacao cruzada de Naive\")\n",
    "visualizar_matriz(matrz_nb,\"Matriz validacao cruzada de Naive Bayes\")\n"
   ]
  },
  {
   "cell_type": "code",
   "execution_count": 41,
   "id": "68fd7c02",
   "metadata": {},
   "outputs": [
    {
     "data": {
      "image/png": "[encoded data removed]",
      "text/plain": [
       "<Figure size 640x480 with 2 Axes>"
      ]
     },
     "metadata": {},
     "output_type": "display_data"
    }
   ],
   "source": [
    "visualizar_matriz_percentagem(matrz_nb_percentagem,\"Matriz validacao cruzada de Naive Bayes\")"
   ]
  },
  {
   "cell_type": "code",
   "execution_count": 42,
   "id": "e3ec6638",
   "metadata": {},
   "outputs": [
    {
     "data": {
      "image/png": "[encoded data removed]",
      "text/plain": [
       "<Figure size 640x480 with 2 Axes>"
      ]
     },
     "metadata": {},
     "output_type": "display_data"
    },
    {
     "data": {
      "image/png": "[encoded data removed]",
      "text/plain": [
       "<Figure size 800x600 with 1 Axes>"
      ]
     },
     "metadata": {},
     "output_type": "display_data"
    }
   ],
   "source": [
    "visualizar_matriz(matrz_dt,\"Mat Validacao cruzada Arvore de Decisao\")\n"
   ]
  },
  {
   "cell_type": "code",
   "execution_count": 43,
   "id": "0f4936e8",
   "metadata": {},
   "outputs": [
    {
     "data": {
      "image/png": "[encoded data removed]",
      "text/plain": [
       "<Figure size 640x480 with 2 Axes>"
      ]
     },
     "metadata": {},
     "output_type": "display_data"
    },
    {
     "data": {
      "image/png": "[encoded data removed]",
      "text/plain": [
       "<Figure size 800x600 with 1 Axes>"
      ]
     },
     "metadata": {},
     "output_type": "display_data"
    }
   ],
   "source": [
    "visualizar_matriz(matrz_rfc,\"Matriz validacao cruzada de Floresta Aleatoria\")\n"
   ]
  },
  {
   "cell_type": "code",
   "execution_count": null,
   "id": "6df64f70",
   "metadata": {},
   "outputs": [],
   "source": []
  },
  {
   "cell_type": "code",
   "execution_count": 45,
   "id": "d4981aed",
   "metadata": {},
   "outputs": [
    {
     "data": {
      "image/png": "[encoded data removed]",
      "text/plain": [
       "<Figure size 640x480 with 2 Axes>"
      ]
     },
     "metadata": {},
     "output_type": "display_data"
    }
   ],
   "source": [
    "\n",
    "visualizar_matriz_percentagem(matrz_nb_percentagem,\"Matriz validacao cruzada de Naive Bayes\")\n"
   ]
  },
  {
   "cell_type": "code",
   "execution_count": 46,
   "id": "fe819e1d",
   "metadata": {
    "scrolled": true
   },
   "outputs": [
    {
     "data": {
      "image/png": "[encoded data removed]",
      "text/plain": [
       "<Figure size 640x480 with 2 Axes>"
      ]
     },
     "metadata": {},
     "output_type": "display_data"
    }
   ],
   "source": [
    "visualizar_matriz_percentagem(matrz_dt_percentagem,\"Matriz validacao cruzada Arvore de Decisao\")\n"
   ]
  },
  {
   "cell_type": "code",
   "execution_count": 47,
   "id": "934aaf9f",
   "metadata": {},
   "outputs": [
    {
     "data": {
      "image/png": "[encoded data removed]",
      "text/plain": [
       "<Figure size 640x480 with 2 Axes>"
      ]
     },
     "metadata": {},
     "output_type": "display_data"
    }
   ],
   "source": [
    "visualizar_matriz_percentagem(matrz_rfc_percentagem, \"Matriz de confusao floresta aleatoria\")\n"
   ]
  },
  {
   "cell_type": "code",
   "execution_count": null,
   "id": "72757c4f",
   "metadata": {
    "scrolled": true
   },
   "outputs": [],
   "source": []
  }
 ],
 "metadata": {
  "kernelspec": {
   "display_name": "pyspark-env",
   "language": "python",
   "name": "pyspark-env"
  },
  "language_info": {
   "codemirror_mode": {
    "name": "ipython",
    "version": 3
   },
   "file_extension": ".py",
   "mimetype": "text/x-python",
   "name": "python",
   "nbconvert_exporter": "python",
   "pygments_lexer": "ipython3",
   "version": "3.11.4"
  }
 },
 "nbformat": 4,
 "nbformat_minor": 5
}
